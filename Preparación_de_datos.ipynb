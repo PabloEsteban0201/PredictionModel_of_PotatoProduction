{
  "nbformat": 4,
  "nbformat_minor": 0,
  "metadata": {
    "colab": {
      "provenance": [],
      "toc_visible": true,
      "include_colab_link": true
    },
    "kernelspec": {
      "name": "python3",
      "display_name": "Python 3"
    },
    "language_info": {
      "name": "python"
    }
  },
  "cells": [
    {
      "cell_type": "markdown",
      "metadata": {
        "id": "view-in-github",
        "colab_type": "text"
      },
      "source": [
        "<a href=\"https://colab.research.google.com/github/PabloEsteban0201/PredictionModel_of_PotatoProduction/blob/main/Preparaci%C3%B3n_de_datos.ipynb\" target=\"_parent\"><img src=\"https://colab.research.google.com/assets/colab-badge.svg\" alt=\"Open In Colab\"/></a>"
      ]
    },
    {
      "cell_type": "markdown",
      "source": [
        "# **ETAPAS PREPARACION DE DATOS**"
      ],
      "metadata": {
        "id": "DvFE832hFrxh"
      }
    },
    {
      "cell_type": "markdown",
      "source": [
        "Primero revisar que los rendimientos estén bien calculado \n",
        "\n",
        "\n",
        "Revisar que los semestres A y B coincidan con los periodos"
      ],
      "metadata": {
        "id": "-sDIIYpSc9Jr"
      }
    },
    {
      "cell_type": "markdown",
      "source": [
        "Graficar columna de producción inicial"
      ],
      "metadata": {
        "id": "wEMy0IscfhlV"
      }
    },
    {
      "cell_type": "code",
      "source": [
        "import pandas as pd\n",
        "import matplotlib.pyplot as plt\n",
        "\n",
        "# Leer el archivo CSV\n",
        "df_original = pd.read_csv('./sample_data/dataset.csv')\n",
        "\n",
        "# Seleccionar la columna que se desea graficar\n",
        "columna = df_original['Produccion (t)']\n",
        "\n",
        "# Graficar los datos\n",
        "plt.plot(columna)\n",
        "\n",
        "# Agregar etiquetas al eje x y al eje y\n",
        "plt.xlabel('Registro')\n",
        "plt.ylabel('Produccion')\n",
        "\n",
        "# Mostrar el gráfico\n",
        "plt.show()\n"
      ],
      "metadata": {
        "colab": {
          "base_uri": "https://localhost:8080/",
          "height": 449
        },
        "id": "-jyn-weXfj3A",
        "outputId": "ec813f16-d962-4ea9-b9f1-d337cf44e11a"
      },
      "execution_count": null,
      "outputs": [
        {
          "output_type": "display_data",
          "data": {
            "text/plain": [
              "<Figure size 640x480 with 1 Axes>"
            ],
            "image/png": "[encoded data removed]"
          },
          "metadata": {}
        }
      ]
    },
    {
      "cell_type": "markdown",
      "source": [
        "### Número de registros iniciales"
      ],
      "metadata": {
        "id": "0Mh0Q9iuR-9g"
      }
    },
    {
      "cell_type": "code",
      "source": [
        "# Obtener el número de registros\n",
        "num_registros = df_original.shape[0]\n",
        "\n",
        "print(\"Número de registros:\", num_registros)"
      ],
      "metadata": {
        "colab": {
          "base_uri": "https://localhost:8080/"
        },
        "id": "M1PKIAXfUUEP",
        "outputId": "f7c7445b-a975-48ea-c633-2233d0e9ba76"
      },
      "execution_count": null,
      "outputs": [
        {
          "output_type": "stream",
          "name": "stdout",
          "text": [
            "Número de registros: 23080\n"
          ]
        }
      ]
    },
    {
      "cell_type": "code",
      "source": [
        "#print(df_original.head(20))"
      ],
      "metadata": {
        "id": "sgsM_fZmk2-c"
      },
      "execution_count": null,
      "outputs": []
    },
    {
      "cell_type": "markdown",
      "source": [
        "# 1.Deteccion de valores faltantes"
      ],
      "metadata": {
        "id": "IlMKXcerGFnD"
      }
    },
    {
      "cell_type": "markdown",
      "source": [
        "## Validación columna Rendimiento"
      ],
      "metadata": {
        "id": "DbjqmwV9hs7c"
      }
    },
    {
      "cell_type": "code",
      "source": [
        "import pandas as pd\n",
        "\n",
        "# Leer el archivo CSV\n",
        "df = pd.read_csv('./sample_data/dataset.csv')\n",
        "\n",
        "# Definir las columnas\n",
        "columna1 = df['Produccion (t)']\n",
        "columna2 = df['Area Cosechada (ha)']\n",
        "columna3 = df['Rendimiento (t/ha)']\n",
        "\n",
        "# Calcular la división de las dos primeras columnas\n",
        "division = columna1 / columna2\n",
        "\n",
        "# Verificar si la columna 3 es igual a la división calculada\n",
        "validacion = columna3 != division\n",
        "\n",
        "# Contar el número de filas en las que la validación es verdadera\n",
        "contador = validacion.sum()\n",
        "\n",
        "# Crear un nuevo dataframe con las filas donde se cumple la validación\n",
        "df_valido = df[validacion]\n",
        "\n",
        "# Imprimir el nuevo dataframe\n",
        "print(df_valido)\n",
        "\n",
        "# Imprimir el resultado\n",
        "print(f'Hay {contador} filas en las que la columna 3 es diferente a la división de las columnas 1 y 2.')\n"
      ],
      "metadata": {
        "colab": {
          "base_uri": "https://localhost:8080/"
        },
        "id": "F8Mw3LluhwZo",
        "outputId": "95ff7778-c62b-41a1-888f-148a45a98a43"
      },
      "execution_count": null,
      "outputs": [
        {
          "output_type": "stream",
          "name": "stdout",
          "text": [
            "                       TIPO           MUNICIPIO     CULTIVO PERIODO  \\\n",
            "6      CULTIVOS PERMANENTES          COVARACHIA    AGUACATE    2015   \n",
            "18     CULTIVOS PERMANENTES              RONDON    AGUACATE    2015   \n",
            "37     CULTIVOS PERMANENTES               NOBSA       BREVO    2015   \n",
            "53     CULTIVOS PERMANENTES  SAN LUIS DE GACENO       CACAO    2015   \n",
            "64     CULTIVOS PERMANENTES               CHITA        CAFE    2015   \n",
            "...                     ...                 ...         ...     ...   \n",
            "23068            Permanente           Zetaquirá        Café    2021   \n",
            "23070            Permanente           Zetaquirá    Aguacate    2021   \n",
            "23072            Permanente           Zetaquirá    Pitahaya    2021   \n",
            "23074            Permanente           Zetaquirá  Granadilla    2021   \n",
            "23079           Transitorio           Zetaquirá      Frijol   2021B   \n",
            "\n",
            "       Area Sembrada (ha)  Area Cosechada (ha)  Produccion (t)  \\\n",
            "6                     8.0                  NaN             NaN   \n",
            "18                    2.0                  NaN             NaN   \n",
            "37                   57.0                28.06           84.18   \n",
            "53                  107.0                48.00           38.40   \n",
            "64                    6.0                 6.00            4.80   \n",
            "...                   ...                  ...             ...   \n",
            "23068              1124.0              1029.00         1070.00   \n",
            "23070                 1.0                 0.00            0.00   \n",
            "23072                26.0                 0.00            0.00   \n",
            "23074                 5.0                 5.00           68.00   \n",
            "23079               350.0               335.00          503.00   \n",
            "\n",
            "       Rendimiento (t/ha)  \n",
            "6                     NaN  \n",
            "18                    NaN  \n",
            "37                    3.0  \n",
            "53                    0.8  \n",
            "64                    0.8  \n",
            "...                   ...  \n",
            "23068                 1.0  \n",
            "23070                 0.0  \n",
            "23072                 0.0  \n",
            "23074                15.0  \n",
            "23079                 2.0  \n",
            "\n",
            "[4232 rows x 8 columns]\n",
            "Hay 4232 filas en las que la columna 3 es diferente a la división de las columnas 1 y 2.\n"
          ]
        }
      ]
    },
    {
      "cell_type": "markdown",
      "source": [
        "Importante al principio se tenían 4232 filas mal calculadas y con valores anomalos"
      ],
      "metadata": {
        "id": "U2EtZ3ZATrOe"
      }
    },
    {
      "cell_type": "code",
      "source": [
        "import matplotlib.pyplot as plt\n",
        "\n",
        "# Datos\n",
        "categorias = ['Correctos', 'Incorrectos']\n",
        "\n",
        "datosCorrectos = len(df_original)-contador\n",
        "\n",
        "datos = [datosCorrectos, contador]\n",
        "\n",
        "# Configurar la figura y los ejes\n",
        "fig, ax = plt.subplots()\n",
        "\n",
        "# Crear la gráfica de barras\n",
        "ax.bar(categorias, datos)\n",
        "\n",
        "# Configurar etiquetas y título\n",
        "ax.set_xlabel('Valores')\n",
        "ax.set_ylabel('Cantidad')\n",
        "ax.set_title('Comparación de Valores')\n",
        "\n",
        "# Mostrar la gráfica\n",
        "plt.show()"
      ],
      "metadata": {
        "colab": {
          "base_uri": "https://localhost:8080/",
          "height": 472
        },
        "id": "9-iFW4ZdMyoM",
        "outputId": "efa5792f-187e-4863-9454-46a59edada41"
      },
      "execution_count": null,
      "outputs": [
        {
          "output_type": "display_data",
          "data": {
            "text/plain": [
              "<Figure size 640x480 with 1 Axes>"
            ],
            "image/png": "[encoded data removed]"
          },
          "metadata": {}
        }
      ]
    },
    {
      "cell_type": "code",
      "execution_count": null,
      "metadata": {
        "colab": {
          "base_uri": "https://localhost:8080/"
        },
        "id": "ic36ku0y_agU",
        "outputId": "b7f11a7b-fbb7-4088-e65e-bc6f31d2a527"
      },
      "outputs": [
        {
          "output_type": "stream",
          "name": "stdout",
          "text": [
            "Valores faltantes:\n",
            " TIPO                     0\n",
            "MUNICIPIO                0\n",
            "CULTIVO                  0\n",
            "PERIODO                  0\n",
            "Area Sembrada (ha)       0\n",
            "Area Cosechada (ha)    206\n",
            "Produccion (t)         219\n",
            "Rendimiento (t/ha)     231\n",
            "dtype: int64\n"
          ]
        }
      ],
      "source": [
        "import pandas as pd\n",
        "import numpy as np\n",
        "from sklearn.feature_selection import SelectKBest, f_classif\n",
        "\n",
        "data = pd.read_csv('./sample_data/dataset.csv')\n",
        "\n",
        "# Verificar si hay valores faltantes\n",
        "print(\"Valores faltantes:\\n\", data.isnull().sum())\n",
        "\n"
      ]
    },
    {
      "cell_type": "code",
      "source": [
        "import matplotlib.pyplot as plt\n",
        "\n",
        "# Datos\n",
        "categorias = ['Area Cosechada (ha)', 'Produccion (t)','Rendimiento (t/ha)']\n",
        "\n",
        "\n",
        "datos = [206,219,231]\n",
        "\n",
        "# Configurar la figura y los ejes\n",
        "fig, ax = plt.subplots()\n",
        "\n",
        "# Crear la gráfica de barras\n",
        "ax.bar(categorias, datos)\n",
        "\n",
        "\n",
        "# Configurar etiquetas y título\n",
        "ax.set_xlabel('Atributos')\n",
        "ax.set_ylabel('Cantidad')\n",
        "ax.set_title('Datos faltantes por atributo')\n",
        "\n",
        "# Mostrar la gráfica\n",
        "plt.show()"
      ],
      "metadata": {
        "colab": {
          "base_uri": "https://localhost:8080/",
          "height": 472
        },
        "id": "8tM8gYFtRSjx",
        "outputId": "358bc852-4a91-4c63-b25e-f204ba35a3e8"
      },
      "execution_count": null,
      "outputs": [
        {
          "output_type": "display_data",
          "data": {
            "text/plain": [
              "<Figure size 640x480 with 1 Axes>"
            ],
            "image/png": "[encoded data removed]"
          },
          "metadata": {}
        }
      ]
    },
    {
      "cell_type": "markdown",
      "source": [
        "## Encontrar registros con un solo valor nulo"
      ],
      "metadata": {
        "id": "ItRz5gI7ya0z"
      }
    },
    {
      "cell_type": "code",
      "source": [
        "import pandas as pd\n",
        "\n",
        "# Cargar el dataset desde el archivo CSV\n",
        "dataFrame_Boyaca = pd.read_csv('./sample_data/dataset.csv')\n",
        "\n",
        "#Seleccionar columnas específicas para el analisis\n",
        "selected_cols = dataFrame_Boyaca[['Area Cosechada (ha)', 'Produccion (t)','Rendimiento (t/ha)']]\n",
        "\n",
        "#Crear dataframe a partir de los nulos y no nulos\n",
        "null_mask = selected_cols.isnull()\n",
        "\n",
        "#Contar número de valores nulos\n",
        "null_counts = null_mask.sum()\n",
        "\n",
        "#Se crea una serie de los registros que tengan un solo valor nulo\n",
        "any_null = null_mask.any(axis=1)\n",
        "\n",
        "#Se crea un dataframe que filtra los registros que tienen un solo valor nulo\n",
        "one_null = selected_cols[any_null & (null_mask.sum(axis=1) == 1)]\n",
        "\n",
        "more_than_one_null = selected_cols[any_null & (null_mask.sum(axis=1) >1)]\n",
        "\n",
        "#Se obtiene el dataframe con un solo valor nulo\n",
        "df_un_nulo = one_null.copy()\n",
        "\n",
        "df_valores_nulos = more_than_one_null.copy()\n",
        "\n",
        "#Mostrar en pantalla\n",
        "print(df_un_nulo)\n",
        "\n",
        "print(df_valores_nulos)\n",
        "\n"
      ],
      "metadata": {
        "id": "hAaEG-3fyi3a",
        "colab": {
          "base_uri": "https://localhost:8080/"
        },
        "outputId": "29b53aaf-0477-4074-87e8-ffe99f8cf4a0"
      },
      "execution_count": null,
      "outputs": [
        {
          "output_type": "stream",
          "name": "stdout",
          "text": [
            "       Area Cosechada (ha)  Produccion (t)  Rendimiento (t/ha)\n",
            "4780                   1.0            11.5                 NaN\n",
            "5240                   0.0             0.0                 NaN\n",
            "6867                   0.0             0.0                 NaN\n",
            "6982                   0.0             0.0                 NaN\n",
            "7784                   0.0             0.0                 NaN\n",
            "8050                   0.0             0.0                 NaN\n",
            "8359                   0.0             0.0                 NaN\n",
            "8944                   0.0             0.0                 NaN\n",
            "9262                   0.0             0.0                 NaN\n",
            "10423                150.0             NaN               112.0\n",
            "10669                 23.0             NaN                 0.0\n",
            "11093                  2.0             7.0                 NaN\n",
            "11847                  0.0             0.0                 NaN\n",
            "14265                  0.0             0.0                 NaN\n",
            "       Area Cosechada (ha)  Produccion (t)  Rendimiento (t/ha)\n",
            "6                      NaN             NaN                 NaN\n",
            "18                     NaN             NaN                 NaN\n",
            "178                    NaN             NaN                 NaN\n",
            "183                    NaN             NaN                 NaN\n",
            "197                    NaN             NaN                 NaN\n",
            "...                    ...             ...                 ...\n",
            "14119                  NaN             NaN                 NaN\n",
            "14150                  NaN             NaN                 NaN\n",
            "14189                  NaN             NaN                 NaN\n",
            "14366                  NaN             NaN                 NaN\n",
            "14382                  NaN             NaN                 NaN\n",
            "\n",
            "[219 rows x 3 columns]\n"
          ]
        }
      ]
    },
    {
      "cell_type": "markdown",
      "source": [
        "## Eliminar registros con más de un valor nulo"
      ],
      "metadata": {
        "id": "PWxUWlpp7Fgw"
      }
    },
    {
      "cell_type": "code",
      "source": [
        "# Obtener los índices que deben eliminarse\n",
        "indices_a_eliminar = df_valores_nulos.index\n",
        "\n",
        "# Eliminar los registros de df1 basándose en los índices\n",
        "dataFrame_Boyaca = dataFrame_Boyaca.drop(indices_a_eliminar)\n"
      ],
      "metadata": {
        "id": "xk1CBCWx7LAc"
      },
      "execution_count": null,
      "outputs": []
    },
    {
      "cell_type": "code",
      "source": [
        "#Comprobar que el registro se elimmino\n",
        "print(\"\\n ----------------------\")\n",
        "\n",
        "print(dataFrame_Boyaca.loc[7])"
      ],
      "metadata": {
        "colab": {
          "base_uri": "https://localhost:8080/"
        },
        "id": "j4Ezmwd18b5T",
        "outputId": "8725221b-890f-454c-9bc9-b808669085fc"
      },
      "execution_count": null,
      "outputs": [
        {
          "output_type": "stream",
          "name": "stdout",
          "text": [
            "\n",
            " ----------------------\n",
            "TIPO                   CULTIVOS PERMANENTES\n",
            "MUNICIPIO                         EL ESPINO\n",
            "CULTIVO                            AGUACATE\n",
            "PERIODO                                2015\n",
            "Area Sembrada (ha)                      5.0\n",
            "Area Cosechada (ha)                     1.5\n",
            "Produccion (t)                         15.0\n",
            "Rendimiento (t/ha)                     10.0\n",
            "Name: 7, dtype: object\n"
          ]
        }
      ]
    },
    {
      "cell_type": "markdown",
      "source": [
        "## Eliminar registros que tengan una columna con valor nulo y alguna de las dos columnas con valor 0 \n"
      ],
      "metadata": {
        "id": "gs8WeryYEcOi"
      }
    },
    {
      "cell_type": "code",
      "source": [
        "df_un_nulo\n",
        "\n",
        "#Filtrar los registros que cumplan la condición\n",
        "df_filtrado = df_un_nulo.loc[(df_un_nulo['Area Cosechada (ha)']==0) | (df_un_nulo['Produccion (t)']==0) | (df_un_nulo['Rendimiento (t/ha)']==0)]\n",
        "\n",
        "#Mostrar en pantalla\n",
        "print(df_filtrado)"
      ],
      "metadata": {
        "colab": {
          "base_uri": "https://localhost:8080/"
        },
        "id": "lO5AI9ihEjgZ",
        "outputId": "b412376e-2f58-453d-eac3-6076d94fce85"
      },
      "execution_count": null,
      "outputs": [
        {
          "output_type": "stream",
          "name": "stdout",
          "text": [
            "       Area Cosechada (ha)  Produccion (t)  Rendimiento (t/ha)\n",
            "5240                   0.0             0.0                 NaN\n",
            "6867                   0.0             0.0                 NaN\n",
            "6982                   0.0             0.0                 NaN\n",
            "7784                   0.0             0.0                 NaN\n",
            "8050                   0.0             0.0                 NaN\n",
            "8359                   0.0             0.0                 NaN\n",
            "8944                   0.0             0.0                 NaN\n",
            "9262                   0.0             0.0                 NaN\n",
            "10669                 23.0             NaN                 0.0\n",
            "11847                  0.0             0.0                 NaN\n",
            "14265                  0.0             0.0                 NaN\n"
          ]
        }
      ]
    },
    {
      "cell_type": "code",
      "source": [
        "# Obtener los índices que deben eliminarse\n",
        "indices_a_eliminar = df_filtrado.index\n",
        "\n",
        "# Eliminar los registros de df1 basándose en los índices\n",
        "dataFrame_Boyaca = dataFrame_Boyaca.drop(indices_a_eliminar)"
      ],
      "metadata": {
        "id": "RmazDL-QJkKW"
      },
      "execution_count": null,
      "outputs": []
    },
    {
      "cell_type": "markdown",
      "source": [
        "Con lo anterior se eliminan los registros que no aportan información"
      ],
      "metadata": {
        "id": "Yj8opyf2G4_w"
      }
    },
    {
      "cell_type": "markdown",
      "source": [
        "Comprobación de la eliminación"
      ],
      "metadata": {
        "id": "JtFx9bGwHSHF"
      }
    },
    {
      "cell_type": "code",
      "source": [
        "#Comprobar que el registro se elimmino\n",
        "print(\"\\n ----------------------\")\n",
        "\n",
        "print(dataFrame_Boyaca.loc[5241])"
      ],
      "metadata": {
        "colab": {
          "base_uri": "https://localhost:8080/"
        },
        "id": "fB_GvA31Higw",
        "outputId": "e3d663d2-0245-4f8a-9414-f63c7aaf055c"
      },
      "execution_count": null,
      "outputs": [
        {
          "output_type": "stream",
          "name": "stdout",
          "text": [
            "\n",
            " ----------------------\n",
            "TIPO                   CULTIVOS TRANSITORIOS SEMESTRE B\n",
            "MUNICIPIO                                          PAYA\n",
            "CULTIVO                                          ARVEJA\n",
            "PERIODO                                           2014B\n",
            "Area Sembrada (ha)                                  4.0\n",
            "Area Cosechada (ha)                                 3.0\n",
            "Produccion (t)                                      4.2\n",
            "Rendimiento (t/ha)                                  1.4\n",
            "Name: 5241, dtype: object\n"
          ]
        }
      ]
    },
    {
      "cell_type": "markdown",
      "source": [
        "## Guardar registros a estimar (Valor faltante)"
      ],
      "metadata": {
        "id": "jrHjJrVLI89Y"
      }
    },
    {
      "cell_type": "code",
      "source": [
        "# Obtener los índices que deben eliminarse\n",
        "indices_a_eliminar = df_filtrado.index\n",
        "\n",
        "# Eliminar los registros de df1 basándose en los índices\n",
        "df_valores_faltantes = df_un_nulo.drop(indices_a_eliminar)"
      ],
      "metadata": {
        "id": "z1XHemzwG38q"
      },
      "execution_count": null,
      "outputs": []
    },
    {
      "cell_type": "code",
      "source": [
        "print(df_valores_faltantes)"
      ],
      "metadata": {
        "colab": {
          "base_uri": "https://localhost:8080/"
        },
        "id": "I5Ft7QEkKFfC",
        "outputId": "9ab8a47c-f069-4893-acbf-4671e7e7908e"
      },
      "execution_count": null,
      "outputs": [
        {
          "output_type": "stream",
          "name": "stdout",
          "text": [
            "       Area Cosechada (ha)  Produccion (t)  Rendimiento (t/ha)\n",
            "4780                   1.0            11.5                 NaN\n",
            "10423                150.0             NaN               112.0\n",
            "11093                  2.0             7.0                 NaN\n"
          ]
        }
      ]
    },
    {
      "cell_type": "markdown",
      "source": [
        "## Reparar datos"
      ],
      "metadata": {
        "id": "UddHAjQXKg-i"
      }
    },
    {
      "cell_type": "code",
      "source": [
        "# Realizar la reparación de valores faltantes\n",
        "df_valores_corregidos= df_valores_faltantes.copy()\n",
        "\n",
        "valor_faltante = 0 \n",
        "\n",
        "\n",
        "for index, row in df_valores_corregidos.iterrows():\n",
        "  if pd.isnull(df_valores_corregidos.loc[index,'Area Cosechada (ha)']) :\n",
        "    valor_faltante = row['Rendimiento (t/ha)']*row['Produccion (t)']\n",
        "    df_valores_corregidos.loc[index, 'Area Cosechada (ha)'] = valor_faltante\n",
        "\n",
        "  elif pd.isnull(df_valores_corregidos.loc[index,'Produccion (t)']):\n",
        "    valor_faltante = row['Rendimiento (t/ha)']*row['Area Cosechada (ha)']\n",
        "    df_valores_corregidos.loc[index, 'Produccion (t)'] = valor_faltante\n",
        "\n",
        "  else:\n",
        "    valor_faltante = row['Produccion (t)']/row['Area Cosechada (ha)']\n",
        "    df_valores_corregidos.loc[index, 'Rendimiento (t/ha)'] = valor_faltante\n",
        "\n",
        "  print(\"\\n\")\n",
        "  valor_faltante = 0 \n",
        "\n",
        "print(df_valores_corregidos)\n",
        "\n"
      ],
      "metadata": {
        "colab": {
          "base_uri": "https://localhost:8080/"
        },
        "id": "lM83Vi54Kmey",
        "outputId": "fc3cadc1-3da2-4163-c231-7b2fd22b8d21"
      },
      "execution_count": null,
      "outputs": [
        {
          "output_type": "stream",
          "name": "stdout",
          "text": [
            "\n",
            "\n",
            "\n",
            "\n",
            "\n",
            "\n",
            "       Area Cosechada (ha)  Produccion (t)  Rendimiento (t/ha)\n",
            "4780                   1.0            11.5                11.5\n",
            "10423                150.0         16800.0               112.0\n",
            "11093                  2.0             7.0                 3.5\n"
          ]
        }
      ]
    },
    {
      "cell_type": "markdown",
      "source": [
        "## Reemplazar valores reparados"
      ],
      "metadata": {
        "id": "AMOreYwHUcxP"
      }
    },
    {
      "cell_type": "code",
      "source": [
        "dataFrame_Boyaca.update(df_valores_corregidos)\n",
        "\n",
        "# Verificar si hay valores nulos en el dataframe\n",
        "hay_nulos = dataFrame_Boyaca.isnull().any()\n",
        "\n",
        "# Mostrar los resultados\n",
        "print(hay_nulos)"
      ],
      "metadata": {
        "colab": {
          "base_uri": "https://localhost:8080/"
        },
        "id": "_NO1WzGtUhSV",
        "outputId": "a733898d-5ad6-4d09-924b-758174e438f8"
      },
      "execution_count": null,
      "outputs": [
        {
          "output_type": "stream",
          "name": "stdout",
          "text": [
            "TIPO                   False\n",
            "MUNICIPIO              False\n",
            "CULTIVO                False\n",
            "PERIODO                False\n",
            "Area Sembrada (ha)     False\n",
            "Area Cosechada (ha)    False\n",
            "Produccion (t)         False\n",
            "Rendimiento (t/ha)     False\n",
            "dtype: bool\n"
          ]
        }
      ]
    },
    {
      "cell_type": "markdown",
      "source": [
        "## Comprobación valores NAN\n"
      ],
      "metadata": {
        "id": "ua874tqHHVZF"
      }
    },
    {
      "cell_type": "code",
      "source": [
        "hay_nulos = dataFrame_Boyaca.isna().any()\n",
        "recuento_nulos = dataFrame_Boyaca.isna().sum()\n",
        "print(recuento_nulos)"
      ],
      "metadata": {
        "colab": {
          "base_uri": "https://localhost:8080/"
        },
        "id": "BzBRK1sBHbdc",
        "outputId": "e3ea582e-b870-4e35-9297-7c5d55ed0526"
      },
      "execution_count": null,
      "outputs": [
        {
          "output_type": "stream",
          "name": "stdout",
          "text": [
            "TIPO                   0\n",
            "MUNICIPIO              0\n",
            "CULTIVO                0\n",
            "PERIODO                0\n",
            "Area Sembrada (ha)     0\n",
            "Area Cosechada (ha)    0\n",
            "Produccion (t)         0\n",
            "Rendimiento (t/ha)     0\n",
            "dtype: int64\n"
          ]
        }
      ]
    },
    {
      "cell_type": "code",
      "source": [
        "# Verificar si hay valores faltantes\n",
        "print(\"Valores faltantes:\\n\", dataFrame_Boyaca.isnull().sum())\n"
      ],
      "metadata": {
        "colab": {
          "base_uri": "https://localhost:8080/"
        },
        "id": "TguzcVjxQOv0",
        "outputId": "7f28b39b-f261-45ec-a56c-f52aa226eacf"
      },
      "execution_count": null,
      "outputs": [
        {
          "output_type": "stream",
          "name": "stdout",
          "text": [
            "Valores faltantes:\n",
            " TIPO                   0\n",
            "MUNICIPIO              0\n",
            "CULTIVO                0\n",
            "PERIODO                0\n",
            "Area Sembrada (ha)     0\n",
            "Area Cosechada (ha)    0\n",
            "Produccion (t)         0\n",
            "Rendimiento (t/ha)     0\n",
            "dtype: int64\n"
          ]
        }
      ]
    },
    {
      "cell_type": "markdown",
      "source": [
        "### Codigo para contar valores con valor 0"
      ],
      "metadata": {
        "id": "MWsQSt3fQyAN"
      }
    },
    {
      "cell_type": "code",
      "source": [
        "# Contar registros con valor igual a 0 en todas las columnas\n",
        "registros_con_0 = (dataFrame_Boyaca == 0).sum()\n",
        "\n",
        "print(\"Total de registros con valor igual a 0:\", (dataFrame_Boyaca == 0).sum())"
      ],
      "metadata": {
        "colab": {
          "base_uri": "https://localhost:8080/"
        },
        "id": "tPpSiTxZQkRC",
        "outputId": "d19f0fb6-35b9-4488-f3c3-9170f35804d2"
      },
      "execution_count": null,
      "outputs": [
        {
          "output_type": "stream",
          "name": "stdout",
          "text": [
            "Total de registros con valor igual a 0: TIPO                     0\n",
            "MUNICIPIO                0\n",
            "CULTIVO                  0\n",
            "PERIODO                  0\n",
            "Area Sembrada (ha)      84\n",
            "Area Cosechada (ha)    273\n",
            "Produccion (t)         258\n",
            "Rendimiento (t/ha)     286\n",
            "dtype: int64\n"
          ]
        }
      ]
    },
    {
      "cell_type": "code",
      "source": [
        "print(dataFrame_Boyaca.loc[11093])"
      ],
      "metadata": {
        "colab": {
          "base_uri": "https://localhost:8080/"
        },
        "id": "kgnLo9_tVlNL",
        "outputId": "2ab2e1ed-e5e7-4908-babf-13744d170a60"
      },
      "execution_count": null,
      "outputs": [
        {
          "output_type": "stream",
          "name": "stdout",
          "text": [
            "TIPO                   CULTIVOS PERMANENTES\n",
            "MUNICIPIO                          PAJARITO\n",
            "CULTIVO                             GUANDUL\n",
            "PERIODO                                2016\n",
            "Area Sembrada (ha)                      5.0\n",
            "Area Cosechada (ha)                     2.0\n",
            "Produccion (t)                          7.0\n",
            "Rendimiento (t/ha)                      3.5\n",
            "Name: 11093, dtype: object\n"
          ]
        }
      ]
    },
    {
      "cell_type": "markdown",
      "source": [
        "## Conteo total de registros"
      ],
      "metadata": {
        "id": "NTmmgg2xVRQO"
      }
    },
    {
      "cell_type": "code",
      "source": [
        "print(len(dataFrame_Boyaca))\n",
        "\n",
        "total_count=len(df_original)-len(dataFrame_Boyaca)\n",
        "\n",
        "print(\"El número de registros que se han borrado son: \", total_count)"
      ],
      "metadata": {
        "colab": {
          "base_uri": "https://localhost:8080/"
        },
        "id": "BcEI7sWLIN0q",
        "outputId": "65f60ac7-39c0-438b-d225-68fd55737544"
      },
      "execution_count": null,
      "outputs": [
        {
          "output_type": "stream",
          "name": "stdout",
          "text": [
            "22850\n",
            "El número de registros que se han borrado son:  230\n"
          ]
        }
      ]
    },
    {
      "cell_type": "markdown",
      "source": [
        "## Eliminar registros que tengan las 3 columnas con valores en 0\n"
      ],
      "metadata": {
        "id": "RLogF0-FhdbZ"
      }
    },
    {
      "cell_type": "code",
      "source": [
        "\n",
        "\n",
        "# Columnas a verificar\n",
        "columnas = ['Area Cosechada (ha)', 'Produccion (t)','Rendimiento (t/ha)']\n",
        "\n",
        "# Filtrar los registros que tienen cero en las columnas dadas\n",
        "registros_con_ceros = dataFrame_Boyaca[(dataFrame_Boyaca[columnas] == 0).all(axis=1)]\n",
        "\n",
        "# Mostrar los registros con ceros\n",
        "print(registros_con_ceros)\n"
      ],
      "metadata": {
        "colab": {
          "base_uri": "https://localhost:8080/"
        },
        "id": "OmooH7NLhiaX",
        "outputId": "9be7c44d-ebb8-4c0b-8106-73e45b535ee0"
      },
      "execution_count": null,
      "outputs": [
        {
          "output_type": "stream",
          "name": "stdout",
          "text": [
            "                                   TIPO  MUNICIPIO                CULTIVO  \\\n",
            "2510               CULTIVOS PERMANENTES       PÁEZ           LIMON TAHITI   \n",
            "14395  CULTIVOS TRANSITORIOS SEMESTRE A       TOTA       CEBOLLA DE BULBO   \n",
            "14687  CULTIVOS TRANSITORIOS SEMESTRE A    SUSACÓN           TABACO RUBIO   \n",
            "14867  CULTIVOS TRANSITORIOS SEMESTRE A    CIÉNEGA                  AVENA   \n",
            "14874  CULTIVOS TRANSITORIOS SEMESTRE B   TIBASOSA                 TOMATE   \n",
            "...                                 ...        ...                    ...   \n",
            "23001                        Permanente     Úmbita                Ciruela   \n",
            "23002                        Permanente     Úmbita  Durazno o Albaricoque   \n",
            "23004                        Permanente     Úmbita               Aguacate   \n",
            "23070                        Permanente  Zetaquirá               Aguacate   \n",
            "23072                        Permanente  Zetaquirá               Pitahaya   \n",
            "\n",
            "      PERIODO  Area Sembrada (ha)  Area Cosechada (ha)  Produccion (t)  \\\n",
            "2510     2019                 4.0                  0.0             0.0   \n",
            "14395   2019A                 0.0                  0.0             0.0   \n",
            "14687   2019A                 0.0                  0.0             0.0   \n",
            "14867   2019A                 0.0                  0.0             0.0   \n",
            "14874   2019B                 0.0                  0.0             0.0   \n",
            "...       ...                 ...                  ...             ...   \n",
            "23001    2021                 4.0                  0.0             0.0   \n",
            "23002    2021                 6.0                  0.0             0.0   \n",
            "23004    2021                 1.0                  0.0             0.0   \n",
            "23070    2021                 1.0                  0.0             0.0   \n",
            "23072    2021                26.0                  0.0             0.0   \n",
            "\n",
            "       Rendimiento (t/ha)  \n",
            "2510                  0.0  \n",
            "14395                 0.0  \n",
            "14687                 0.0  \n",
            "14867                 0.0  \n",
            "14874                 0.0  \n",
            "...                   ...  \n",
            "23001                 0.0  \n",
            "23002                 0.0  \n",
            "23004                 0.0  \n",
            "23070                 0.0  \n",
            "23072                 0.0  \n",
            "\n",
            "[239 rows x 8 columns]\n"
          ]
        }
      ]
    },
    {
      "cell_type": "markdown",
      "source": [
        "Obtener los indices"
      ],
      "metadata": {
        "id": "7zg4eY3HmiUS"
      }
    },
    {
      "cell_type": "code",
      "source": [
        "# Obtener los índices que deben eliminarse\n",
        "indices_a_eliminar = registros_con_ceros.index\n",
        "\n",
        "print(indices_a_eliminar)\n",
        "\n",
        "# Eliminar los registros de df1 basándose en los índices\n",
        "dataFrame_Boyaca = dataFrame_Boyaca.drop(indices_a_eliminar)"
      ],
      "metadata": {
        "colab": {
          "base_uri": "https://localhost:8080/"
        },
        "id": "Qefn3MOTmkLI",
        "outputId": "adf239c0-ba71-4281-d5a6-c119d8d2f85c"
      },
      "execution_count": null,
      "outputs": [
        {
          "output_type": "stream",
          "name": "stdout",
          "text": [
            "Int64Index([ 2510, 14395, 14687, 14867, 14874, 14988, 14989, 14997, 14998,\n",
            "            15000,\n",
            "            ...\n",
            "            22683, 22686, 22688, 22690, 22865, 23001, 23002, 23004, 23070,\n",
            "            23072],\n",
            "           dtype='int64', length=239)\n"
          ]
        }
      ]
    },
    {
      "cell_type": "markdown",
      "source": [
        "Comprobación"
      ],
      "metadata": {
        "id": "016s2zpJmxNa"
      }
    },
    {
      "cell_type": "code",
      "source": [
        "#No sirve debido a que se elimino el registro\n",
        "#print(dataFrame_Boyaca.loc[22688])\n",
        "\n"
      ],
      "metadata": {
        "id": "5_AdcXAbmzVz"
      },
      "execution_count": null,
      "outputs": []
    },
    {
      "cell_type": "markdown",
      "source": [
        "## Buscar Registros con Produccion con valor de 0"
      ],
      "metadata": {
        "id": "KJpHm-GZ1ys0"
      }
    },
    {
      "cell_type": "code",
      "source": [
        "# Definir las columnas\n",
        "columna1 = dataFrame_Boyaca['Produccion (t)']\n",
        "columna2 = dataFrame_Boyaca['Area Cosechada (ha)']\n",
        "columna3 = dataFrame_Boyaca['Rendimiento (t/ha)']\n",
        "\n",
        "# Verificar si la columna 3 es igual a la división calculada\n",
        "validacion = columna1 == 0\n",
        "\n",
        "# Contar el número de filas en las que la validación es verdadera\n",
        "contador = validacion.sum()\n",
        "\n",
        "# Crear un nuevo dataframe con las filas donde se cumple la validación\n",
        "df_produCero = dataFrame_Boyaca[validacion]\n",
        "\n",
        "#CUANTOS VALORES HAY EN 0\n",
        "print(\"Valores con produccion en 0, total: \", contador)"
      ],
      "metadata": {
        "colab": {
          "base_uri": "https://localhost:8080/"
        },
        "id": "i-OYSrqV120S",
        "outputId": "8f8ae274-70db-407a-d4d9-599190d6f830"
      },
      "execution_count": null,
      "outputs": [
        {
          "output_type": "stream",
          "name": "stdout",
          "text": [
            "Valores con produccion en 0, total:  19\n"
          ]
        }
      ]
    },
    {
      "cell_type": "code",
      "source": [
        "print(df_produCero)"
      ],
      "metadata": {
        "id": "Q27laX1O2IKo",
        "colab": {
          "base_uri": "https://localhost:8080/"
        },
        "outputId": "43d73096-dcde-433b-cc74-00b220858396"
      },
      "execution_count": null,
      "outputs": [
        {
          "output_type": "stream",
          "name": "stdout",
          "text": [
            "                                   TIPO            MUNICIPIO  \\\n",
            "3885   CULTIVOS TRANSITORIOS SEMESTRE A            TIPACOQUE   \n",
            "20993                        Permanente           Chitaraque   \n",
            "21010                       Transitorio              Chivatá   \n",
            "21073                       Transitorio             Corrales   \n",
            "21282                        Permanente             Floresta   \n",
            "21451                       Transitorio               Jericó   \n",
            "21532                        Permanente             La Uvita   \n",
            "21533                        Permanente             La Uvita   \n",
            "21673                        Permanente               Monguí   \n",
            "22020                       Transitorio                Pisba   \n",
            "22117                        Permanente               Rondón   \n",
            "22118                        Permanente               Rondón   \n",
            "22120                        Permanente               Rondón   \n",
            "22205                        Permanente     San José de Pare   \n",
            "22297                        Permanente  San Pablo de Borbur   \n",
            "22428                       Transitorio          Sativanorte   \n",
            "22438                       Transitorio            Sativasur   \n",
            "22540                        Permanente             Sogamoso   \n",
            "22998                       Transitorio               Úmbita   \n",
            "\n",
            "                CULTIVO PERIODO  Area Sembrada (ha)  Area Cosechada (ha)  \\\n",
            "3885             ARVEJA   2013A                 3.0                  3.0   \n",
            "20993       Sacha inchi    2021                 1.0                  1.0   \n",
            "21010              Haba   2021A                 1.0                  1.0   \n",
            "21073  Otras hortalizas   2021A                 0.0                  0.0   \n",
            "21282          Arándano    2021                 0.0                  0.0   \n",
            "21451            Cebada   2021B                 1.0                  1.0   \n",
            "21532             Limón    2021                 0.0                  0.0   \n",
            "21533             Limón    2021                 0.0                  0.0   \n",
            "21673            Laurel    2021                 0.0                  0.0   \n",
            "22020            Frijol   2021A                 2.0                  2.0   \n",
            "22117             Limón    2021                 0.0                  0.0   \n",
            "22118             Limón    2021                 0.0                  0.0   \n",
            "22120         Mandarina    2021                 0.0                  0.0   \n",
            "22205             Cacao    2021                 1.0                  1.0   \n",
            "22297             Limón    2021                 1.0                  0.0   \n",
            "22428              Haba   2021B                 1.0                  1.0   \n",
            "22438            Arveja   2021B                 1.0                  1.0   \n",
            "22540              Mora    2021                 0.0                  0.0   \n",
            "22998            Quinua   2021A                 0.0                  0.0   \n",
            "\n",
            "       Produccion (t)  Rendimiento (t/ha)  \n",
            "3885              0.0                 0.0  \n",
            "20993             0.0                 1.0  \n",
            "21010             0.0                 0.0  \n",
            "21073             0.0                 2.0  \n",
            "21282             0.0                 1.0  \n",
            "21451             0.0                 1.0  \n",
            "21532             0.0                 3.0  \n",
            "21533             0.0                10.0  \n",
            "21673             0.0                 2.0  \n",
            "22020             0.0                 0.0  \n",
            "22117             0.0                 1.0  \n",
            "22118             0.0                10.0  \n",
            "22120             0.0                 1.0  \n",
            "22205             0.0                 1.0  \n",
            "22297             0.0                12.0  \n",
            "22428             0.0                 0.0  \n",
            "22438             0.0                 1.0  \n",
            "22540             0.0                 1.0  \n",
            "22998             0.0                 1.0  \n"
          ]
        }
      ]
    },
    {
      "cell_type": "markdown",
      "source": [
        "## Elminar registros con producción de 0"
      ],
      "metadata": {
        "id": "Q60tyTDw01Y-"
      }
    },
    {
      "cell_type": "markdown",
      "source": [
        "No aporta gran información y solo hay 19 registros que tienen esta peculiaridad"
      ],
      "metadata": {
        "id": "8j9_8NU-2lSY"
      }
    },
    {
      "cell_type": "code",
      "source": [
        "# Obtener los índices que deben eliminarse\n",
        "indices_a_eliminar = df_produCero.index\n",
        "\n",
        "print(len(indices_a_eliminar))\n",
        "print(indices_a_eliminar)\n",
        "# Eliminar los registros de df1 basándose en los índices\n",
        "dataFrame_Boyaca = dataFrame_Boyaca.drop(indices_a_eliminar)"
      ],
      "metadata": {
        "colab": {
          "base_uri": "https://localhost:8080/"
        },
        "id": "Wrw5KGEu2qOg",
        "outputId": "a2934d65-9be1-4e4c-e55d-dcf542ea1941"
      },
      "execution_count": null,
      "outputs": [
        {
          "output_type": "stream",
          "name": "stdout",
          "text": [
            "19\n",
            "Int64Index([ 3885, 20993, 21010, 21073, 21282, 21451, 21532, 21533, 21673,\n",
            "            22020, 22117, 22118, 22120, 22205, 22297, 22428, 22438, 22540,\n",
            "            22998],\n",
            "           dtype='int64')\n"
          ]
        }
      ]
    },
    {
      "cell_type": "markdown",
      "source": [
        "Comprobacion de la eliminación"
      ],
      "metadata": {
        "id": "fIn3CBLn3D8_"
      }
    },
    {
      "cell_type": "code",
      "source": [
        "#No sirve debido a que se elimino el registro\n",
        "#print(dataFrame_Boyaca.loc[3885])"
      ],
      "metadata": {
        "id": "3_b4NjOY3GSf"
      },
      "execution_count": null,
      "outputs": []
    },
    {
      "cell_type": "markdown",
      "source": [
        "## Buscar rendimientos con valor de 0"
      ],
      "metadata": {
        "id": "1FAQ0NRszu2P"
      }
    },
    {
      "cell_type": "code",
      "source": [
        "# Definir las columnas\n",
        "produc = dataFrame_Boyaca['Produccion (t)']\n",
        "area = dataFrame_Boyaca['Area Cosechada (ha)']\n",
        "rendi = dataFrame_Boyaca['Rendimiento (t/ha)']\n",
        "\n",
        "# Verificar si la columna 3 es igual a 0\n",
        "validacion = rendi == 0\n",
        "\n",
        "# Contar el número de filas en las que la validación es verdadera\n",
        "contador = validacion.sum()\n",
        "\n",
        "# Crear un nuevo dataframe con las filas donde se cumple la validación\n",
        "df_rendimientosCero = dataFrame_Boyaca[validacion]\n",
        "\n",
        "#CUANTOS VALORES HAY EN 0\n",
        "print(\"Valores con rendimiento en 0, total: \", contador)"
      ],
      "metadata": {
        "colab": {
          "base_uri": "https://localhost:8080/"
        },
        "id": "o7-UmxbvzxS7",
        "outputId": "054511d8-3abd-4f60-ac10-eb19eecd950f"
      },
      "execution_count": null,
      "outputs": [
        {
          "output_type": "stream",
          "name": "stdout",
          "text": [
            "Valores con rendimiento en 0, total:  43\n"
          ]
        }
      ]
    },
    {
      "cell_type": "code",
      "source": [
        "print(df_rendimientosCero)"
      ],
      "metadata": {
        "colab": {
          "base_uri": "https://localhost:8080/"
        },
        "id": "M23vgcWG4dJ6",
        "outputId": "97b6e7d6-e133-4be4-948a-93eabd2887c2"
      },
      "execution_count": null,
      "outputs": [
        {
          "output_type": "stream",
          "name": "stdout",
          "text": [
            "              TIPO              MUNICIPIO   CULTIVO PERIODO  \\\n",
            "20724  Transitorio                  Belén      Haba   2021A   \n",
            "20732   Permanente                 Berbeo     Cacao    2021   \n",
            "20819   Permanente             Buenavista     Cacao    2021   \n",
            "20872  Transitorio           Campohermoso      Maíz   2021B   \n",
            "20873   Permanente           Campohermoso     Cacao    2021   \n",
            "20926  Transitorio           Chiquinquirá      Maíz   2021A   \n",
            "20937  Transitorio           Chiquinquirá      Haba   2021A   \n",
            "20980  Transitorio             Chitaraque      Maíz   2021A   \n",
            "20981  Transitorio             Chitaraque      Maíz   2021B   \n",
            "21113   Permanente                 Cubará     Cacao    2021   \n",
            "21235  Transitorio               El Cocuy      Haba   2021A   \n",
            "21328  Transitorio                Garagoa    Arveja   2021A   \n",
            "21450  Transitorio                 Jericó    Cebada   2021A   \n",
            "21452  Transitorio                 Jericó      Maíz   2021A   \n",
            "21487   Permanente             La Capilla      Café    2021   \n",
            "21511   Permanente            La Victoria     Cacao    2021   \n",
            "21660  Transitorio                 Mongua      Maíz   2021A   \n",
            "21663  Transitorio                 Mongua    Arveja   2021A   \n",
            "21664  Transitorio                 Mongua    Arveja   2021B   \n",
            "21775  Transitorio                  Nobsa      Haba   2021A   \n",
            "21793  Transitorio            Nuevo Colón      Haba   2021A   \n",
            "21794  Transitorio            Nuevo Colón      Haba   2021B   \n",
            "21819   Permanente                Otanche     Cacao    2021   \n",
            "21969   Permanente                   Paya     Cacao    2021   \n",
            "22021  Transitorio                  Pisba   Guandul   2021A   \n",
            "22028   Permanente          Puerto Boyacá     Cacao    2021   \n",
            "22106  Transitorio                Ráquira      Haba   2021B   \n",
            "22111  Transitorio                 Rondón      Maíz   2021A   \n",
            "22159  Transitorio                 Samacá      Maíz   2021B   \n",
            "22180  Transitorio            San Eduardo      Maíz   2021A   \n",
            "22213   Permanente       San José de Pare   Naranja    2021   \n",
            "22232  Transitorio     San Luis de Gaceno      Maíz   2021A   \n",
            "22235   Permanente     San Luis de Gaceno      Café    2021   \n",
            "22291   Permanente    San Pablo de Borbur     Cacao    2021   \n",
            "22326  Transitorio            Santa María      Maíz   2021A   \n",
            "22360  Transitorio  Santa Rosa de Viterbo      Maíz   2021A   \n",
            "22605  Transitorio                 Soracá      Maíz   2021A   \n",
            "22606  Transitorio                 Soracá      Maíz   2021B   \n",
            "22706  Transitorio              Sutatenza  Garbanzo   2021B   \n",
            "22875  Transitorio                 Tópaga      Maíz   2021A   \n",
            "22939  Transitorio               Turmequé      Haba   2021A   \n",
            "22973  Transitorio                 Tutazá      Maíz   2021A   \n",
            "22974  Transitorio                 Tutazá      Maíz   2021B   \n",
            "\n",
            "       Area Sembrada (ha)  Area Cosechada (ha)  Produccion (t)  \\\n",
            "20724                 4.0                  4.0             2.0   \n",
            "20732                13.0                  7.0             3.0   \n",
            "20819                46.0                 41.0            18.0   \n",
            "20872                42.0                 41.0            14.0   \n",
            "20873                24.0                 22.0            10.0   \n",
            "20926                90.0                 90.0            41.0   \n",
            "20937                 9.0                  9.0             4.0   \n",
            "20980                42.0                 41.0            17.0   \n",
            "20981                60.0                 59.0            25.0   \n",
            "21113               118.0                115.0            40.0   \n",
            "21235                 4.0                  3.0             1.0   \n",
            "21328                 8.0                  6.0             3.0   \n",
            "21450                 4.0                  3.0             1.0   \n",
            "21452                12.0                 11.0             4.0   \n",
            "21487                 2.0                  2.0             1.0   \n",
            "21511                65.0                 65.0            30.0   \n",
            "21660                23.0                 22.0             9.0   \n",
            "21663                12.0                 11.0             5.0   \n",
            "21664                17.0                 16.0             8.0   \n",
            "21775                 2.0                  2.0             1.0   \n",
            "21793                 7.0                  7.0             2.0   \n",
            "21794                 7.0                  7.0             3.0   \n",
            "21819               501.0                421.0           168.0   \n",
            "21969                 7.0                  7.0             1.0   \n",
            "22021                 5.0                  5.0             2.0   \n",
            "22028               341.0                288.0           101.0   \n",
            "22106                 2.0                  2.0             1.0   \n",
            "22111                14.0                 14.0             5.0   \n",
            "22159               190.0                185.0            62.0   \n",
            "22180                 5.0                  5.0             2.0   \n",
            "22213                22.0                 22.0            10.0   \n",
            "22232               164.0                 68.0            27.0   \n",
            "22235                 8.0                  8.0             4.0   \n",
            "22291               708.0                708.0           219.0   \n",
            "22326                27.0                 26.0            10.0   \n",
            "22360                38.0                 38.0            11.0   \n",
            "22605               140.0                119.0            40.0   \n",
            "22606               110.0                109.0            37.0   \n",
            "22706                 5.0                  5.0             2.0   \n",
            "22875                30.0                 28.0            13.0   \n",
            "22939                 4.0                  4.0             1.0   \n",
            "22973                 7.0                  7.0             2.0   \n",
            "22974                 2.0                  2.0             1.0   \n",
            "\n",
            "       Rendimiento (t/ha)  \n",
            "20724                 0.0  \n",
            "20732                 0.0  \n",
            "20819                 0.0  \n",
            "20872                 0.0  \n",
            "20873                 0.0  \n",
            "20926                 0.0  \n",
            "20937                 0.0  \n",
            "20980                 0.0  \n",
            "20981                 0.0  \n",
            "21113                 0.0  \n",
            "21235                 0.0  \n",
            "21328                 0.0  \n",
            "21450                 0.0  \n",
            "21452                 0.0  \n",
            "21487                 0.0  \n",
            "21511                 0.0  \n",
            "21660                 0.0  \n",
            "21663                 0.0  \n",
            "21664                 0.0  \n",
            "21775                 0.0  \n",
            "21793                 0.0  \n",
            "21794                 0.0  \n",
            "21819                 0.0  \n",
            "21969                 0.0  \n",
            "22021                 0.0  \n",
            "22028                 0.0  \n",
            "22106                 0.0  \n",
            "22111                 0.0  \n",
            "22159                 0.0  \n",
            "22180                 0.0  \n",
            "22213                 0.0  \n",
            "22232                 0.0  \n",
            "22235                 0.0  \n",
            "22291                 0.0  \n",
            "22326                 0.0  \n",
            "22360                 0.0  \n",
            "22605                 0.0  \n",
            "22606                 0.0  \n",
            "22706                 0.0  \n",
            "22875                 0.0  \n",
            "22939                 0.0  \n",
            "22973                 0.0  \n",
            "22974                 0.0  \n"
          ]
        }
      ]
    },
    {
      "cell_type": "markdown",
      "source": [
        "## Corrección de valores con rendimiento mal calculado en 0"
      ],
      "metadata": {
        "id": "p7oRLNgl5Y_K"
      }
    },
    {
      "cell_type": "code",
      "source": [
        "#Crear una copia\n",
        "df_correccion= df_rendimientosCero.copy()"
      ],
      "metadata": {
        "id": "SZpBee9iFlMI"
      },
      "execution_count": null,
      "outputs": []
    },
    {
      "cell_type": "code",
      "source": [
        "\n",
        "\n",
        "#Obtener el valor de rendimiento dividiendo produccion/area\n",
        "# Definir las columnas\n",
        "produc = df_correccion['Produccion (t)']\n",
        "area = df_correccion['Area Cosechada (ha)']\n",
        "#rendi = df_rendimientosCero['Rendimiento (t/ha)']\n",
        "\n",
        "#calculo de rendimiento\n",
        "rendi = produc/area\n",
        "\n",
        "df_correccion.loc[:,'Rendimiento (t/ha)'] = df_correccion['Produccion (t)']/df_correccion['Area Cosechada (ha)']\n",
        "\n",
        "print(df_correccion)\n",
        "\n"
      ],
      "metadata": {
        "colab": {
          "base_uri": "https://localhost:8080/"
        },
        "id": "xogaQF0_7EmV",
        "outputId": "c4eb647b-79b0-4443-8a81-79a56c7c1117"
      },
      "execution_count": null,
      "outputs": [
        {
          "output_type": "stream",
          "name": "stdout",
          "text": [
            "              TIPO              MUNICIPIO   CULTIVO PERIODO  \\\n",
            "20724  Transitorio                  Belén      Haba   2021A   \n",
            "20732   Permanente                 Berbeo     Cacao    2021   \n",
            "20819   Permanente             Buenavista     Cacao    2021   \n",
            "20872  Transitorio           Campohermoso      Maíz   2021B   \n",
            "20873   Permanente           Campohermoso     Cacao    2021   \n",
            "20926  Transitorio           Chiquinquirá      Maíz   2021A   \n",
            "20937  Transitorio           Chiquinquirá      Haba   2021A   \n",
            "20980  Transitorio             Chitaraque      Maíz   2021A   \n",
            "20981  Transitorio             Chitaraque      Maíz   2021B   \n",
            "21113   Permanente                 Cubará     Cacao    2021   \n",
            "21235  Transitorio               El Cocuy      Haba   2021A   \n",
            "21328  Transitorio                Garagoa    Arveja   2021A   \n",
            "21450  Transitorio                 Jericó    Cebada   2021A   \n",
            "21452  Transitorio                 Jericó      Maíz   2021A   \n",
            "21487   Permanente             La Capilla      Café    2021   \n",
            "21511   Permanente            La Victoria     Cacao    2021   \n",
            "21660  Transitorio                 Mongua      Maíz   2021A   \n",
            "21663  Transitorio                 Mongua    Arveja   2021A   \n",
            "21664  Transitorio                 Mongua    Arveja   2021B   \n",
            "21775  Transitorio                  Nobsa      Haba   2021A   \n",
            "21793  Transitorio            Nuevo Colón      Haba   2021A   \n",
            "21794  Transitorio            Nuevo Colón      Haba   2021B   \n",
            "21819   Permanente                Otanche     Cacao    2021   \n",
            "21969   Permanente                   Paya     Cacao    2021   \n",
            "22021  Transitorio                  Pisba   Guandul   2021A   \n",
            "22028   Permanente          Puerto Boyacá     Cacao    2021   \n",
            "22106  Transitorio                Ráquira      Haba   2021B   \n",
            "22111  Transitorio                 Rondón      Maíz   2021A   \n",
            "22159  Transitorio                 Samacá      Maíz   2021B   \n",
            "22180  Transitorio            San Eduardo      Maíz   2021A   \n",
            "22213   Permanente       San José de Pare   Naranja    2021   \n",
            "22232  Transitorio     San Luis de Gaceno      Maíz   2021A   \n",
            "22235   Permanente     San Luis de Gaceno      Café    2021   \n",
            "22291   Permanente    San Pablo de Borbur     Cacao    2021   \n",
            "22326  Transitorio            Santa María      Maíz   2021A   \n",
            "22360  Transitorio  Santa Rosa de Viterbo      Maíz   2021A   \n",
            "22605  Transitorio                 Soracá      Maíz   2021A   \n",
            "22606  Transitorio                 Soracá      Maíz   2021B   \n",
            "22706  Transitorio              Sutatenza  Garbanzo   2021B   \n",
            "22875  Transitorio                 Tópaga      Maíz   2021A   \n",
            "22939  Transitorio               Turmequé      Haba   2021A   \n",
            "22973  Transitorio                 Tutazá      Maíz   2021A   \n",
            "22974  Transitorio                 Tutazá      Maíz   2021B   \n",
            "\n",
            "       Area Sembrada (ha)  Area Cosechada (ha)  Produccion (t)  \\\n",
            "20724                 4.0                  4.0             2.0   \n",
            "20732                13.0                  7.0             3.0   \n",
            "20819                46.0                 41.0            18.0   \n",
            "20872                42.0                 41.0            14.0   \n",
            "20873                24.0                 22.0            10.0   \n",
            "20926                90.0                 90.0            41.0   \n",
            "20937                 9.0                  9.0             4.0   \n",
            "20980                42.0                 41.0            17.0   \n",
            "20981                60.0                 59.0            25.0   \n",
            "21113               118.0                115.0            40.0   \n",
            "21235                 4.0                  3.0             1.0   \n",
            "21328                 8.0                  6.0             3.0   \n",
            "21450                 4.0                  3.0             1.0   \n",
            "21452                12.0                 11.0             4.0   \n",
            "21487                 2.0                  2.0             1.0   \n",
            "21511                65.0                 65.0            30.0   \n",
            "21660                23.0                 22.0             9.0   \n",
            "21663                12.0                 11.0             5.0   \n",
            "21664                17.0                 16.0             8.0   \n",
            "21775                 2.0                  2.0             1.0   \n",
            "21793                 7.0                  7.0             2.0   \n",
            "21794                 7.0                  7.0             3.0   \n",
            "21819               501.0                421.0           168.0   \n",
            "21969                 7.0                  7.0             1.0   \n",
            "22021                 5.0                  5.0             2.0   \n",
            "22028               341.0                288.0           101.0   \n",
            "22106                 2.0                  2.0             1.0   \n",
            "22111                14.0                 14.0             5.0   \n",
            "22159               190.0                185.0            62.0   \n",
            "22180                 5.0                  5.0             2.0   \n",
            "22213                22.0                 22.0            10.0   \n",
            "22232               164.0                 68.0            27.0   \n",
            "22235                 8.0                  8.0             4.0   \n",
            "22291               708.0                708.0           219.0   \n",
            "22326                27.0                 26.0            10.0   \n",
            "22360                38.0                 38.0            11.0   \n",
            "22605               140.0                119.0            40.0   \n",
            "22606               110.0                109.0            37.0   \n",
            "22706                 5.0                  5.0             2.0   \n",
            "22875                30.0                 28.0            13.0   \n",
            "22939                 4.0                  4.0             1.0   \n",
            "22973                 7.0                  7.0             2.0   \n",
            "22974                 2.0                  2.0             1.0   \n",
            "\n",
            "       Rendimiento (t/ha)  \n",
            "20724            0.500000  \n",
            "20732            0.428571  \n",
            "20819            0.439024  \n",
            "20872            0.341463  \n",
            "20873            0.454545  \n",
            "20926            0.455556  \n",
            "20937            0.444444  \n",
            "20980            0.414634  \n",
            "20981            0.423729  \n",
            "21113            0.347826  \n",
            "21235            0.333333  \n",
            "21328            0.500000  \n",
            "21450            0.333333  \n",
            "21452            0.363636  \n",
            "21487            0.500000  \n",
            "21511            0.461538  \n",
            "21660            0.409091  \n",
            "21663            0.454545  \n",
            "21664            0.500000  \n",
            "21775            0.500000  \n",
            "21793            0.285714  \n",
            "21794            0.428571  \n",
            "21819            0.399050  \n",
            "21969            0.142857  \n",
            "22021            0.400000  \n",
            "22028            0.350694  \n",
            "22106            0.500000  \n",
            "22111            0.357143  \n",
            "22159            0.335135  \n",
            "22180            0.400000  \n",
            "22213            0.454545  \n",
            "22232            0.397059  \n",
            "22235            0.500000  \n",
            "22291            0.309322  \n",
            "22326            0.384615  \n",
            "22360            0.289474  \n",
            "22605            0.336134  \n",
            "22606            0.339450  \n",
            "22706            0.400000  \n",
            "22875            0.464286  \n",
            "22939            0.250000  \n",
            "22973            0.285714  \n",
            "22974            0.500000  \n"
          ]
        }
      ]
    },
    {
      "cell_type": "code",
      "source": [
        "#Actualizar dataframe correido\n",
        "dataFrame_Boyaca.update(df_correccion)\n"
      ],
      "metadata": {
        "id": "vwu4OlHYGCq-"
      },
      "execution_count": null,
      "outputs": []
    },
    {
      "cell_type": "markdown",
      "source": [
        "### Dataframe actualizado con rendimientos recalculados"
      ],
      "metadata": {
        "id": "i_i9DHa2Gy-8"
      }
    },
    {
      "cell_type": "code",
      "source": [
        "#Imprimir registro actualizado\n",
        "print(dataFrame_Boyaca.loc[22939])"
      ],
      "metadata": {
        "colab": {
          "base_uri": "https://localhost:8080/"
        },
        "id": "ud0xlCt8GyQf",
        "outputId": "b26fc734-49fe-4ec7-bc82-e7590ce3a261"
      },
      "execution_count": null,
      "outputs": [
        {
          "output_type": "stream",
          "name": "stdout",
          "text": [
            "TIPO                   Transitorio\n",
            "MUNICIPIO                 Turmequé\n",
            "CULTIVO                       Haba\n",
            "PERIODO                      2021A\n",
            "Area Sembrada (ha)             4.0\n",
            "Area Cosechada (ha)            4.0\n",
            "Produccion (t)                 1.0\n",
            "Rendimiento (t/ha)            0.25\n",
            "Name: 22939, dtype: object\n"
          ]
        }
      ]
    },
    {
      "cell_type": "markdown",
      "source": [
        "### Comprobacion de rendimientos con valor de 0"
      ],
      "metadata": {
        "id": "QBW3GTu5HEJu"
      }
    },
    {
      "cell_type": "code",
      "source": [
        "# Definir las columnas\n",
        "produc = dataFrame_Boyaca['Produccion (t)']\n",
        "area = dataFrame_Boyaca['Area Cosechada (ha)']\n",
        "rendi = dataFrame_Boyaca['Rendimiento (t/ha)']\n",
        "\n",
        "# Verificar si la columna 3 es igual a 0\n",
        "validacion = rendi == 0\n",
        "\n",
        "# Contar el número de filas en las que la validación es verdadera\n",
        "contador = validacion.sum()\n",
        "\n",
        "#CUANTOS VALORES HAY EN 0\n",
        "print(\"Valores con rendimiento en 0, total: \", contador)"
      ],
      "metadata": {
        "colab": {
          "base_uri": "https://localhost:8080/"
        },
        "id": "tTjyu6HaHMYp",
        "outputId": "9c459c2c-e398-4f94-a32a-76c324b03b7e"
      },
      "execution_count": null,
      "outputs": [
        {
          "output_type": "stream",
          "name": "stdout",
          "text": [
            "Valores con rendimiento en 0, total:  0\n"
          ]
        }
      ]
    },
    {
      "cell_type": "markdown",
      "source": [
        "## Buscar area cosechada en 0"
      ],
      "metadata": {
        "id": "2ZSDOsVTHkl8"
      }
    },
    {
      "cell_type": "code",
      "source": [
        "#Columna area\n",
        "area = dataFrame_Boyaca['Area Cosechada (ha)']\n",
        "\n",
        "# Verificar si area es igual a 0\n",
        "validacion = area==0\n",
        "\n",
        "# Contar el número de filas en las que la validación es verdadera\n",
        "contador = validacion.sum()\n",
        "\n",
        "#CUANTOS VALORES HAY EN 0\n",
        "print(\"Valores con area en 0, total: \", contador)\n",
        "\n",
        "# Crear un nuevo dataframe con las filas donde se cumple la validación\n",
        "df_area_cero = dataFrame_Boyaca[validacion]"
      ],
      "metadata": {
        "colab": {
          "base_uri": "https://localhost:8080/"
        },
        "id": "NlxMFtgFHl_u",
        "outputId": "2343b9c3-59ee-4b9f-dc66-75e9212723f8"
      },
      "execution_count": null,
      "outputs": [
        {
          "output_type": "stream",
          "name": "stdout",
          "text": [
            "Valores con area en 0, total:  23\n"
          ]
        }
      ]
    },
    {
      "cell_type": "code",
      "source": [
        "print(df_area_cero)"
      ],
      "metadata": {
        "colab": {
          "base_uri": "https://localhost:8080/"
        },
        "id": "JfNzpkcOIhz4",
        "outputId": "c3274dbf-83a7-47de-bbe0-7e85123296b2"
      },
      "execution_count": null,
      "outputs": [
        {
          "output_type": "stream",
          "name": "stdout",
          "text": [
            "              TIPO            MUNICIPIO                CULTIVO PERIODO  \\\n",
            "20877   Permanente         Campohermoso                   Mora    2021   \n",
            "20911  Transitorio            Chinavita               Pimentón   2021A   \n",
            "20988   Permanente           Chitaraque               Aguacate    2021   \n",
            "21089   Permanente           Covarachía                  Limón    2021   \n",
            "21093   Permanente           Covarachía                Naranja    2021   \n",
            "21118   Permanente               Cubará                Naranja    2021   \n",
            "21186  Transitorio               Chivor              Arracacha   2021A   \n",
            "21187  Transitorio               Chivor              Arracacha   2021B   \n",
            "21488   Permanente           La Capilla               Aguacate    2021   \n",
            "21531   Permanente             La Uvita                  Limón    2021   \n",
            "21534   Permanente             La Uvita              Mandarina    2021   \n",
            "21538   Permanente             La Uvita                   Mora    2021   \n",
            "21676   Permanente               Monguí  Durazno o Albaricoque    2021   \n",
            "21677   Permanente               Monguí                Manzana    2021   \n",
            "22210   Permanente     San José de Pare                  Limón    2021   \n",
            "22214   Permanente     San José de Pare                Naranja    2021   \n",
            "22255   Permanente            San Mateo                  Limón    2021   \n",
            "22259   Permanente            San Mateo                Naranja    2021   \n",
            "22296   Permanente  San Pablo de Borbur                  Limón    2021   \n",
            "22300   Permanente  San Pablo de Borbur                Naranja    2021   \n",
            "22542   Permanente             Sogamoso                 Curuba    2021   \n",
            "22543   Permanente             Sogamoso        Tomate de árbol    2021   \n",
            "22816  Transitorio              Tinjacá              Arracacha   2021A   \n",
            "\n",
            "       Area Sembrada (ha)  Area Cosechada (ha)  Produccion (t)  \\\n",
            "20877                 0.0                  0.0             1.0   \n",
            "20911                 0.0                  0.0             2.0   \n",
            "20988                 1.0                  0.0             1.0   \n",
            "21089                 0.0                  0.0             1.0   \n",
            "21093                 0.0                  0.0             1.0   \n",
            "21118                11.0                  0.0             1.0   \n",
            "21186                 0.0                  0.0             2.0   \n",
            "21187                 0.0                  0.0             2.0   \n",
            "21488                 0.0                  0.0             1.0   \n",
            "21531                 0.0                  0.0             1.0   \n",
            "21534                 0.0                  0.0             1.0   \n",
            "21538                 2.0                  0.0             2.0   \n",
            "21676                 0.0                  0.0             2.0   \n",
            "21677                 0.0                  0.0             2.0   \n",
            "22210                 0.0                  0.0             2.0   \n",
            "22214                 1.0                  0.0             2.0   \n",
            "22255                 0.0                  0.0             3.0   \n",
            "22259                 0.0                  0.0             2.0   \n",
            "22296                 1.0                  0.0             4.0   \n",
            "22300                 1.0                  0.0             3.0   \n",
            "22542                 0.0                  0.0             2.0   \n",
            "22543                 0.0                  0.0             1.0   \n",
            "22816                 1.0                  0.0             1.0   \n",
            "\n",
            "       Rendimiento (t/ha)  \n",
            "20877                 5.0  \n",
            "20911                 5.0  \n",
            "20988                 8.0  \n",
            "21089                11.0  \n",
            "21093                10.0  \n",
            "21118                15.0  \n",
            "21186                 6.0  \n",
            "21187                 6.0  \n",
            "21488                 5.0  \n",
            "21531                 9.0  \n",
            "21534                 3.0  \n",
            "21538                 6.0  \n",
            "21676                 5.0  \n",
            "21677                10.0  \n",
            "22210                 7.0  \n",
            "22214                10.0  \n",
            "22255                 9.0  \n",
            "22259                 9.0  \n",
            "22296                13.0  \n",
            "22300                13.0  \n",
            "22542                 5.0  \n",
            "22543                 3.0  \n",
            "22816                 3.0  \n"
          ]
        }
      ]
    },
    {
      "cell_type": "markdown",
      "source": [
        "### Reparar areas cosechadas con valor de 0 pero con R y P con valores "
      ],
      "metadata": {
        "id": "8_P2blzsIDg9"
      }
    },
    {
      "cell_type": "code",
      "source": [
        "#Crear una copia\n",
        "df_correc_area= df_area_cero.copy()"
      ],
      "metadata": {
        "id": "bMyaRlGgJp1f"
      },
      "execution_count": null,
      "outputs": []
    },
    {
      "cell_type": "code",
      "source": [
        "#recalcular los valores de la area cosechada\n",
        "df_correc_area.loc[:,'Area Cosechada (ha)'] = df_correc_area['Produccion (t)']/df_correc_area['Rendimiento (t/ha)']\n",
        "\n",
        "print(df_correc_area)"
      ],
      "metadata": {
        "colab": {
          "base_uri": "https://localhost:8080/"
        },
        "id": "pqliqL53JDc4",
        "outputId": "dd6aa55e-70eb-4c52-9bc1-1cc833c1eff6"
      },
      "execution_count": null,
      "outputs": [
        {
          "output_type": "stream",
          "name": "stdout",
          "text": [
            "              TIPO            MUNICIPIO                CULTIVO PERIODO  \\\n",
            "20877   Permanente         Campohermoso                   Mora    2021   \n",
            "20911  Transitorio            Chinavita               Pimentón   2021A   \n",
            "20988   Permanente           Chitaraque               Aguacate    2021   \n",
            "21089   Permanente           Covarachía                  Limón    2021   \n",
            "21093   Permanente           Covarachía                Naranja    2021   \n",
            "21118   Permanente               Cubará                Naranja    2021   \n",
            "21186  Transitorio               Chivor              Arracacha   2021A   \n",
            "21187  Transitorio               Chivor              Arracacha   2021B   \n",
            "21488   Permanente           La Capilla               Aguacate    2021   \n",
            "21531   Permanente             La Uvita                  Limón    2021   \n",
            "21534   Permanente             La Uvita              Mandarina    2021   \n",
            "21538   Permanente             La Uvita                   Mora    2021   \n",
            "21676   Permanente               Monguí  Durazno o Albaricoque    2021   \n",
            "21677   Permanente               Monguí                Manzana    2021   \n",
            "22210   Permanente     San José de Pare                  Limón    2021   \n",
            "22214   Permanente     San José de Pare                Naranja    2021   \n",
            "22255   Permanente            San Mateo                  Limón    2021   \n",
            "22259   Permanente            San Mateo                Naranja    2021   \n",
            "22296   Permanente  San Pablo de Borbur                  Limón    2021   \n",
            "22300   Permanente  San Pablo de Borbur                Naranja    2021   \n",
            "22542   Permanente             Sogamoso                 Curuba    2021   \n",
            "22543   Permanente             Sogamoso        Tomate de árbol    2021   \n",
            "22816  Transitorio              Tinjacá              Arracacha   2021A   \n",
            "\n",
            "       Area Sembrada (ha)  Area Cosechada (ha)  Produccion (t)  \\\n",
            "20877                 0.0             0.200000             1.0   \n",
            "20911                 0.0             0.400000             2.0   \n",
            "20988                 1.0             0.125000             1.0   \n",
            "21089                 0.0             0.090909             1.0   \n",
            "21093                 0.0             0.100000             1.0   \n",
            "21118                11.0             0.066667             1.0   \n",
            "21186                 0.0             0.333333             2.0   \n",
            "21187                 0.0             0.333333             2.0   \n",
            "21488                 0.0             0.200000             1.0   \n",
            "21531                 0.0             0.111111             1.0   \n",
            "21534                 0.0             0.333333             1.0   \n",
            "21538                 2.0             0.333333             2.0   \n",
            "21676                 0.0             0.400000             2.0   \n",
            "21677                 0.0             0.200000             2.0   \n",
            "22210                 0.0             0.285714             2.0   \n",
            "22214                 1.0             0.200000             2.0   \n",
            "22255                 0.0             0.333333             3.0   \n",
            "22259                 0.0             0.222222             2.0   \n",
            "22296                 1.0             0.307692             4.0   \n",
            "22300                 1.0             0.230769             3.0   \n",
            "22542                 0.0             0.400000             2.0   \n",
            "22543                 0.0             0.333333             1.0   \n",
            "22816                 1.0             0.333333             1.0   \n",
            "\n",
            "       Rendimiento (t/ha)  \n",
            "20877                 5.0  \n",
            "20911                 5.0  \n",
            "20988                 8.0  \n",
            "21089                11.0  \n",
            "21093                10.0  \n",
            "21118                15.0  \n",
            "21186                 6.0  \n",
            "21187                 6.0  \n",
            "21488                 5.0  \n",
            "21531                 9.0  \n",
            "21534                 3.0  \n",
            "21538                 6.0  \n",
            "21676                 5.0  \n",
            "21677                10.0  \n",
            "22210                 7.0  \n",
            "22214                10.0  \n",
            "22255                 9.0  \n",
            "22259                 9.0  \n",
            "22296                13.0  \n",
            "22300                13.0  \n",
            "22542                 5.0  \n",
            "22543                 3.0  \n",
            "22816                 3.0  \n"
          ]
        }
      ]
    },
    {
      "cell_type": "code",
      "source": [
        "#Actualizar dataframe correido\n",
        "dataFrame_Boyaca.update(df_correc_area)"
      ],
      "metadata": {
        "id": "0uWJ0LkHJ6wj"
      },
      "execution_count": null,
      "outputs": []
    },
    {
      "cell_type": "markdown",
      "source": [
        "### Comprobacion datos reparados"
      ],
      "metadata": {
        "id": "JqgBqK_sKL4e"
      }
    },
    {
      "cell_type": "code",
      "source": [
        "print(dataFrame_Boyaca.loc[21531])"
      ],
      "metadata": {
        "colab": {
          "base_uri": "https://localhost:8080/"
        },
        "id": "ntO-185rKIn2",
        "outputId": "97195199-98c5-4e6e-de2f-a78ce11631c9"
      },
      "execution_count": null,
      "outputs": [
        {
          "output_type": "stream",
          "name": "stdout",
          "text": [
            "TIPO                   Permanente\n",
            "MUNICIPIO                La Uvita\n",
            "CULTIVO                     Limón\n",
            "PERIODO                      2021\n",
            "Area Sembrada (ha)            0.0\n",
            "Area Cosechada (ha)      0.111111\n",
            "Produccion (t)                1.0\n",
            "Rendimiento (t/ha)            9.0\n",
            "Name: 21531, dtype: object\n"
          ]
        }
      ]
    },
    {
      "cell_type": "markdown",
      "source": [
        "## Revisión validación de rendimiento"
      ],
      "metadata": {
        "id": "PT7zzksTal96"
      }
    },
    {
      "cell_type": "code",
      "source": [
        "# Definir las columnas\n",
        "produ = dataFrame_Boyaca['Produccion (t)']\n",
        "area = dataFrame_Boyaca['Area Cosechada (ha)']\n",
        "rendi = dataFrame_Boyaca['Rendimiento (t/ha)']\n",
        "\n",
        "# Calcular la división de las dos primeras columnas\n",
        "division = produ / area"
      ],
      "metadata": {
        "id": "MK9MT67wPGOB"
      },
      "execution_count": null,
      "outputs": []
    },
    {
      "cell_type": "code",
      "source": [
        "# Aplicar una resta de división y rendi\n",
        "sesgo= division - rendi\n",
        "\n",
        "# Verificar que la diferencia sea mayor que 0.1\n",
        "# Es decir que \n",
        "validacion = sesgo > 0.1\n",
        "\n",
        "# Contar el número de filas en las que la validación es verdadera\n",
        "contador = validacion.sum()\n",
        "\n",
        "# Crear un nuevo dataframe con las filas donde se cumple la validación\n",
        "df_rendi_mal = dataFrame_Boyaca[validacion]\n",
        "\n",
        "# Imprimir el nuevo dataframe\n",
        "#print(df_valoresIncorrectos)\n",
        "\n",
        "# Imprimir el resultado\n",
        "print(f'Hay {contador} filas en las que el rendimiento es diferente a P/A.')\n"
      ],
      "metadata": {
        "colab": {
          "base_uri": "https://localhost:8080/"
        },
        "id": "PMSygtRjatSB",
        "outputId": "9569efbe-2497-48a2-8e45-bab79d907ed3"
      },
      "execution_count": null,
      "outputs": [
        {
          "output_type": "stream",
          "name": "stdout",
          "text": [
            "Hay 503 filas en las que el rendimiento es diferente a P/A.\n"
          ]
        }
      ]
    },
    {
      "cell_type": "markdown",
      "source": [
        "### Número de registros finales"
      ],
      "metadata": {
        "id": "oGtZMluwRfjf"
      }
    },
    {
      "cell_type": "code",
      "source": [
        "#Conteo de registros\n",
        "# Obtener el número de registros\n",
        "num_registros = dataFrame_Boyaca.shape[0]\n",
        "\n",
        "print(\"Número de registros:\", num_registros)"
      ],
      "metadata": {
        "colab": {
          "base_uri": "https://localhost:8080/"
        },
        "id": "bvRNjBXkTdgv",
        "outputId": "f862091d-c967-492e-bd95-5b5952d14b13"
      },
      "execution_count": null,
      "outputs": [
        {
          "output_type": "stream",
          "name": "stdout",
          "text": [
            "Número de registros: 22592\n"
          ]
        }
      ]
    },
    {
      "cell_type": "markdown",
      "source": [
        "## Eliminación de columna de rendimiento"
      ],
      "metadata": {
        "id": "jWRePv7jSRjP"
      }
    },
    {
      "cell_type": "code",
      "source": [
        "df_BoyacaMD = dataFrame_Boyaca.copy()"
      ],
      "metadata": {
        "id": "nrj5c055SQ-L"
      },
      "execution_count": null,
      "outputs": []
    },
    {
      "cell_type": "code",
      "source": [
        "# Eliminar la columna 'Columna2'\n",
        "df_BoyacaMD = df_BoyacaMD.drop('Rendimiento (t/ha)', axis=1)\n",
        "\n",
        "print(df_BoyacaMD.head(10))"
      ],
      "metadata": {
        "colab": {
          "base_uri": "https://localhost:8080/"
        },
        "id": "sf8r3Y6hUjuD",
        "outputId": "b728bad6-6fb2-494d-fcf9-a738cf260181"
      },
      "execution_count": null,
      "outputs": [
        {
          "output_type": "stream",
          "name": "stdout",
          "text": [
            "                                TIPO    MUNICIPIO   CULTIVO PERIODO  \\\n",
            "0               CULTIVOS PERMANENTES      RAQUIRA     AGRAZ    2015   \n",
            "1   CULTIVOS TRANSITORIOS SEMESTRE A     BUSBANZA   AHUYAMA   2018A   \n",
            "2               CULTIVOS PERMANENTES   BUENAVISTA  AGUACATE    2015   \n",
            "3               CULTIVOS PERMANENTES        COPER  AGUACATE    2015   \n",
            "4               CULTIVOS PERMANENTES        COPER  AGUACATE    2015   \n",
            "5               CULTIVOS PERMANENTES        COPER  AGUACATE    2015   \n",
            "7               CULTIVOS PERMANENTES    EL ESPINO  AGUACATE    2015   \n",
            "8               CULTIVOS PERMANENTES     JENESANO  AGUACATE    2015   \n",
            "9               CULTIVOS PERMANENTES  LA VICTORIA  AGUACATE    2015   \n",
            "10              CULTIVOS PERMANENTES   MIRAFLORES  AGUACATE    2015   \n",
            "\n",
            "    Area Sembrada (ha)  Area Cosechada (ha)  Produccion (t)  \n",
            "0                170.0                170.0          1360.0  \n",
            "1                  0.5                  0.4             2.0  \n",
            "2                 40.0                 25.0            25.0  \n",
            "3                  4.0                  2.0            24.0  \n",
            "4                 20.0                 10.0            70.0  \n",
            "5                 17.0                 10.0           150.0  \n",
            "7                  5.0                  1.5            15.0  \n",
            "8                  7.0                  5.0            50.0  \n",
            "9                 14.0                  2.0            20.0  \n",
            "10                43.0                  3.0             6.0  \n"
          ]
        }
      ]
    },
    {
      "cell_type": "markdown",
      "source": [
        "## Graficar Produccion luego de borrar y agregar valores faltantes"
      ],
      "metadata": {
        "id": "bDcYNVfKJMW7"
      }
    },
    {
      "cell_type": "code",
      "source": [
        "\n",
        "# Seleccionar la columna que se desea graficar\n",
        "columna = df_BoyacaMD['Produccion (t)']\n",
        "\n",
        "# Graficar los datos\n",
        "plt.plot(columna)\n",
        "\n",
        "# Agregar etiquetas al eje x y al eje y\n",
        "plt.xlabel('Registro')\n",
        "plt.ylabel('Produccion (t)')\n",
        "\n",
        "# Mostrar el gráfico\n",
        "plt.show()"
      ],
      "metadata": {
        "colab": {
          "base_uri": "https://localhost:8080/",
          "height": 449
        },
        "id": "_gI7PXmxJRd4",
        "outputId": "5f3b3931-5d25-4b20-d1c7-aa44331f47f4"
      },
      "execution_count": null,
      "outputs": [
        {
          "output_type": "display_data",
          "data": {
            "text/plain": [
              "<Figure size 640x480 with 1 Axes>"
            ],
            "image/png": "[encoded data removed]"
          },
          "metadata": {}
        }
      ]
    },
    {
      "cell_type": "code",
      "source": [
        "\n",
        "regsAnomalos=df_BoyacaMD.loc[df_BoyacaMD['Produccion (t)']>500000]\n",
        "\n",
        "print(regsAnomalos)"
      ],
      "metadata": {
        "colab": {
          "base_uri": "https://localhost:8080/"
        },
        "id": "a1JjSkOSTLRm",
        "outputId": "6ad5f9f0-e40a-41b6-fb22-478a52c9efc6"
      },
      "execution_count": null,
      "outputs": [
        {
          "output_type": "stream",
          "name": "stdout",
          "text": [
            "                      TIPO  MUNICIPIO          CULTIVO PERIODO  \\\n",
            "8832  CULTIVOS PERMANENTES  AQUITANIA  CEBOLLA DE RAMA    2012   \n",
            "\n",
            "      Area Sembrada (ha)  Area Cosechada (ha)  Produccion (t)  \n",
            "8832              1430.0                 1.43        525600.0  \n"
          ]
        }
      ]
    },
    {
      "cell_type": "code",
      "source": [
        "print(df_BoyacaMD.loc[8691])"
      ],
      "metadata": {
        "colab": {
          "base_uri": "https://localhost:8080/"
        },
        "id": "edkLl5AzT77A",
        "outputId": "fdb0b542-b145-4471-bf1c-c730224abd38"
      },
      "execution_count": null,
      "outputs": [
        {
          "output_type": "stream",
          "name": "stdout",
          "text": [
            "TIPO                   CULTIVOS TRANSITORIOS SEMESTRE A\n",
            "MUNICIPIO                                     EL ESPINO\n",
            "CULTIVO                                            PAPA\n",
            "PERIODO                                           2011A\n",
            "Area Sembrada (ha)                                 10.0\n",
            "Area Cosechada (ha)                                10.0\n",
            "Produccion (t)                                     60.0\n",
            "Name: 8691, dtype: object\n"
          ]
        }
      ]
    },
    {
      "cell_type": "markdown",
      "source": [
        "## Acotamiento del problema"
      ],
      "metadata": {
        "id": "3xnyACg2dORJ"
      }
    },
    {
      "cell_type": "markdown",
      "source": [
        "### Volver uniformes los registros categoricos solo minusculas (UDCLEAR)"
      ],
      "metadata": {
        "id": "f2tg4Ua-i3Xu"
      }
    },
    {
      "cell_type": "code",
      "source": [
        "df_BoyacaMD_V1=df_BoyacaMD.copy()\n",
        "# Convertir los valores de la columna 'CULTIVO' a mayusculas\n",
        "df_BoyacaMD_V1['CULTIVO'] = df_BoyacaMD_V1['CULTIVO'].str.lower()\n",
        "\n",
        "# Convertir los valores de la columna 'CULTIVO' a mayusculas\n",
        "df_BoyacaMD_V1['MUNICIPIO'] = df_BoyacaMD_V1['MUNICIPIO'].str.lower()\n",
        "\n",
        "# Convertir los valores de la columna 'CULTIVO' a mayusculas\n",
        "df_BoyacaMD_V1['PERIODO'] = df_BoyacaMD_V1['PERIODO'].str.lower()\n"
      ],
      "metadata": {
        "id": "OEZUyER6dL4-"
      },
      "execution_count": null,
      "outputs": []
    },
    {
      "cell_type": "code",
      "source": [
        "pip install unidecode\n"
      ],
      "metadata": {
        "colab": {
          "base_uri": "https://localhost:8080/"
        },
        "id": "9NdfX0-yOeGv",
        "outputId": "18c1e50e-5863-4c48-fc7b-604085d84941"
      },
      "execution_count": null,
      "outputs": [
        {
          "output_type": "stream",
          "name": "stdout",
          "text": [
            "Looking in indexes: https://pypi.org/simple, https://us-python.pkg.dev/colab-wheels/public/simple/\n",
            "Requirement already satisfied: unidecode in /usr/local/lib/python3.10/dist-packages (1.3.6)\n"
          ]
        }
      ]
    },
    {
      "cell_type": "markdown",
      "source": [
        "Vamos a seleccionar papa y papa criolla para ello creamos otro dataframe"
      ],
      "metadata": {
        "id": "pr_Vw-pKgqV9"
      }
    },
    {
      "cell_type": "code",
      "source": [
        "#Dataframe acotado\n",
        "df_BoyacaMD_V2= df_BoyacaMD_V1.copy()\n",
        "\n",
        "# Definir los valores de la columna 'A' para filtrar los registros\n",
        "valores_columna = ['papa', 'papa criolla']\n",
        "\n",
        "##¿ Filtrar los registros que cumplen con los valores de la columna 'A'\n",
        "df_BoyacaMD_V2 = df_BoyacaMD_V2[df_BoyacaMD_V2['CULTIVO']\n",
        "                                     .isin(valores_columna)]\n"
      ],
      "metadata": {
        "id": "ApTbo4zdgooM"
      },
      "execution_count": null,
      "outputs": []
    },
    {
      "cell_type": "markdown",
      "source": [
        "### Resetear los indices del dataframe"
      ],
      "metadata": {
        "id": "DBaTOBy_nku4"
      }
    },
    {
      "cell_type": "code",
      "source": [
        "# Restablecer los índices\n",
        "df_BoyacaMD_V2 = df_BoyacaMD_V2.reset_index(drop=True)"
      ],
      "metadata": {
        "id": "y8VbSFMXnkPD"
      },
      "execution_count": null,
      "outputs": []
    },
    {
      "cell_type": "code",
      "source": [
        "print(df_BoyacaMD_V2.head(3))"
      ],
      "metadata": {
        "id": "namiykg1n0n4",
        "colab": {
          "base_uri": "https://localhost:8080/"
        },
        "outputId": "c8664b40-7cf7-41d7-d57e-48de36bfec12"
      },
      "execution_count": null,
      "outputs": [
        {
          "output_type": "stream",
          "name": "stdout",
          "text": [
            "                               TIPO  MUNICIPIO CULTIVO PERIODO  \\\n",
            "0  CULTIVOS TRANSITORIOS SEMESTRE A    almeida    papa   2015a   \n",
            "1  CULTIVOS TRANSITORIOS SEMESTRE A  aquitania    papa   2015a   \n",
            "2  CULTIVOS TRANSITORIOS SEMESTRE A   arcabuco    papa   2015a   \n",
            "\n",
            "   Area Sembrada (ha)  Area Cosechada (ha)  Produccion (t)  \n",
            "0                 6.0                  6.0            40.8  \n",
            "1               325.0                320.0          8000.0  \n",
            "2              1200.0                700.0         14000.0  \n"
          ]
        }
      ]
    },
    {
      "cell_type": "markdown",
      "source": [
        "### Eliminar espacios y tildes y actualizar valores"
      ],
      "metadata": {
        "id": "HNqqyWJwO3QN"
      }
    },
    {
      "cell_type": "code",
      "source": [
        "from unidecode import unidecode\n",
        "\n",
        "# Función para eliminar las tildes de un texto\n",
        "def eliminar_tildes(texto):\n",
        "    return unidecode(texto)\n",
        "\n",
        "# Función para convertir los espacios en blanco en guiones\n",
        "def convertir_espacios(texto):\n",
        "    return texto.replace(\" \", \"-\")\n",
        "\n",
        "# Aplicar la función a la columna 'Texto' del DataFrame\n",
        "df_BoyacaMD_V2['MUNICIPIO'] = df_BoyacaMD_V2['MUNICIPIO'].apply(eliminar_tildes)\n",
        "# Aplicar la función a la columna 'Texto' del DataFrame\n",
        "df_BoyacaMD_V2['MUNICIPIO'] = df_BoyacaMD_V2['MUNICIPIO'].apply(convertir_espacios)\n",
        "df_BoyacaMD_V2['CULTIVO'] = df_BoyacaMD_V2['CULTIVO'].apply(convertir_espacios)\n",
        "\n",
        "# Mostrar el DataFrame resultante\n",
        "print(df_BoyacaMD_V2['MUNICIPIO'].loc[25])\n",
        "print(df_BoyacaMD_V2['CULTIVO'].loc[96])"
      ],
      "metadata": {
        "colab": {
          "base_uri": "https://localhost:8080/"
        },
        "id": "H_fC9SvxO_Qu",
        "outputId": "425c0532-5412-46fc-9131-6c27c3b76252"
      },
      "execution_count": null,
      "outputs": [
        {
          "output_type": "stream",
          "name": "stdout",
          "text": [
            "el-cocuy\n",
            "papa-criolla\n"
          ]
        }
      ]
    },
    {
      "cell_type": "code",
      "source": [
        "# Obtener los valores únicos de la columna '\n",
        "cultivos = df_BoyacaMD_V2['CULTIVO'].unique()\n",
        "print(cultivos)"
      ],
      "metadata": {
        "id": "b1omHvb8hvdi",
        "colab": {
          "base_uri": "https://localhost:8080/"
        },
        "outputId": "98f3b487-b87f-4e8f-bece-ab1a0c3a62fb"
      },
      "execution_count": null,
      "outputs": [
        {
          "output_type": "stream",
          "name": "stdout",
          "text": [
            "['papa' 'papa-criolla']\n"
          ]
        }
      ]
    },
    {
      "cell_type": "code",
      "source": [
        "print(df_BoyacaMD_V2.head(5))\n",
        "print(\"Contiene \",len(df_BoyacaMD_V2), \" registros\")"
      ],
      "metadata": {
        "id": "VSt6OwK-hO96",
        "colab": {
          "base_uri": "https://localhost:8080/"
        },
        "outputId": "cffc2ae0-976f-4840-e146-f2bf23778966"
      },
      "execution_count": null,
      "outputs": [
        {
          "output_type": "stream",
          "name": "stdout",
          "text": [
            "                               TIPO  MUNICIPIO CULTIVO PERIODO  \\\n",
            "0  CULTIVOS TRANSITORIOS SEMESTRE A    almeida    papa   2015a   \n",
            "1  CULTIVOS TRANSITORIOS SEMESTRE A  aquitania    papa   2015a   \n",
            "2  CULTIVOS TRANSITORIOS SEMESTRE A   arcabuco    papa   2015a   \n",
            "3  CULTIVOS TRANSITORIOS SEMESTRE A      belen    papa   2015a   \n",
            "4  CULTIVOS TRANSITORIOS SEMESTRE A  beteitiva    papa   2015a   \n",
            "\n",
            "   Area Sembrada (ha)  Area Cosechada (ha)  Produccion (t)  \n",
            "0                 6.0                  6.0            40.8  \n",
            "1               325.0                320.0          8000.0  \n",
            "2              1200.0                700.0         14000.0  \n",
            "3               961.0                900.0         16200.0  \n",
            "4                16.0                 14.0           141.4  \n",
            "Contiene  2573  registros\n"
          ]
        }
      ]
    },
    {
      "cell_type": "markdown",
      "source": [
        "# 2.Deteccion de datos anomalos "
      ],
      "metadata": {
        "id": "4lvhhT83F667"
      }
    },
    {
      "cell_type": "markdown",
      "source": [
        "## Graficar produccion"
      ],
      "metadata": {
        "id": "Q9G-1sCnz9HV"
      }
    },
    {
      "cell_type": "code",
      "source": [
        "# Seleccionar la columna que se desea graficar\n",
        "columna = df_BoyacaMD_V2['Produccion (t)']\n",
        "\n",
        "# Graficar los datos\n",
        "plt.plot(columna)\n",
        "\n",
        "# Agregar etiquetas al eje x y al eje y\n",
        "plt.xlabel('Registro')\n",
        "plt.ylabel('Produccion (t)')\n",
        "\n",
        "# Mostrar el gráfico\n",
        "plt.show()"
      ],
      "metadata": {
        "colab": {
          "base_uri": "https://localhost:8080/",
          "height": 449
        },
        "id": "uX4iGP8y0Cuo",
        "outputId": "6890ac85-63ee-4239-a11d-b2c7f0b00083"
      },
      "execution_count": null,
      "outputs": [
        {
          "output_type": "display_data",
          "data": {
            "text/plain": [
              "<Figure size 640x480 with 1 Axes>"
            ],
            "image/png": "[encoded data removed]"
          },
          "metadata": {}
        }
      ]
    },
    {
      "cell_type": "code",
      "source": [
        "# Seleccionar la columna que se desea graficar\n",
        "columna = df_BoyacaMD_V2['Area Cosechada (ha)']\n",
        "\n",
        "# Graficar los datos\n",
        "plt.plot(columna)\n",
        "\n",
        "# Agregar etiquetas al eje x y al eje y\n",
        "plt.xlabel('Registro')\n",
        "plt.ylabel('Area Cosechada (ha)')\n",
        "\n",
        "# Mostrar el gráfico\n",
        "plt.show()"
      ],
      "metadata": {
        "colab": {
          "base_uri": "https://localhost:8080/",
          "height": 449
        },
        "id": "PRb4biflSs2F",
        "outputId": "3b53f066-6d28-4038-b5fc-8279553d2bee"
      },
      "execution_count": null,
      "outputs": [
        {
          "output_type": "display_data",
          "data": {
            "text/plain": [
              "<Figure size 640x480 with 1 Axes>"
            ],
            "image/png": "[encoded data removed]"
          },
          "metadata": {}
        }
      ]
    },
    {
      "cell_type": "code",
      "source": [
        "# Seleccionar la columna que se desea graficar\n",
        "columna = df_BoyacaMD_V2['Area Sembrada (ha)']\n",
        "\n",
        "# Graficar los datos\n",
        "plt.plot(columna)\n",
        "\n",
        "# Agregar etiquetas al eje x y al eje y\n",
        "plt.xlabel('Registro')\n",
        "plt.ylabel('Area Sembrada (ha)')\n",
        "\n",
        "# Mostrar el gráfico\n",
        "plt.show()"
      ],
      "metadata": {
        "colab": {
          "base_uri": "https://localhost:8080/",
          "height": 449
        },
        "id": "I-rz5tQVTyoq",
        "outputId": "139308f9-6515-4d70-ec4f-408085bd7b1e"
      },
      "execution_count": null,
      "outputs": [
        {
          "output_type": "display_data",
          "data": {
            "text/plain": [
              "<Figure size 640x480 with 1 Axes>"
            ],
            "image/png": "[encoded data removed]"
          },
          "metadata": {}
        }
      ]
    },
    {
      "cell_type": "code",
      "source": [
        "numero_dado = 2500\n",
        "registros_mayor_5 = df_BoyacaMD_V2.loc[df_BoyacaMD_V2['Area Sembrada (ha)'] > numero_dado]\n",
        "\n",
        "print(registros_mayor_5)"
      ],
      "metadata": {
        "id": "VVrk8eeiahAN",
        "colab": {
          "base_uri": "https://localhost:8080/"
        },
        "outputId": "9b95276c-c26d-457a-e027-ae24621c66af"
      },
      "execution_count": null,
      "outputs": [
        {
          "output_type": "stream",
          "name": "stdout",
          "text": [
            "                                  TIPO     MUNICIPIO CULTIVO PERIODO  \\\n",
            "276   CULTIVOS TRANSITORIOS SEMESTRE A        saboya    papa   2018a   \n",
            "401   CULTIVOS TRANSITORIOS SEMESTRE B        saboya    papa   2018b   \n",
            "608   CULTIVOS TRANSITORIOS SEMESTRE A         tunja    papa   2012a   \n",
            "717   CULTIVOS TRANSITORIOS SEMESTRE A     siachoque    papa   2011a   \n",
            "807   CULTIVOS TRANSITORIOS SEMESTRE B  ventaquemada    papa   2013b   \n",
            "1047  CULTIVOS TRANSITORIOS SEMESTRE A     siachoque    papa   2012a   \n",
            "1148  CULTIVOS TRANSITORIOS SEMESTRE B         tunja    papa   2016b   \n",
            "1217  CULTIVOS TRANSITORIOS SEMESTRE A        saboya    papa   2017a   \n",
            "1315  CULTIVOS TRANSITORIOS SEMESTRE B     siachoque    papa   2013b   \n",
            "1367  CULTIVOS TRANSITORIOS SEMESTRE A         tunja    papa   2011a   \n",
            "1397  CULTIVOS TRANSITORIOS SEMESTRE A        samaca    papa   2011a   \n",
            "1503  CULTIVOS TRANSITORIOS SEMESTRE B         tunja    papa   2011b   \n",
            "1725  CULTIVOS TRANSITORIOS SEMESTRE A     siachoque    papa   2019a   \n",
            "1770  CULTIVOS TRANSITORIOS SEMESTRE B     siachoque    papa   2019b   \n",
            "1833  CULTIVOS TRANSITORIOS SEMESTRE A         tunja    papa   2019a   \n",
            "2013  CULTIVOS TRANSITORIOS SEMESTRE A     siachoque    papa   2019a   \n",
            "2014  CULTIVOS TRANSITORIOS SEMESTRE B     siachoque    papa   2019b   \n",
            "2048  CULTIVOS TRANSITORIOS SEMESTRE A         tunja    papa   2019a   \n",
            "2124                       Transitorio         tunja    papa   2020a   \n",
            "2279                       Transitorio     siachoque    papa   2020a   \n",
            "2280                       Transitorio     siachoque    papa   2020b   \n",
            "2486                       Transitorio        saboya    papa   2021b   \n",
            "2504                       Transitorio     siachoque    papa   2021a   \n",
            "2505                       Transitorio     siachoque    papa   2021b   \n",
            "\n",
            "      Area Sembrada (ha)  Area Cosechada (ha)  Produccion (t)  \n",
            "276               2900.0                2.800         56000.0  \n",
            "401               2700.0                2.650         53000.0  \n",
            "608               2800.0                2.650         39750.0  \n",
            "717               2689.0                2.620         43470.0  \n",
            "807               3000.0                2.500         62500.0  \n",
            "1047              3000.0                3.000         36000.0  \n",
            "1148              2570.0                2.570         51400.0  \n",
            "1217              3100.0                1.900         38000.0  \n",
            "1315              3000.0                3.000         45000.0  \n",
            "1367              2850.0                2.080         39360.0  \n",
            "1397              3481.0                3.481         64458.0  \n",
            "1503              3140.0                3.140         77150.0  \n",
            "1725              3500.0                3.500         63000.0  \n",
            "1770              3500.0                3.500         63000.0  \n",
            "1833              2600.0                2.600         52000.0  \n",
            "2013              3600.0                3.400         78200.0  \n",
            "2014              3400.0                3.400         78200.0  \n",
            "2048              2800.0                2.800         56000.0  \n",
            "2124              2800.0             2800.000         56000.0  \n",
            "2279              3600.0             3400.000         78200.0  \n",
            "2280              3400.0             3400.000         78200.0  \n",
            "2486              2550.0             2450.000         44100.0  \n",
            "2504              3700.0             3700.000         74000.0  \n",
            "2505              3500.0             3500.000         70000.0  \n"
          ]
        }
      ]
    },
    {
      "cell_type": "markdown",
      "source": [
        "## Determinación del umbral para Z-Score"
      ],
      "metadata": {
        "id": "axYDZTJaa2TH"
      }
    },
    {
      "cell_type": "code",
      "source": [
        "import pandas as pd\n",
        "import numpy as np\n",
        "\n",
        "\n",
        "# calcular la media y la desviación estándar de la columna 'columna_de_datos'\n",
        "media = df_BoyacaMD_V2['Produccion (t)'].mean()\n",
        "print(\"La media es: \", media)\n",
        "\n",
        "desviacion_estandar = df_BoyacaMD_V2['Produccion (t)'].std()\n",
        "print(\"La desviación estandar: \",desviacion_estandar )\n",
        "\n",
        "# definir el umbral como una cierta cantidad de desviaciones estándar por encima de la media\n",
        "umbral = (60000-media)/desviacion_estandar\n",
        "\n",
        "# imprimir el umbral\n",
        "print('El umbral de anormalidad es:', umbral)\n"
      ],
      "metadata": {
        "colab": {
          "base_uri": "https://localhost:8080/"
        },
        "id": "DuC1nzioa8gI",
        "outputId": "0c12117a-bf33-4bb8-9a1d-bd6c51984568"
      },
      "execution_count": null,
      "outputs": [
        {
          "output_type": "stream",
          "name": "stdout",
          "text": [
            "La media es:  4141.671546832491\n",
            "La desviación estandar:  9300.620419890289\n",
            "El umbral de anormalidad es: 6.005871214108361\n"
          ]
        }
      ]
    },
    {
      "cell_type": "markdown",
      "source": [
        "Implementación de Z-Score"
      ],
      "metadata": {
        "id": "bXGGLYsRbfMV"
      }
    },
    {
      "cell_type": "code",
      "source": [
        "import pandas as pd\n",
        "import statistics\n",
        "\n",
        "# Seleccionar la columna de interés\n",
        "col = 'Produccion (t)'\n",
        "data = df_BoyacaMD_V2[col]\n",
        "\n",
        "# Calcular el puntaje Z para cada punto de datos\n",
        "mean = data.mean()\n",
        "std = data.std()\n",
        "threshold = umbral # Umbral de tolerancia\n",
        "z_scores = [(x - mean) / std for x in data]\n",
        "\n",
        "# Crear un dataframe para almacenar los registros anómalos\n",
        "anomalies_df = pd.DataFrame(columns=df_BoyacaMD_V2.columns)\n",
        "\n",
        "print(\"Esta es la media de los scores \", statistics.mean(z_scores))\n",
        "\n",
        "# Iterar a través de cada registro y comprobar si contiene valores anómalos\n",
        "for i, score in enumerate(z_scores):\n",
        "    if abs(score) > threshold:\n",
        "        anomalies_df = anomalies_df.append(df_BoyacaMD_V2.iloc[i])\n",
        "\n",
        "# Imprimir los registros anómalos encontrados\n",
        "print(\"Registros anómalos encontrados:\")\n",
        "print(anomalies_df)\n",
        "print(\"Registros anomalos: \",len(anomalies_df))\n",
        "\n",
        "\n"
      ],
      "metadata": {
        "colab": {
          "base_uri": "https://localhost:8080/"
        },
        "id": "rjPWDlh9be0z",
        "outputId": "ce5857a4-d91a-456d-f344-e5e29ba3cd1a"
      },
      "execution_count": null,
      "outputs": [
        {
          "output_type": "stream",
          "name": "stdout",
          "text": [
            "Esta es la media de los scores  2.873371728021912e-17\n",
            "Registros anómalos encontrados:\n",
            "                                  TIPO     MUNICIPIO CULTIVO PERIODO  \\\n",
            "807   CULTIVOS TRANSITORIOS SEMESTRE B  ventaquemada    papa   2013b   \n",
            "1397  CULTIVOS TRANSITORIOS SEMESTRE A        samaca    papa   2011a   \n",
            "1503  CULTIVOS TRANSITORIOS SEMESTRE B         tunja    papa   2011b   \n",
            "1725  CULTIVOS TRANSITORIOS SEMESTRE A     siachoque    papa   2019a   \n",
            "1770  CULTIVOS TRANSITORIOS SEMESTRE B     siachoque    papa   2019b   \n",
            "2013  CULTIVOS TRANSITORIOS SEMESTRE A     siachoque    papa   2019a   \n",
            "2014  CULTIVOS TRANSITORIOS SEMESTRE B     siachoque    papa   2019b   \n",
            "2279                       Transitorio     siachoque    papa   2020a   \n",
            "2280                       Transitorio     siachoque    papa   2020b   \n",
            "2504                       Transitorio     siachoque    papa   2021a   \n",
            "2505                       Transitorio     siachoque    papa   2021b   \n",
            "2568                       Transitorio  ventaquemada    papa   2021b   \n",
            "\n",
            "      Area Sembrada (ha)  Area Cosechada (ha)  Produccion (t)  \n",
            "807               3000.0                2.500         62500.0  \n",
            "1397              3481.0                3.481         64458.0  \n",
            "1503              3140.0                3.140         77150.0  \n",
            "1725              3500.0                3.500         63000.0  \n",
            "1770              3500.0                3.500         63000.0  \n",
            "2013              3600.0                3.400         78200.0  \n",
            "2014              3400.0                3.400         78200.0  \n",
            "2279              3600.0             3400.000         78200.0  \n",
            "2280              3400.0             3400.000         78200.0  \n",
            "2504              3700.0             3700.000         74000.0  \n",
            "2505              3500.0             3500.000         70000.0  \n",
            "2568              2100.0             2100.000         62500.0  \n",
            "Registros anomalos:  12\n"
          ]
        },
        {
          "output_type": "stream",
          "name": "stderr",
          "text": [
            "<ipython-input-253-008154907516>:22: FutureWarning: The frame.append method is deprecated and will be removed from pandas in a future version. Use pandas.concat instead.\n",
            "  anomalies_df = anomalies_df.append(df_BoyacaMD_V2.iloc[i])\n",
            "<ipython-input-253-008154907516>:22: FutureWarning: The frame.append method is deprecated and will be removed from pandas in a future version. Use pandas.concat instead.\n",
            "  anomalies_df = anomalies_df.append(df_BoyacaMD_V2.iloc[i])\n",
            "<ipython-input-253-008154907516>:22: FutureWarning: The frame.append method is deprecated and will be removed from pandas in a future version. Use pandas.concat instead.\n",
            "  anomalies_df = anomalies_df.append(df_BoyacaMD_V2.iloc[i])\n",
            "<ipython-input-253-008154907516>:22: FutureWarning: The frame.append method is deprecated and will be removed from pandas in a future version. Use pandas.concat instead.\n",
            "  anomalies_df = anomalies_df.append(df_BoyacaMD_V2.iloc[i])\n",
            "<ipython-input-253-008154907516>:22: FutureWarning: The frame.append method is deprecated and will be removed from pandas in a future version. Use pandas.concat instead.\n",
            "  anomalies_df = anomalies_df.append(df_BoyacaMD_V2.iloc[i])\n",
            "<ipython-input-253-008154907516>:22: FutureWarning: The frame.append method is deprecated and will be removed from pandas in a future version. Use pandas.concat instead.\n",
            "  anomalies_df = anomalies_df.append(df_BoyacaMD_V2.iloc[i])\n",
            "<ipython-input-253-008154907516>:22: FutureWarning: The frame.append method is deprecated and will be removed from pandas in a future version. Use pandas.concat instead.\n",
            "  anomalies_df = anomalies_df.append(df_BoyacaMD_V2.iloc[i])\n",
            "<ipython-input-253-008154907516>:22: FutureWarning: The frame.append method is deprecated and will be removed from pandas in a future version. Use pandas.concat instead.\n",
            "  anomalies_df = anomalies_df.append(df_BoyacaMD_V2.iloc[i])\n",
            "<ipython-input-253-008154907516>:22: FutureWarning: The frame.append method is deprecated and will be removed from pandas in a future version. Use pandas.concat instead.\n",
            "  anomalies_df = anomalies_df.append(df_BoyacaMD_V2.iloc[i])\n",
            "<ipython-input-253-008154907516>:22: FutureWarning: The frame.append method is deprecated and will be removed from pandas in a future version. Use pandas.concat instead.\n",
            "  anomalies_df = anomalies_df.append(df_BoyacaMD_V2.iloc[i])\n",
            "<ipython-input-253-008154907516>:22: FutureWarning: The frame.append method is deprecated and will be removed from pandas in a future version. Use pandas.concat instead.\n",
            "  anomalies_df = anomalies_df.append(df_BoyacaMD_V2.iloc[i])\n",
            "<ipython-input-253-008154907516>:22: FutureWarning: The frame.append method is deprecated and will be removed from pandas in a future version. Use pandas.concat instead.\n",
            "  anomalies_df = anomalies_df.append(df_BoyacaMD_V2.iloc[i])\n"
          ]
        }
      ]
    },
    {
      "cell_type": "markdown",
      "source": [
        "## Eliminar datos anomalos"
      ],
      "metadata": {
        "id": "dJj1sxYXceLc"
      }
    },
    {
      "cell_type": "code",
      "source": [
        "# Obtener los índices que deben eliminarse\n",
        "ind_anomalos = anomalies_df.index\n",
        "\n",
        "print(\"Cantidad de indices a eliminar: \",len(ind_anomalos))\n",
        "#print(indices_a_eliminar)\n",
        "# Eliminar los registros de df1 basándose en los índices\n",
        "df_BoyacaMD_V2 = df_BoyacaMD_V2.drop(ind_anomalos)"
      ],
      "metadata": {
        "colab": {
          "base_uri": "https://localhost:8080/"
        },
        "id": "zdHwXP6Lcdcw",
        "outputId": "94d1c981-0c36-49aa-e96d-a44784481865"
      },
      "execution_count": null,
      "outputs": [
        {
          "output_type": "stream",
          "name": "stdout",
          "text": [
            "Cantidad de indices a eliminar:  12\n"
          ]
        }
      ]
    },
    {
      "cell_type": "markdown",
      "source": [
        "### Resetear indices"
      ],
      "metadata": {
        "id": "grT7YQcDRF9m"
      }
    },
    {
      "cell_type": "code",
      "source": [
        "# Restablecer los índices\n",
        "df_BoyacaMD_V2 = df_BoyacaMD_V2.reset_index(drop=True)"
      ],
      "metadata": {
        "id": "NePmHQfrRJ8u"
      },
      "execution_count": null,
      "outputs": []
    },
    {
      "cell_type": "markdown",
      "source": [
        "### Grafica de produccion"
      ],
      "metadata": {
        "id": "-Si1rJtddYXJ"
      }
    },
    {
      "cell_type": "code",
      "source": [
        "# Seleccionar la columna que se desea graficar\n",
        "columna = df_BoyacaMD_V2['Produccion (t)']\n",
        "\n",
        "# Graficar los datos\n",
        "plt.plot(columna)\n",
        "\n",
        "# Agregar etiquetas al eje x y al eje y\n",
        "plt.xlabel('Registro')\n",
        "plt.ylabel('Produccion (t)')\n",
        "\n",
        "# Mostrar el gráfico\n",
        "plt.show()"
      ],
      "metadata": {
        "colab": {
          "base_uri": "https://localhost:8080/",
          "height": 449
        },
        "id": "C7SENm4pdcEG",
        "outputId": "54f1a844-bd17-4417-8086-1a9212312828"
      },
      "execution_count": null,
      "outputs": [
        {
          "output_type": "display_data",
          "data": {
            "text/plain": [
              "<Figure size 640x480 with 1 Axes>"
            ],
            "image/png": "[encoded data removed]"
          },
          "metadata": {}
        }
      ]
    },
    {
      "cell_type": "markdown",
      "source": [
        "Atributo área sembrada"
      ],
      "metadata": {
        "id": "4ootrWWEAMLy"
      }
    },
    {
      "cell_type": "code",
      "source": [
        "# calcular la media y la desviación estándar de la columna 'columna_de_datos'\n",
        "media = df_BoyacaMD['Area Sembrada (ha)'].mean()\n",
        "print(\"La media es: \", media)\n",
        "\n",
        "desviacion_estandar = df_BoyacaMD['Area Sembrada (ha)'].std()\n",
        "print(\"La desviación estandar: \",desviacion_estandar )\n",
        "\n",
        "# definir el umbral como una cierta cantidad de desviaciones estándar por encima de la media\n",
        "umbral = media + (3 * desviacion_estandar)\n",
        "\n",
        "# imprimir el umbral\n",
        "print('El umbral de anormalidad es:', umbral)\n",
        "\n",
        "# Seleccionar la columna de interés\n",
        "col = 'Area Sembrada (ha)'\n",
        "data = df_BoyacaMD[col]\n",
        "\n",
        "# Calcular el puntaje Z para cada punto de datos\n",
        "mean = data.mean()\n",
        "std = data.std()\n",
        "threshold = umbral # Umbral de tolerancia\n",
        "z_scores = [(x - mean) / std for x in data]\n",
        "\n",
        "# Crear un dataframe para almacenar los registros anómalos\n",
        "anomalies_df = pd.DataFrame(columns=df_BoyacaMD.columns)\n",
        "\n",
        "print(\"Esta es la media de los scores \", statistics.mean(z_scores))\n",
        "\n",
        "# Iterar a través de cada registro y comprobar si contiene valores anómalos\n",
        "for i, score in enumerate(z_scores):\n",
        "    if abs(score) > threshold:\n",
        "        anomalies_df = anomalies_df.append(df_BoyacaMD.iloc[i])\n",
        "\n",
        "# Imprimir los registros anómalos encontrados\n",
        "print(\"Registros anómalos encontrados:\")\n",
        "print(anomalies_df)\n",
        "\n"
      ],
      "metadata": {
        "colab": {
          "base_uri": "https://localhost:8080/"
        },
        "id": "4uYGTp6rAO8X",
        "outputId": "adec4993-4739-49d3-ab90-695104ee44c6"
      },
      "execution_count": null,
      "outputs": [
        {
          "output_type": "stream",
          "name": "stdout",
          "text": [
            "La media es:  78.56543776558074\n",
            "La desviación estandar:  287.47123548726336\n",
            "El umbral de anormalidad es: 940.9791442273709\n",
            "Esta es la media de los scores  -9.04594834837137e-18\n",
            "Registros anómalos encontrados:\n",
            "Empty DataFrame\n",
            "Columns: [TIPO, MUNICIPIO, CULTIVO, PERIODO, Area Sembrada (ha), Area Cosechada (ha), Produccion (t)]\n",
            "Index: []\n"
          ]
        }
      ]
    },
    {
      "cell_type": "markdown",
      "source": [
        "# 3.Seleccion de atributos"
      ],
      "metadata": {
        "id": "a7D77aUXGP-E"
      }
    },
    {
      "cell_type": "markdown",
      "source": [
        "## Algoritmo Random Forest "
      ],
      "metadata": {
        "id": "caI2-JXoKHU2"
      }
    },
    {
      "cell_type": "code",
      "source": [
        "import pandas as pd\n",
        "from sklearn.feature_selection import mutual_info_classif\n",
        "from sklearn.preprocessing import StandardScaler\n",
        "from sklearn.preprocessing import LabelEncoder\n",
        "from sklearn.feature_selection import SelectKBest\n",
        "\n",
        "# Cargar el conjunto de datos\n",
        "data_atributte_selection = df_BoyacaMD_V2.copy()\n",
        "\n",
        "# Definir la columna target\n",
        "target_column = \"Produccion (t)\" \n",
        "target = data_atributte_selection[target_column].astype('int64')\n",
        "\n",
        "# Separar los atributos numéricos y categóricos\n",
        "numeric_features = data_atributte_selection.select_dtypes(include=['float64', 'int64']).columns\n",
        "categorical_features = data_atributte_selection.select_dtypes(include=['object']).columns\n",
        "\n",
        "# Codificar los atributos categóricos\n",
        "label_encoder = LabelEncoder()\n",
        "for col in categorical_features:\n",
        "    data_atributte_selection[col] = label_encoder.fit_transform(data_atributte_selection[col].astype(str))\n",
        "\n",
        "# Escalar los atributos numéricos\n",
        "scaler = StandardScaler()\n",
        "data_atributte_selection[numeric_features] = scaler.fit_transform(data_atributte_selection[numeric_features])\n",
        "\n",
        "# Calcular la importancia de los atributos utilizando la información mutua\n",
        "selector = SelectKBest(mutual_info_classif, k=7)\n",
        "selector.fit(data_atributte_selection, target)\n",
        "\n",
        "# Obtener los índices de los atributos seleccionados\n",
        "selected_indices = selector.get_support(indices=True)\n",
        "\n",
        "# Obtener los nombres de los atributos seleccionados\n",
        "selected_features = data_atributte_selection.columns[selected_indices]\n",
        "\n",
        "# Crear un nuevo conjunto de datos con los atributos seleccionados\n",
        "data_selected = data_atributte_selection[selected_features]\n",
        "# print(data_selected)\n",
        "\n",
        "# Calcular la importancia de los atributos utilizando la información mutua\n",
        "scores = mutual_info_classif(data_atributte_selection, target)\n",
        "feature_scores = list(zip(data_atributte_selection.columns, scores))\n",
        "\n",
        "# Ordenar los atributos por relevancia de manera descendente\n",
        "feature_scores_sorted = sorted(feature_scores, key=lambda x: x[1], reverse=True)\n",
        "\n",
        "# Obtener los nombres de los atributos seleccionados\n",
        "selected_features = [x[0] for x in feature_scores_sorted[:8]]\n",
        "\n",
        "# Crear un nuevo conjunto de datos con los atributos seleccionados\n",
        "data_selected = data_atributte_selection[selected_features]\n",
        "\n",
        "# Imprimir los nombres de los atributos seleccionados en orden descendente junto con su relevancia\n",
        "for feature, score in feature_scores_sorted:\n",
        "    if feature in selected_features:\n",
        "        print(feature, score)\n",
        "\n",
        "print(selected_features)"
      ],
      "metadata": {
        "id": "S489AMPuKSmP",
        "colab": {
          "base_uri": "https://localhost:8080/"
        },
        "outputId": "85e9abed-8ee4-40ae-8574-89ace323c180"
      },
      "execution_count": null,
      "outputs": [
        {
          "output_type": "stream",
          "name": "stdout",
          "text": [
            "Produccion (t) 5.858545419570188\n",
            "Area Cosechada (ha) 2.9537885964058677\n",
            "Area Sembrada (ha) 2.560177739252252\n",
            "MUNICIPIO 1.22732418066615\n",
            "PERIODO 0.13824744461165306\n",
            "TIPO 0.12157897373722548\n",
            "CULTIVO 0.11314904922191804\n",
            "['Produccion (t)', 'Area Cosechada (ha)', 'Area Sembrada (ha)', 'MUNICIPIO', 'PERIODO', 'TIPO', 'CULTIVO']\n"
          ]
        }
      ]
    },
    {
      "cell_type": "markdown",
      "source": [
        "## Elimando la columna del atributo menos relevante"
      ],
      "metadata": {
        "id": "N9HstC2mhRou"
      }
    },
    {
      "cell_type": "code",
      "source": [
        "df_BoyacaMD_V3=df_BoyacaMD_V2.copy()"
      ],
      "metadata": {
        "id": "T3ZucZ5yYgna"
      },
      "execution_count": null,
      "outputs": []
    },
    {
      "cell_type": "code",
      "source": [
        "df_BoyacaMD_V3.drop('TIPO', axis=1, inplace=True)\n",
        "print(df_BoyacaMD_V3.head(10))"
      ],
      "metadata": {
        "id": "75XaHDqNhV03",
        "colab": {
          "base_uri": "https://localhost:8080/"
        },
        "outputId": "4ae49a3f-d0f9-4b9a-9897-61fdb83ec576"
      },
      "execution_count": null,
      "outputs": [
        {
          "output_type": "stream",
          "name": "stdout",
          "text": [
            "    MUNICIPIO CULTIVO PERIODO  Area Sembrada (ha)  Area Cosechada (ha)  \\\n",
            "0     almeida    papa   2015a                 6.0                  6.0   \n",
            "1   aquitania    papa   2015a               325.0                320.0   \n",
            "2    arcabuco    papa   2015a              1200.0                700.0   \n",
            "3       belen    papa   2015a               961.0                900.0   \n",
            "4   beteitiva    papa   2015a                16.0                 14.0   \n",
            "5      boyaca    papa   2015a               250.0                250.0   \n",
            "6  buenavista    papa   2015a                26.0                 10.0   \n",
            "7    busbanza    papa   2015a                 4.2                  1.8   \n",
            "8      caldas    papa   2015a                90.0                 60.0   \n",
            "9     cerinza    papa   2015a                 8.0                  6.0   \n",
            "\n",
            "   Produccion (t)  \n",
            "0           40.80  \n",
            "1         8000.00  \n",
            "2        14000.00  \n",
            "3        16200.00  \n",
            "4          141.40  \n",
            "5         6250.00  \n",
            "6          130.00  \n",
            "7           18.54  \n",
            "8          600.00  \n",
            "9           90.00  \n"
          ]
        }
      ]
    },
    {
      "cell_type": "markdown",
      "source": [
        "# 4.Transformacion de datos"
      ],
      "metadata": {
        "id": "HBIvaLoNGZkU"
      }
    },
    {
      "cell_type": "code",
      "source": [
        "#Exportar CSV\n",
        "df_BoyacaMD_V3.to_csv('df_BoyacaMD_V3.csv',index=False)\n"
      ],
      "metadata": {
        "id": "st218qY4DBu_"
      },
      "execution_count": null,
      "outputs": []
    },
    {
      "cell_type": "markdown",
      "source": [
        "Obtener las clases para los atributos categóricos"
      ],
      "metadata": {
        "id": "i_X31En0FTLm"
      }
    },
    {
      "cell_type": "code",
      "source": [
        "\n",
        "municipios=df_BoyacaMD_V3['MUNICIPIO'].unique()\n",
        "periodos=df_BoyacaMD_V3['PERIODO'].unique()\n",
        "cultivos = df_BoyacaMD_V3['CULTIVO'].unique()\n",
        "\n",
        "#\n",
        "print(list(municipios))\n",
        "print(list(cultivos))\n",
        "print(list(periodos))"
      ],
      "metadata": {
        "colab": {
          "base_uri": "https://localhost:8080/"
        },
        "id": "3cF6aX5kFYPz",
        "outputId": "31380304-08ac-4811-9767-3f8b824e7de8"
      },
      "execution_count": null,
      "outputs": [
        {
          "output_type": "stream",
          "name": "stdout",
          "text": [
            "['almeida', 'aquitania', 'arcabuco', 'belen', 'beteitiva', 'boyaca', 'buenavista', 'busbanza', 'caldas', 'cerinza', 'chinavita', 'chiquinquira', 'chiquiza', 'chiscas', 'chita', 'chivata', 'cienega', 'combita', 'corrales', 'cucaita', 'cuitiva', 'duitama', 'el-cocuy', 'firavitoba', 'floresta', 'gachantiva', 'gameza', 'garagoa', 'guacamayas', 'guican', 'iza', 'jenesano', 'jerico', 'la-uvita', 'mongua', 'mongui', 'motavita', 'nobsa', 'nuevo-colon', 'oicata', 'pachavita', 'paipa', 'pajarito', 'panqueba', 'paz-de-rio', 'pesca', 'ramiriqui', 'raquira', 'rondon', 'saboya', 'samaca', 'san-miguel-de-sema', 'santa-rosa-de-viterbo', 'santa-sofia', 'sativanorte', 'sativasur', 'siachoque', 'soata', 'socha', 'socota', 'sogamoso', 'somondoco', 'sora', 'soraca', 'sotaquira', 'susacon', 'sutamarchan', 'tasco', 'tibana', 'tibasosa', 'tinjaca', 'tipacoque', 'toca', 'topaga', 'tota', 'tunja', 'turmeque', 'tuta', 'tutaza', 'umbita', 'ventaquemada', 'villa-de-leyva', 'viracacha', 'chivor', 'labranzagrande', 'miraflores', 'el-espino', 'macanal', 'pauna', 'san-jose-de-pare', 'guateque', 'pisba', 'villa-de-leiva', 'maripi', 'togui']\n",
            "['papa', 'papa-criolla']\n",
            "['2015a', '2015b', '2018a', '2018b', '2017b', '2012a', '2011a', '2014b', '2016b', '2017a', '2013a', '2014a', '2011b', '2012b', '2016a', '2013b', '2019a', '2019b', '2020a', '2020b', '2021a', '2021b']\n"
          ]
        }
      ]
    },
    {
      "cell_type": "markdown",
      "source": [
        "### Discretizar datos"
      ],
      "metadata": {
        "id": "l7BmAgjZeb-3"
      }
    },
    {
      "cell_type": "markdown",
      "source": [
        "Por medio de UD Clear se discretizaron los datos"
      ],
      "metadata": {
        "id": "9In2Z3U7sSot"
      }
    },
    {
      "cell_type": "markdown",
      "source": [
        "# 5.Mineria de datos"
      ],
      "metadata": {
        "id": "tQhRdtWmVHvc"
      }
    },
    {
      "cell_type": "markdown",
      "source": [
        "## Red neuronal de clasificación"
      ],
      "metadata": {
        "id": "haAIwKnjtNIS"
      }
    },
    {
      "cell_type": "code",
      "source": [
        "import pandas as pd\n",
        "import numpy as np\n",
        "import tensorflow as tf\n",
        "from sklearn.model_selection import train_test_split\n",
        "from sklearn.preprocessing import LabelEncoder\n",
        "from sklearn.preprocessing import OneHotEncoder\n",
        "\n",
        "# Cargar el dataframe\n",
        "df_BoyacaMD_V4 = pd.read_csv('df_BoyacaMD_V4.csv')\n",
        "\n",
        "# Obtener las características y las etiquetas\n",
        "features = df_BoyacaMD_V4.drop(\"Produccion (t)\", axis=1)\n",
        "labels = df_BoyacaMD_V4[\"Produccion (t)\"]\n",
        "labels_df = pd.DataFrame(df_BoyacaMD_V4['Produccion (t)'])\n",
        "\n",
        "# Convertir las características categóricas en variables numéricas\n",
        "label_encoder = LabelEncoder()\n",
        "onehot_encoder = OneHotEncoder(sparse=False)\n",
        "\n",
        "features_encoded = features.apply(label_encoder.fit_transform)\n",
        "\n",
        "class_encoded_1 = label_encoder.fit_transform(labels)\n",
        "class_encoded_2 = class_encoded_1.reshape(-1, 1)\n",
        "class_encoded_3 = onehot_encoder.fit_transform(class_encoded_2)\n",
        "\n",
        "\n",
        "\n",
        "# Dividir los datos en conjuntos de entrenamiento y prueba\n",
        "X_train, X_test, y_train, y_test = train_test_split(features_encoded, class_encoded_3, test_size=0.2, random_state=42)\n",
        "\n",
        "# Crear el modelo de red neuronal\n",
        "model = tf.keras.models.Sequential([\n",
        "    tf.keras.layers.Dense(50, activation='relu', input_shape=(X_train.shape[1],)),\n",
        "    tf.keras.layers.Dense(50, activation='relu'),\n",
        "    tf.keras.layers.Dense(class_encoded_3.shape[1], activation='softmax')\n",
        "])\n",
        "\n",
        "# Compilar el modelo\n",
        "model.compile(optimizer='adam', loss='categorical_crossentropy', metrics=['accuracy'])\n",
        "\n",
        "# Entrenar el modelo\n",
        "model.fit(X_train, y_train, epochs=250, batch_size=32, validation_data=(X_test, y_test))\n",
        "\n",
        "# Evaluar el modelo en los datos de prueba\n",
        "loss, accuracy = model.evaluate(X_test, y_test)\n",
        "print(\"Loss: {:.4f}\".format(loss))\n",
        "print(\"Accuracy: {:.2f}%\".format(accuracy * 100))\n",
        "\n"
      ],
      "metadata": {
        "colab": {
          "base_uri": "https://localhost:8080/"
        },
        "id": "CVpw56P4bsT_",
        "outputId": "8a06b5b3-821e-492e-d557-059de62220c0"
      },
      "execution_count": 1,
      "outputs": [
        {
          "output_type": "stream",
          "name": "stderr",
          "text": [
            "/usr/local/lib/python3.10/dist-packages/sklearn/preprocessing/_encoders.py:868: FutureWarning: `sparse` was renamed to `sparse_output` in version 1.2 and will be removed in 1.4. `sparse_output` is ignored unless you leave `sparse` to its default value.\n",
            "  warnings.warn(\n"
          ]
        },
        {
          "output_type": "stream",
          "name": "stdout",
          "text": [
            "Epoch 1/250\n",
            "64/64 [==============================] - 3s 17ms/step - loss: 1.6518 - accuracy: 0.7666 - val_loss: 1.0063 - val_accuracy: 0.8538\n",
            "Epoch 2/250\n",
            "64/64 [==============================] - 0s 4ms/step - loss: 0.6241 - accuracy: 0.8726 - val_loss: 0.7445 - val_accuracy: 0.8635\n",
            "Epoch 3/250\n",
            "64/64 [==============================] - 0s 5ms/step - loss: 0.5439 - accuracy: 0.8760 - val_loss: 0.6223 - val_accuracy: 0.8616\n",
            "Epoch 4/250\n",
            "64/64 [==============================] - 0s 5ms/step - loss: 0.5156 - accuracy: 0.8755 - val_loss: 0.6287 - val_accuracy: 0.8577\n",
            "Epoch 5/250\n",
            "64/64 [==============================] - 0s 5ms/step - loss: 0.4771 - accuracy: 0.8818 - val_loss: 0.5726 - val_accuracy: 0.8635\n",
            "Epoch 6/250\n",
            "64/64 [==============================] - 1s 8ms/step - loss: 0.4610 - accuracy: 0.8828 - val_loss: 0.5489 - val_accuracy: 0.8635\n",
            "Epoch 7/250\n",
            "64/64 [==============================] - 1s 9ms/step - loss: 0.4354 - accuracy: 0.8833 - val_loss: 0.5311 - val_accuracy: 0.8596\n",
            "Epoch 8/250\n",
            "64/64 [==============================] - 0s 7ms/step - loss: 0.4126 - accuracy: 0.8809 - val_loss: 0.5385 - val_accuracy: 0.8558\n",
            "Epoch 9/250\n",
            "64/64 [==============================] - 1s 9ms/step - loss: 0.4046 - accuracy: 0.8828 - val_loss: 0.4854 - val_accuracy: 0.8577\n",
            "Epoch 10/250\n",
            "64/64 [==============================] - 0s 6ms/step - loss: 0.3786 - accuracy: 0.8867 - val_loss: 0.5026 - val_accuracy: 0.8616\n",
            "Epoch 11/250\n",
            "64/64 [==============================] - 1s 8ms/step - loss: 0.3688 - accuracy: 0.8882 - val_loss: 0.4586 - val_accuracy: 0.8577\n",
            "Epoch 12/250\n",
            "64/64 [==============================] - 0s 4ms/step - loss: 0.3510 - accuracy: 0.8862 - val_loss: 0.4297 - val_accuracy: 0.8596\n",
            "Epoch 13/250\n",
            "64/64 [==============================] - 0s 4ms/step - loss: 0.3509 - accuracy: 0.8838 - val_loss: 0.4234 - val_accuracy: 0.8577\n",
            "Epoch 14/250\n",
            "64/64 [==============================] - 0s 5ms/step - loss: 0.3359 - accuracy: 0.8901 - val_loss: 0.4261 - val_accuracy: 0.8499\n",
            "Epoch 15/250\n",
            "64/64 [==============================] - 0s 5ms/step - loss: 0.3365 - accuracy: 0.8892 - val_loss: 0.4011 - val_accuracy: 0.8480\n",
            "Epoch 16/250\n",
            "64/64 [==============================] - 0s 4ms/step - loss: 0.3401 - accuracy: 0.8882 - val_loss: 0.4140 - val_accuracy: 0.8519\n",
            "Epoch 17/250\n",
            "64/64 [==============================] - 0s 4ms/step - loss: 0.3207 - accuracy: 0.8887 - val_loss: 0.3721 - val_accuracy: 0.8577\n",
            "Epoch 18/250\n",
            "64/64 [==============================] - 0s 5ms/step - loss: 0.3324 - accuracy: 0.8926 - val_loss: 0.3964 - val_accuracy: 0.8616\n",
            "Epoch 19/250\n",
            "64/64 [==============================] - 0s 6ms/step - loss: 0.3152 - accuracy: 0.8892 - val_loss: 0.4406 - val_accuracy: 0.8616\n",
            "Epoch 20/250\n",
            "64/64 [==============================] - 0s 6ms/step - loss: 0.3127 - accuracy: 0.8965 - val_loss: 0.4243 - val_accuracy: 0.8635\n",
            "Epoch 21/250\n",
            "64/64 [==============================] - 0s 5ms/step - loss: 0.3080 - accuracy: 0.8955 - val_loss: 0.4000 - val_accuracy: 0.8655\n",
            "Epoch 22/250\n",
            "64/64 [==============================] - 0s 5ms/step - loss: 0.3122 - accuracy: 0.8984 - val_loss: 0.3942 - val_accuracy: 0.8616\n",
            "Epoch 23/250\n",
            "64/64 [==============================] - 0s 4ms/step - loss: 0.3028 - accuracy: 0.8945 - val_loss: 0.3850 - val_accuracy: 0.8538\n",
            "Epoch 24/250\n",
            "64/64 [==============================] - 0s 5ms/step - loss: 0.3108 - accuracy: 0.8892 - val_loss: 0.4273 - val_accuracy: 0.8694\n",
            "Epoch 25/250\n",
            "64/64 [==============================] - 0s 5ms/step - loss: 0.3086 - accuracy: 0.8975 - val_loss: 0.3976 - val_accuracy: 0.8635\n",
            "Epoch 26/250\n",
            "64/64 [==============================] - 0s 5ms/step - loss: 0.3007 - accuracy: 0.8979 - val_loss: 0.4457 - val_accuracy: 0.8616\n",
            "Epoch 27/250\n",
            "64/64 [==============================] - 0s 4ms/step - loss: 0.3038 - accuracy: 0.8950 - val_loss: 0.4107 - val_accuracy: 0.8694\n",
            "Epoch 28/250\n",
            "64/64 [==============================] - 0s 7ms/step - loss: 0.2976 - accuracy: 0.8955 - val_loss: 0.4152 - val_accuracy: 0.8694\n",
            "Epoch 29/250\n",
            "64/64 [==============================] - 0s 7ms/step - loss: 0.2900 - accuracy: 0.8994 - val_loss: 0.3931 - val_accuracy: 0.8596\n",
            "Epoch 30/250\n",
            "64/64 [==============================] - 0s 5ms/step - loss: 0.2988 - accuracy: 0.8940 - val_loss: 0.3895 - val_accuracy: 0.8713\n",
            "Epoch 31/250\n",
            "64/64 [==============================] - 0s 5ms/step - loss: 0.2785 - accuracy: 0.9019 - val_loss: 0.4343 - val_accuracy: 0.8694\n",
            "Epoch 32/250\n",
            "64/64 [==============================] - 0s 5ms/step - loss: 0.2975 - accuracy: 0.8940 - val_loss: 0.3915 - val_accuracy: 0.8713\n",
            "Epoch 33/250\n",
            "64/64 [==============================] - 0s 3ms/step - loss: 0.2881 - accuracy: 0.9028 - val_loss: 0.3653 - val_accuracy: 0.8616\n",
            "Epoch 34/250\n",
            "64/64 [==============================] - 0s 3ms/step - loss: 0.2795 - accuracy: 0.9023 - val_loss: 0.3762 - val_accuracy: 0.8655\n",
            "Epoch 35/250\n",
            "64/64 [==============================] - 0s 3ms/step - loss: 0.2868 - accuracy: 0.8984 - val_loss: 0.3906 - val_accuracy: 0.8674\n",
            "Epoch 36/250\n",
            "64/64 [==============================] - 0s 2ms/step - loss: 0.2890 - accuracy: 0.9014 - val_loss: 0.3861 - val_accuracy: 0.8694\n",
            "Epoch 37/250\n",
            "64/64 [==============================] - 0s 3ms/step - loss: 0.2780 - accuracy: 0.9004 - val_loss: 0.3853 - val_accuracy: 0.8674\n",
            "Epoch 38/250\n",
            "64/64 [==============================] - 0s 2ms/step - loss: 0.2909 - accuracy: 0.8945 - val_loss: 0.4082 - val_accuracy: 0.8674\n",
            "Epoch 39/250\n",
            "64/64 [==============================] - 0s 3ms/step - loss: 0.2778 - accuracy: 0.8965 - val_loss: 0.3953 - val_accuracy: 0.8733\n",
            "Epoch 40/250\n",
            "64/64 [==============================] - 0s 2ms/step - loss: 0.2757 - accuracy: 0.9009 - val_loss: 0.3697 - val_accuracy: 0.8791\n",
            "Epoch 41/250\n",
            "64/64 [==============================] - 0s 3ms/step - loss: 0.2771 - accuracy: 0.9009 - val_loss: 0.3770 - val_accuracy: 0.8635\n",
            "Epoch 42/250\n",
            "64/64 [==============================] - 0s 3ms/step - loss: 0.2778 - accuracy: 0.9009 - val_loss: 0.4154 - val_accuracy: 0.8694\n",
            "Epoch 43/250\n",
            "64/64 [==============================] - 0s 3ms/step - loss: 0.2721 - accuracy: 0.9048 - val_loss: 0.3899 - val_accuracy: 0.8655\n",
            "Epoch 44/250\n",
            "64/64 [==============================] - 0s 3ms/step - loss: 0.2741 - accuracy: 0.9009 - val_loss: 0.4015 - val_accuracy: 0.8791\n",
            "Epoch 45/250\n",
            "64/64 [==============================] - 0s 3ms/step - loss: 0.2777 - accuracy: 0.9033 - val_loss: 0.3641 - val_accuracy: 0.8713\n",
            "Epoch 46/250\n",
            "64/64 [==============================] - 0s 2ms/step - loss: 0.2753 - accuracy: 0.9014 - val_loss: 0.3809 - val_accuracy: 0.8674\n",
            "Epoch 47/250\n",
            "64/64 [==============================] - 0s 2ms/step - loss: 0.2705 - accuracy: 0.9009 - val_loss: 0.4058 - val_accuracy: 0.8772\n",
            "Epoch 48/250\n",
            "64/64 [==============================] - 0s 2ms/step - loss: 0.2780 - accuracy: 0.8994 - val_loss: 0.4009 - val_accuracy: 0.8655\n",
            "Epoch 49/250\n",
            "64/64 [==============================] - 0s 4ms/step - loss: 0.2782 - accuracy: 0.8970 - val_loss: 0.4045 - val_accuracy: 0.8733\n",
            "Epoch 50/250\n",
            "64/64 [==============================] - 0s 4ms/step - loss: 0.2682 - accuracy: 0.9048 - val_loss: 0.3715 - val_accuracy: 0.8713\n",
            "Epoch 51/250\n",
            "64/64 [==============================] - 0s 4ms/step - loss: 0.2657 - accuracy: 0.9043 - val_loss: 0.3745 - val_accuracy: 0.8655\n",
            "Epoch 52/250\n",
            "64/64 [==============================] - 0s 4ms/step - loss: 0.2723 - accuracy: 0.9009 - val_loss: 0.4014 - val_accuracy: 0.8558\n",
            "Epoch 53/250\n",
            "64/64 [==============================] - 0s 4ms/step - loss: 0.2742 - accuracy: 0.9033 - val_loss: 0.3763 - val_accuracy: 0.8752\n",
            "Epoch 54/250\n",
            "64/64 [==============================] - 0s 4ms/step - loss: 0.2728 - accuracy: 0.8999 - val_loss: 0.4001 - val_accuracy: 0.8694\n",
            "Epoch 55/250\n",
            "64/64 [==============================] - 0s 4ms/step - loss: 0.2868 - accuracy: 0.9019 - val_loss: 0.3875 - val_accuracy: 0.8674\n",
            "Epoch 56/250\n",
            "64/64 [==============================] - 0s 4ms/step - loss: 0.2723 - accuracy: 0.8984 - val_loss: 0.3645 - val_accuracy: 0.8694\n",
            "Epoch 57/250\n",
            "64/64 [==============================] - 0s 4ms/step - loss: 0.2552 - accuracy: 0.9092 - val_loss: 0.3681 - val_accuracy: 0.8713\n",
            "Epoch 58/250\n",
            "64/64 [==============================] - 0s 4ms/step - loss: 0.2601 - accuracy: 0.9023 - val_loss: 0.3787 - val_accuracy: 0.8694\n",
            "Epoch 59/250\n",
            "64/64 [==============================] - 0s 3ms/step - loss: 0.2572 - accuracy: 0.9053 - val_loss: 0.3858 - val_accuracy: 0.8674\n",
            "Epoch 60/250\n",
            "64/64 [==============================] - 0s 3ms/step - loss: 0.2649 - accuracy: 0.9028 - val_loss: 0.4248 - val_accuracy: 0.8752\n",
            "Epoch 61/250\n",
            "64/64 [==============================] - 0s 3ms/step - loss: 0.2641 - accuracy: 0.9062 - val_loss: 0.3968 - val_accuracy: 0.8655\n",
            "Epoch 62/250\n",
            "64/64 [==============================] - 0s 3ms/step - loss: 0.2553 - accuracy: 0.9062 - val_loss: 0.3846 - val_accuracy: 0.8694\n",
            "Epoch 63/250\n",
            "64/64 [==============================] - 0s 5ms/step - loss: 0.2589 - accuracy: 0.9004 - val_loss: 0.3971 - val_accuracy: 0.8772\n",
            "Epoch 64/250\n",
            "64/64 [==============================] - 0s 5ms/step - loss: 0.2510 - accuracy: 0.9116 - val_loss: 0.3822 - val_accuracy: 0.8752\n",
            "Epoch 65/250\n",
            "64/64 [==============================] - 0s 4ms/step - loss: 0.2570 - accuracy: 0.9014 - val_loss: 0.3911 - val_accuracy: 0.8674\n",
            "Epoch 66/250\n",
            "64/64 [==============================] - 0s 5ms/step - loss: 0.2574 - accuracy: 0.9077 - val_loss: 0.3696 - val_accuracy: 0.8772\n",
            "Epoch 67/250\n",
            "64/64 [==============================] - 0s 4ms/step - loss: 0.2591 - accuracy: 0.9116 - val_loss: 0.4219 - val_accuracy: 0.8674\n",
            "Epoch 68/250\n",
            "64/64 [==============================] - 0s 5ms/step - loss: 0.2635 - accuracy: 0.9028 - val_loss: 0.3666 - val_accuracy: 0.8616\n",
            "Epoch 69/250\n",
            "64/64 [==============================] - 0s 5ms/step - loss: 0.2556 - accuracy: 0.9077 - val_loss: 0.3858 - val_accuracy: 0.8733\n",
            "Epoch 70/250\n",
            "64/64 [==============================] - 0s 5ms/step - loss: 0.2535 - accuracy: 0.9077 - val_loss: 0.3725 - val_accuracy: 0.8655\n",
            "Epoch 71/250\n",
            "64/64 [==============================] - 0s 4ms/step - loss: 0.2536 - accuracy: 0.9102 - val_loss: 0.3580 - val_accuracy: 0.8733\n",
            "Epoch 72/250\n",
            "64/64 [==============================] - 0s 4ms/step - loss: 0.2510 - accuracy: 0.9062 - val_loss: 0.3752 - val_accuracy: 0.8733\n",
            "Epoch 73/250\n",
            "64/64 [==============================] - 0s 6ms/step - loss: 0.2484 - accuracy: 0.9106 - val_loss: 0.3565 - val_accuracy: 0.8733\n",
            "Epoch 74/250\n",
            "64/64 [==============================] - 0s 5ms/step - loss: 0.2489 - accuracy: 0.9038 - val_loss: 0.3548 - val_accuracy: 0.8674\n",
            "Epoch 75/250\n",
            "64/64 [==============================] - 0s 5ms/step - loss: 0.2492 - accuracy: 0.9048 - val_loss: 0.3903 - val_accuracy: 0.8713\n",
            "Epoch 76/250\n",
            "64/64 [==============================] - 0s 5ms/step - loss: 0.2537 - accuracy: 0.9082 - val_loss: 0.3775 - val_accuracy: 0.8713\n",
            "Epoch 77/250\n",
            "64/64 [==============================] - 0s 4ms/step - loss: 0.2489 - accuracy: 0.9111 - val_loss: 0.3510 - val_accuracy: 0.8694\n",
            "Epoch 78/250\n",
            "64/64 [==============================] - 0s 4ms/step - loss: 0.2434 - accuracy: 0.9092 - val_loss: 0.4098 - val_accuracy: 0.8674\n",
            "Epoch 79/250\n",
            "64/64 [==============================] - 0s 5ms/step - loss: 0.2487 - accuracy: 0.9106 - val_loss: 0.3810 - val_accuracy: 0.8635\n",
            "Epoch 80/250\n",
            "64/64 [==============================] - 0s 5ms/step - loss: 0.2528 - accuracy: 0.9048 - val_loss: 0.3580 - val_accuracy: 0.8674\n",
            "Epoch 81/250\n",
            "64/64 [==============================] - 0s 5ms/step - loss: 0.2552 - accuracy: 0.9004 - val_loss: 0.3545 - val_accuracy: 0.8733\n",
            "Epoch 82/250\n",
            "64/64 [==============================] - 0s 6ms/step - loss: 0.2427 - accuracy: 0.9121 - val_loss: 0.3932 - val_accuracy: 0.8674\n",
            "Epoch 83/250\n",
            "64/64 [==============================] - 0s 7ms/step - loss: 0.2446 - accuracy: 0.9082 - val_loss: 0.3889 - val_accuracy: 0.8674\n",
            "Epoch 84/250\n",
            "64/64 [==============================] - 0s 6ms/step - loss: 0.2509 - accuracy: 0.9077 - val_loss: 0.3777 - val_accuracy: 0.8674\n",
            "Epoch 85/250\n",
            "64/64 [==============================] - 0s 6ms/step - loss: 0.2432 - accuracy: 0.9067 - val_loss: 0.3609 - val_accuracy: 0.8674\n",
            "Epoch 86/250\n",
            "64/64 [==============================] - 0s 5ms/step - loss: 0.2386 - accuracy: 0.9092 - val_loss: 0.3733 - val_accuracy: 0.8713\n",
            "Epoch 87/250\n",
            "64/64 [==============================] - 0s 6ms/step - loss: 0.2423 - accuracy: 0.9121 - val_loss: 0.3789 - val_accuracy: 0.8694\n",
            "Epoch 88/250\n",
            "64/64 [==============================] - 0s 5ms/step - loss: 0.2496 - accuracy: 0.9102 - val_loss: 0.4083 - val_accuracy: 0.8694\n",
            "Epoch 89/250\n",
            "64/64 [==============================] - 0s 4ms/step - loss: 0.2413 - accuracy: 0.9111 - val_loss: 0.3469 - val_accuracy: 0.8752\n",
            "Epoch 90/250\n",
            "64/64 [==============================] - 0s 5ms/step - loss: 0.2368 - accuracy: 0.9087 - val_loss: 0.3840 - val_accuracy: 0.8713\n",
            "Epoch 91/250\n",
            "64/64 [==============================] - 1s 8ms/step - loss: 0.2379 - accuracy: 0.9150 - val_loss: 0.3730 - val_accuracy: 0.8752\n",
            "Epoch 92/250\n",
            "64/64 [==============================] - 1s 8ms/step - loss: 0.2376 - accuracy: 0.9116 - val_loss: 0.3744 - val_accuracy: 0.8733\n",
            "Epoch 93/250\n",
            "64/64 [==============================] - 0s 5ms/step - loss: 0.2316 - accuracy: 0.9111 - val_loss: 0.3811 - val_accuracy: 0.8733\n",
            "Epoch 94/250\n",
            "64/64 [==============================] - 1s 9ms/step - loss: 0.2337 - accuracy: 0.9116 - val_loss: 0.3638 - val_accuracy: 0.8616\n",
            "Epoch 95/250\n",
            "64/64 [==============================] - 1s 9ms/step - loss: 0.2453 - accuracy: 0.9072 - val_loss: 0.3611 - val_accuracy: 0.8694\n",
            "Epoch 96/250\n",
            "64/64 [==============================] - 0s 6ms/step - loss: 0.2321 - accuracy: 0.9106 - val_loss: 0.3845 - val_accuracy: 0.8752\n",
            "Epoch 97/250\n",
            "64/64 [==============================] - 0s 7ms/step - loss: 0.2316 - accuracy: 0.9072 - val_loss: 0.3864 - val_accuracy: 0.8655\n",
            "Epoch 98/250\n",
            "64/64 [==============================] - 1s 8ms/step - loss: 0.2395 - accuracy: 0.9082 - val_loss: 0.3725 - val_accuracy: 0.8694\n",
            "Epoch 99/250\n",
            "64/64 [==============================] - 0s 5ms/step - loss: 0.2333 - accuracy: 0.9092 - val_loss: 0.3741 - val_accuracy: 0.8791\n",
            "Epoch 100/250\n",
            "64/64 [==============================] - 0s 5ms/step - loss: 0.2239 - accuracy: 0.9160 - val_loss: 0.3607 - val_accuracy: 0.8655\n",
            "Epoch 101/250\n",
            "64/64 [==============================] - 0s 5ms/step - loss: 0.2384 - accuracy: 0.9067 - val_loss: 0.3859 - val_accuracy: 0.8694\n",
            "Epoch 102/250\n",
            "64/64 [==============================] - 0s 4ms/step - loss: 0.2273 - accuracy: 0.9087 - val_loss: 0.3646 - val_accuracy: 0.8733\n",
            "Epoch 103/250\n",
            "64/64 [==============================] - 0s 6ms/step - loss: 0.2344 - accuracy: 0.9136 - val_loss: 0.3977 - val_accuracy: 0.8694\n",
            "Epoch 104/250\n",
            "64/64 [==============================] - 0s 6ms/step - loss: 0.2346 - accuracy: 0.9087 - val_loss: 0.3731 - val_accuracy: 0.8811\n",
            "Epoch 105/250\n",
            "64/64 [==============================] - 0s 5ms/step - loss: 0.2205 - accuracy: 0.9165 - val_loss: 0.3683 - val_accuracy: 0.8674\n",
            "Epoch 106/250\n",
            "64/64 [==============================] - 0s 4ms/step - loss: 0.2261 - accuracy: 0.9150 - val_loss: 0.3613 - val_accuracy: 0.8791\n",
            "Epoch 107/250\n",
            "64/64 [==============================] - 0s 7ms/step - loss: 0.2301 - accuracy: 0.9102 - val_loss: 0.3633 - val_accuracy: 0.8752\n",
            "Epoch 108/250\n",
            "64/64 [==============================] - 0s 4ms/step - loss: 0.2326 - accuracy: 0.9097 - val_loss: 0.3433 - val_accuracy: 0.8811\n",
            "Epoch 109/250\n",
            "64/64 [==============================] - 0s 4ms/step - loss: 0.2240 - accuracy: 0.9185 - val_loss: 0.3883 - val_accuracy: 0.8733\n",
            "Epoch 110/250\n",
            "64/64 [==============================] - 0s 6ms/step - loss: 0.2289 - accuracy: 0.9111 - val_loss: 0.3633 - val_accuracy: 0.8713\n",
            "Epoch 111/250\n",
            "64/64 [==============================] - 0s 4ms/step - loss: 0.2251 - accuracy: 0.9194 - val_loss: 0.3499 - val_accuracy: 0.8772\n",
            "Epoch 112/250\n",
            "64/64 [==============================] - 0s 4ms/step - loss: 0.2280 - accuracy: 0.9097 - val_loss: 0.3423 - val_accuracy: 0.8752\n",
            "Epoch 113/250\n",
            "64/64 [==============================] - 0s 4ms/step - loss: 0.2224 - accuracy: 0.9204 - val_loss: 0.3497 - val_accuracy: 0.8752\n",
            "Epoch 114/250\n",
            "64/64 [==============================] - 0s 6ms/step - loss: 0.2269 - accuracy: 0.9146 - val_loss: 0.3858 - val_accuracy: 0.8733\n",
            "Epoch 115/250\n",
            "64/64 [==============================] - 0s 4ms/step - loss: 0.2250 - accuracy: 0.9121 - val_loss: 0.3926 - val_accuracy: 0.8772\n",
            "Epoch 116/250\n",
            "64/64 [==============================] - 0s 5ms/step - loss: 0.2186 - accuracy: 0.9170 - val_loss: 0.3734 - val_accuracy: 0.8772\n",
            "Epoch 117/250\n",
            "64/64 [==============================] - 0s 5ms/step - loss: 0.2217 - accuracy: 0.9160 - val_loss: 0.3599 - val_accuracy: 0.8752\n",
            "Epoch 118/250\n",
            "64/64 [==============================] - 0s 5ms/step - loss: 0.2213 - accuracy: 0.9136 - val_loss: 0.4031 - val_accuracy: 0.8752\n",
            "Epoch 119/250\n",
            "64/64 [==============================] - 0s 5ms/step - loss: 0.2161 - accuracy: 0.9185 - val_loss: 0.3627 - val_accuracy: 0.8830\n",
            "Epoch 120/250\n",
            "64/64 [==============================] - 0s 2ms/step - loss: 0.2161 - accuracy: 0.9150 - val_loss: 0.3767 - val_accuracy: 0.8752\n",
            "Epoch 121/250\n",
            "64/64 [==============================] - 0s 3ms/step - loss: 0.2182 - accuracy: 0.9150 - val_loss: 0.3575 - val_accuracy: 0.8713\n",
            "Epoch 122/250\n",
            "64/64 [==============================] - 0s 3ms/step - loss: 0.2147 - accuracy: 0.9175 - val_loss: 0.3843 - val_accuracy: 0.8752\n",
            "Epoch 123/250\n",
            "64/64 [==============================] - 0s 3ms/step - loss: 0.2194 - accuracy: 0.9185 - val_loss: 0.3649 - val_accuracy: 0.8811\n",
            "Epoch 124/250\n",
            "64/64 [==============================] - 0s 3ms/step - loss: 0.2175 - accuracy: 0.9194 - val_loss: 0.3516 - val_accuracy: 0.8772\n",
            "Epoch 125/250\n",
            "64/64 [==============================] - 0s 3ms/step - loss: 0.2164 - accuracy: 0.9272 - val_loss: 0.3581 - val_accuracy: 0.8733\n",
            "Epoch 126/250\n",
            "64/64 [==============================] - 0s 3ms/step - loss: 0.2177 - accuracy: 0.9165 - val_loss: 0.3527 - val_accuracy: 0.8811\n",
            "Epoch 127/250\n",
            "64/64 [==============================] - 0s 2ms/step - loss: 0.2106 - accuracy: 0.9194 - val_loss: 0.3767 - val_accuracy: 0.8791\n",
            "Epoch 128/250\n",
            "64/64 [==============================] - 0s 3ms/step - loss: 0.2169 - accuracy: 0.9194 - val_loss: 0.3722 - val_accuracy: 0.8772\n",
            "Epoch 129/250\n",
            "64/64 [==============================] - 0s 3ms/step - loss: 0.2178 - accuracy: 0.9136 - val_loss: 0.3778 - val_accuracy: 0.8694\n",
            "Epoch 130/250\n",
            "64/64 [==============================] - 0s 3ms/step - loss: 0.2172 - accuracy: 0.9160 - val_loss: 0.3514 - val_accuracy: 0.8811\n",
            "Epoch 131/250\n",
            "64/64 [==============================] - 0s 3ms/step - loss: 0.2115 - accuracy: 0.9229 - val_loss: 0.3726 - val_accuracy: 0.8811\n",
            "Epoch 132/250\n",
            "64/64 [==============================] - 0s 3ms/step - loss: 0.2112 - accuracy: 0.9185 - val_loss: 0.3553 - val_accuracy: 0.8811\n",
            "Epoch 133/250\n",
            "64/64 [==============================] - 0s 3ms/step - loss: 0.2145 - accuracy: 0.9136 - val_loss: 0.3636 - val_accuracy: 0.8811\n",
            "Epoch 134/250\n",
            "64/64 [==============================] - 0s 3ms/step - loss: 0.2168 - accuracy: 0.9126 - val_loss: 0.3610 - val_accuracy: 0.8791\n",
            "Epoch 135/250\n",
            "64/64 [==============================] - 0s 4ms/step - loss: 0.2092 - accuracy: 0.9165 - val_loss: 0.3665 - val_accuracy: 0.8791\n",
            "Epoch 136/250\n",
            "64/64 [==============================] - 0s 4ms/step - loss: 0.2186 - accuracy: 0.9189 - val_loss: 0.3767 - val_accuracy: 0.8733\n",
            "Epoch 137/250\n",
            "64/64 [==============================] - 0s 4ms/step - loss: 0.2184 - accuracy: 0.9194 - val_loss: 0.3598 - val_accuracy: 0.8733\n",
            "Epoch 138/250\n",
            "64/64 [==============================] - 0s 4ms/step - loss: 0.2101 - accuracy: 0.9199 - val_loss: 0.3923 - val_accuracy: 0.8733\n",
            "Epoch 139/250\n",
            "64/64 [==============================] - 0s 4ms/step - loss: 0.2086 - accuracy: 0.9160 - val_loss: 0.3824 - val_accuracy: 0.8713\n",
            "Epoch 140/250\n",
            "64/64 [==============================] - 0s 4ms/step - loss: 0.2158 - accuracy: 0.9165 - val_loss: 0.3876 - val_accuracy: 0.8733\n",
            "Epoch 141/250\n",
            "64/64 [==============================] - 0s 3ms/step - loss: 0.2153 - accuracy: 0.9150 - val_loss: 0.3631 - val_accuracy: 0.8713\n",
            "Epoch 142/250\n",
            "64/64 [==============================] - 0s 4ms/step - loss: 0.2100 - accuracy: 0.9165 - val_loss: 0.3665 - val_accuracy: 0.8733\n",
            "Epoch 143/250\n",
            "64/64 [==============================] - 0s 4ms/step - loss: 0.2055 - accuracy: 0.9233 - val_loss: 0.3596 - val_accuracy: 0.8733\n",
            "Epoch 144/250\n",
            "64/64 [==============================] - 0s 4ms/step - loss: 0.2076 - accuracy: 0.9229 - val_loss: 0.3791 - val_accuracy: 0.8733\n",
            "Epoch 145/250\n",
            "64/64 [==============================] - 0s 4ms/step - loss: 0.2196 - accuracy: 0.9126 - val_loss: 0.3603 - val_accuracy: 0.8713\n",
            "Epoch 146/250\n",
            "64/64 [==============================] - 0s 3ms/step - loss: 0.2118 - accuracy: 0.9243 - val_loss: 0.3493 - val_accuracy: 0.8791\n",
            "Epoch 147/250\n",
            "64/64 [==============================] - 0s 3ms/step - loss: 0.2048 - accuracy: 0.9219 - val_loss: 0.3687 - val_accuracy: 0.8791\n",
            "Epoch 148/250\n",
            "64/64 [==============================] - 0s 3ms/step - loss: 0.2085 - accuracy: 0.9209 - val_loss: 0.3645 - val_accuracy: 0.8772\n",
            "Epoch 149/250\n",
            "64/64 [==============================] - 0s 3ms/step - loss: 0.2078 - accuracy: 0.9189 - val_loss: 0.3549 - val_accuracy: 0.8850\n",
            "Epoch 150/250\n",
            "64/64 [==============================] - 0s 3ms/step - loss: 0.2072 - accuracy: 0.9189 - val_loss: 0.3693 - val_accuracy: 0.8791\n",
            "Epoch 151/250\n",
            "64/64 [==============================] - 0s 3ms/step - loss: 0.2053 - accuracy: 0.9214 - val_loss: 0.4026 - val_accuracy: 0.8733\n",
            "Epoch 152/250\n",
            "64/64 [==============================] - 0s 3ms/step - loss: 0.2127 - accuracy: 0.9131 - val_loss: 0.3711 - val_accuracy: 0.8811\n",
            "Epoch 153/250\n",
            "64/64 [==============================] - 0s 3ms/step - loss: 0.2065 - accuracy: 0.9263 - val_loss: 0.3634 - val_accuracy: 0.8772\n",
            "Epoch 154/250\n",
            "64/64 [==============================] - 0s 3ms/step - loss: 0.2003 - accuracy: 0.9224 - val_loss: 0.3788 - val_accuracy: 0.8733\n",
            "Epoch 155/250\n",
            "64/64 [==============================] - 0s 3ms/step - loss: 0.2077 - accuracy: 0.9199 - val_loss: 0.3879 - val_accuracy: 0.8772\n",
            "Epoch 156/250\n",
            "64/64 [==============================] - 0s 3ms/step - loss: 0.2017 - accuracy: 0.9229 - val_loss: 0.3672 - val_accuracy: 0.8772\n",
            "Epoch 157/250\n",
            "64/64 [==============================] - 0s 3ms/step - loss: 0.2025 - accuracy: 0.9224 - val_loss: 0.3597 - val_accuracy: 0.8772\n",
            "Epoch 158/250\n",
            "64/64 [==============================] - 0s 3ms/step - loss: 0.2053 - accuracy: 0.9238 - val_loss: 0.3620 - val_accuracy: 0.8752\n",
            "Epoch 159/250\n",
            "64/64 [==============================] - 0s 3ms/step - loss: 0.2004 - accuracy: 0.9209 - val_loss: 0.3894 - val_accuracy: 0.8752\n",
            "Epoch 160/250\n",
            "64/64 [==============================] - 0s 3ms/step - loss: 0.2011 - accuracy: 0.9258 - val_loss: 0.3802 - val_accuracy: 0.8772\n",
            "Epoch 161/250\n",
            "64/64 [==============================] - 0s 3ms/step - loss: 0.2038 - accuracy: 0.9238 - val_loss: 0.3789 - val_accuracy: 0.8772\n",
            "Epoch 162/250\n",
            "64/64 [==============================] - 0s 3ms/step - loss: 0.1993 - accuracy: 0.9214 - val_loss: 0.3748 - val_accuracy: 0.8811\n",
            "Epoch 163/250\n",
            "64/64 [==============================] - 0s 3ms/step - loss: 0.2008 - accuracy: 0.9224 - val_loss: 0.3572 - val_accuracy: 0.8811\n",
            "Epoch 164/250\n",
            "64/64 [==============================] - 0s 3ms/step - loss: 0.2053 - accuracy: 0.9224 - val_loss: 0.3738 - val_accuracy: 0.8791\n",
            "Epoch 165/250\n",
            "64/64 [==============================] - 0s 3ms/step - loss: 0.2010 - accuracy: 0.9248 - val_loss: 0.3900 - val_accuracy: 0.8811\n",
            "Epoch 166/250\n",
            "64/64 [==============================] - 0s 3ms/step - loss: 0.2008 - accuracy: 0.9243 - val_loss: 0.3752 - val_accuracy: 0.8811\n",
            "Epoch 167/250\n",
            "64/64 [==============================] - 0s 3ms/step - loss: 0.1932 - accuracy: 0.9282 - val_loss: 0.3698 - val_accuracy: 0.8772\n",
            "Epoch 168/250\n",
            "64/64 [==============================] - 0s 3ms/step - loss: 0.1962 - accuracy: 0.9238 - val_loss: 0.3908 - val_accuracy: 0.8811\n",
            "Epoch 169/250\n",
            "64/64 [==============================] - 0s 3ms/step - loss: 0.2006 - accuracy: 0.9209 - val_loss: 0.3981 - val_accuracy: 0.8850\n",
            "Epoch 170/250\n",
            "64/64 [==============================] - 0s 3ms/step - loss: 0.1939 - accuracy: 0.9277 - val_loss: 0.3730 - val_accuracy: 0.8752\n",
            "Epoch 171/250\n",
            "64/64 [==============================] - 0s 3ms/step - loss: 0.1962 - accuracy: 0.9238 - val_loss: 0.3707 - val_accuracy: 0.8772\n",
            "Epoch 172/250\n",
            "64/64 [==============================] - 0s 3ms/step - loss: 0.1977 - accuracy: 0.9243 - val_loss: 0.3585 - val_accuracy: 0.8811\n",
            "Epoch 173/250\n",
            "64/64 [==============================] - 0s 3ms/step - loss: 0.1939 - accuracy: 0.9253 - val_loss: 0.3677 - val_accuracy: 0.8811\n",
            "Epoch 174/250\n",
            "64/64 [==============================] - 0s 3ms/step - loss: 0.1927 - accuracy: 0.9253 - val_loss: 0.3742 - val_accuracy: 0.8713\n",
            "Epoch 175/250\n",
            "64/64 [==============================] - 0s 3ms/step - loss: 0.1986 - accuracy: 0.9268 - val_loss: 0.4009 - val_accuracy: 0.8752\n",
            "Epoch 176/250\n",
            "64/64 [==============================] - 0s 3ms/step - loss: 0.2010 - accuracy: 0.9219 - val_loss: 0.3946 - val_accuracy: 0.8811\n",
            "Epoch 177/250\n",
            "64/64 [==============================] - 0s 3ms/step - loss: 0.1913 - accuracy: 0.9219 - val_loss: 0.4050 - val_accuracy: 0.8752\n",
            "Epoch 178/250\n",
            "64/64 [==============================] - 0s 3ms/step - loss: 0.1933 - accuracy: 0.9224 - val_loss: 0.3527 - val_accuracy: 0.8811\n",
            "Epoch 179/250\n",
            "64/64 [==============================] - 0s 3ms/step - loss: 0.1955 - accuracy: 0.9268 - val_loss: 0.3719 - val_accuracy: 0.8830\n",
            "Epoch 180/250\n",
            "64/64 [==============================] - 0s 3ms/step - loss: 0.1962 - accuracy: 0.9229 - val_loss: 0.3791 - val_accuracy: 0.8772\n",
            "Epoch 181/250\n",
            "64/64 [==============================] - 0s 2ms/step - loss: 0.1960 - accuracy: 0.9233 - val_loss: 0.3598 - val_accuracy: 0.8791\n",
            "Epoch 182/250\n",
            "64/64 [==============================] - 0s 3ms/step - loss: 0.1897 - accuracy: 0.9248 - val_loss: 0.3917 - val_accuracy: 0.8830\n",
            "Epoch 183/250\n",
            "64/64 [==============================] - 0s 3ms/step - loss: 0.1934 - accuracy: 0.9233 - val_loss: 0.3634 - val_accuracy: 0.8811\n",
            "Epoch 184/250\n",
            "64/64 [==============================] - 0s 3ms/step - loss: 0.1874 - accuracy: 0.9312 - val_loss: 0.3775 - val_accuracy: 0.8811\n",
            "Epoch 185/250\n",
            "64/64 [==============================] - 0s 3ms/step - loss: 0.1957 - accuracy: 0.9268 - val_loss: 0.3858 - val_accuracy: 0.8830\n",
            "Epoch 186/250\n",
            "64/64 [==============================] - 0s 3ms/step - loss: 0.1868 - accuracy: 0.9312 - val_loss: 0.3732 - val_accuracy: 0.8869\n",
            "Epoch 187/250\n",
            "64/64 [==============================] - 0s 3ms/step - loss: 0.1923 - accuracy: 0.9238 - val_loss: 0.3948 - val_accuracy: 0.8830\n",
            "Epoch 188/250\n",
            "64/64 [==============================] - 0s 3ms/step - loss: 0.1906 - accuracy: 0.9268 - val_loss: 0.3850 - val_accuracy: 0.8869\n",
            "Epoch 189/250\n",
            "64/64 [==============================] - 0s 3ms/step - loss: 0.1881 - accuracy: 0.9277 - val_loss: 0.3802 - val_accuracy: 0.8811\n",
            "Epoch 190/250\n",
            "64/64 [==============================] - 0s 3ms/step - loss: 0.1950 - accuracy: 0.9229 - val_loss: 0.3694 - val_accuracy: 0.8752\n",
            "Epoch 191/250\n",
            "64/64 [==============================] - 0s 3ms/step - loss: 0.1895 - accuracy: 0.9263 - val_loss: 0.3855 - val_accuracy: 0.8830\n",
            "Epoch 192/250\n",
            "64/64 [==============================] - 0s 3ms/step - loss: 0.1909 - accuracy: 0.9248 - val_loss: 0.3866 - val_accuracy: 0.8850\n",
            "Epoch 193/250\n",
            "64/64 [==============================] - 0s 3ms/step - loss: 0.1908 - accuracy: 0.9277 - val_loss: 0.3791 - val_accuracy: 0.8811\n",
            "Epoch 194/250\n",
            "64/64 [==============================] - 0s 3ms/step - loss: 0.1848 - accuracy: 0.9287 - val_loss: 0.3785 - val_accuracy: 0.8791\n",
            "Epoch 195/250\n",
            "64/64 [==============================] - 0s 3ms/step - loss: 0.1833 - accuracy: 0.9292 - val_loss: 0.3811 - val_accuracy: 0.8830\n",
            "Epoch 196/250\n",
            "64/64 [==============================] - 0s 3ms/step - loss: 0.1861 - accuracy: 0.9282 - val_loss: 0.3858 - val_accuracy: 0.8791\n",
            "Epoch 197/250\n",
            "64/64 [==============================] - 0s 3ms/step - loss: 0.1882 - accuracy: 0.9248 - val_loss: 0.3883 - val_accuracy: 0.8830\n",
            "Epoch 198/250\n",
            "64/64 [==============================] - 0s 3ms/step - loss: 0.1864 - accuracy: 0.9253 - val_loss: 0.3939 - val_accuracy: 0.8908\n",
            "Epoch 199/250\n",
            "64/64 [==============================] - 0s 4ms/step - loss: 0.1917 - accuracy: 0.9258 - val_loss: 0.3729 - val_accuracy: 0.8811\n",
            "Epoch 200/250\n",
            "64/64 [==============================] - 0s 4ms/step - loss: 0.1849 - accuracy: 0.9321 - val_loss: 0.3788 - val_accuracy: 0.8830\n",
            "Epoch 201/250\n",
            "64/64 [==============================] - 0s 3ms/step - loss: 0.1852 - accuracy: 0.9272 - val_loss: 0.3703 - val_accuracy: 0.8772\n",
            "Epoch 202/250\n",
            "64/64 [==============================] - 0s 3ms/step - loss: 0.1879 - accuracy: 0.9263 - val_loss: 0.3588 - val_accuracy: 0.8791\n",
            "Epoch 203/250\n",
            "64/64 [==============================] - 0s 3ms/step - loss: 0.1876 - accuracy: 0.9258 - val_loss: 0.4123 - val_accuracy: 0.8733\n",
            "Epoch 204/250\n",
            "64/64 [==============================] - 0s 3ms/step - loss: 0.1858 - accuracy: 0.9253 - val_loss: 0.4060 - val_accuracy: 0.8791\n",
            "Epoch 205/250\n",
            "64/64 [==============================] - 0s 3ms/step - loss: 0.1929 - accuracy: 0.9248 - val_loss: 0.4031 - val_accuracy: 0.8869\n",
            "Epoch 206/250\n",
            "64/64 [==============================] - 0s 3ms/step - loss: 0.1893 - accuracy: 0.9219 - val_loss: 0.3886 - val_accuracy: 0.8733\n",
            "Epoch 207/250\n",
            "64/64 [==============================] - 0s 4ms/step - loss: 0.1862 - accuracy: 0.9297 - val_loss: 0.4082 - val_accuracy: 0.8830\n",
            "Epoch 208/250\n",
            "64/64 [==============================] - 0s 4ms/step - loss: 0.1791 - accuracy: 0.9272 - val_loss: 0.4077 - val_accuracy: 0.8850\n",
            "Epoch 209/250\n",
            "64/64 [==============================] - 0s 3ms/step - loss: 0.1813 - accuracy: 0.9351 - val_loss: 0.3820 - val_accuracy: 0.8733\n",
            "Epoch 210/250\n",
            "64/64 [==============================] - 0s 4ms/step - loss: 0.1785 - accuracy: 0.9316 - val_loss: 0.3767 - val_accuracy: 0.8830\n",
            "Epoch 211/250\n",
            "64/64 [==============================] - 0s 4ms/step - loss: 0.1871 - accuracy: 0.9321 - val_loss: 0.4161 - val_accuracy: 0.8850\n",
            "Epoch 212/250\n",
            "64/64 [==============================] - 0s 3ms/step - loss: 0.1768 - accuracy: 0.9258 - val_loss: 0.3854 - val_accuracy: 0.8791\n",
            "Epoch 213/250\n",
            "64/64 [==============================] - 0s 3ms/step - loss: 0.1843 - accuracy: 0.9316 - val_loss: 0.3888 - val_accuracy: 0.8811\n",
            "Epoch 214/250\n",
            "64/64 [==============================] - 0s 3ms/step - loss: 0.1844 - accuracy: 0.9263 - val_loss: 0.3932 - val_accuracy: 0.8791\n",
            "Epoch 215/250\n",
            "64/64 [==============================] - 0s 2ms/step - loss: 0.1806 - accuracy: 0.9258 - val_loss: 0.3575 - val_accuracy: 0.8752\n",
            "Epoch 216/250\n",
            "64/64 [==============================] - 0s 3ms/step - loss: 0.1827 - accuracy: 0.9292 - val_loss: 0.3853 - val_accuracy: 0.8752\n",
            "Epoch 217/250\n",
            "64/64 [==============================] - 0s 3ms/step - loss: 0.1794 - accuracy: 0.9326 - val_loss: 0.3729 - val_accuracy: 0.8830\n",
            "Epoch 218/250\n",
            "64/64 [==============================] - 0s 3ms/step - loss: 0.1841 - accuracy: 0.9277 - val_loss: 0.3755 - val_accuracy: 0.8811\n",
            "Epoch 219/250\n",
            "64/64 [==============================] - 0s 2ms/step - loss: 0.1733 - accuracy: 0.9365 - val_loss: 0.4039 - val_accuracy: 0.8830\n",
            "Epoch 220/250\n",
            "64/64 [==============================] - 0s 3ms/step - loss: 0.1774 - accuracy: 0.9302 - val_loss: 0.3703 - val_accuracy: 0.8791\n",
            "Epoch 221/250\n",
            "64/64 [==============================] - 0s 3ms/step - loss: 0.1714 - accuracy: 0.9326 - val_loss: 0.3940 - val_accuracy: 0.8733\n",
            "Epoch 222/250\n",
            "64/64 [==============================] - 0s 3ms/step - loss: 0.1761 - accuracy: 0.9297 - val_loss: 0.4050 - val_accuracy: 0.8791\n",
            "Epoch 223/250\n",
            "64/64 [==============================] - 0s 3ms/step - loss: 0.1750 - accuracy: 0.9321 - val_loss: 0.3730 - val_accuracy: 0.8791\n",
            "Epoch 224/250\n",
            "64/64 [==============================] - 0s 3ms/step - loss: 0.1735 - accuracy: 0.9326 - val_loss: 0.4047 - val_accuracy: 0.8830\n",
            "Epoch 225/250\n",
            "64/64 [==============================] - 0s 3ms/step - loss: 0.1725 - accuracy: 0.9341 - val_loss: 0.4234 - val_accuracy: 0.8772\n",
            "Epoch 226/250\n",
            "64/64 [==============================] - 0s 3ms/step - loss: 0.1750 - accuracy: 0.9346 - val_loss: 0.3841 - val_accuracy: 0.8908\n",
            "Epoch 227/250\n",
            "64/64 [==============================] - 0s 3ms/step - loss: 0.1767 - accuracy: 0.9355 - val_loss: 0.3895 - val_accuracy: 0.8850\n",
            "Epoch 228/250\n",
            "64/64 [==============================] - 0s 3ms/step - loss: 0.1784 - accuracy: 0.9297 - val_loss: 0.3978 - val_accuracy: 0.8928\n",
            "Epoch 229/250\n",
            "64/64 [==============================] - 0s 3ms/step - loss: 0.1760 - accuracy: 0.9321 - val_loss: 0.3903 - val_accuracy: 0.8811\n",
            "Epoch 230/250\n",
            "64/64 [==============================] - 0s 3ms/step - loss: 0.1755 - accuracy: 0.9297 - val_loss: 0.3939 - val_accuracy: 0.8830\n",
            "Epoch 231/250\n",
            "64/64 [==============================] - 0s 3ms/step - loss: 0.1819 - accuracy: 0.9302 - val_loss: 0.4195 - val_accuracy: 0.8791\n",
            "Epoch 232/250\n",
            "64/64 [==============================] - 0s 3ms/step - loss: 0.1773 - accuracy: 0.9321 - val_loss: 0.4086 - val_accuracy: 0.8850\n",
            "Epoch 233/250\n",
            "64/64 [==============================] - 0s 3ms/step - loss: 0.1718 - accuracy: 0.9326 - val_loss: 0.4193 - val_accuracy: 0.8908\n",
            "Epoch 234/250\n",
            "64/64 [==============================] - 0s 3ms/step - loss: 0.1732 - accuracy: 0.9341 - val_loss: 0.3843 - val_accuracy: 0.8830\n",
            "Epoch 235/250\n",
            "64/64 [==============================] - 0s 3ms/step - loss: 0.1711 - accuracy: 0.9312 - val_loss: 0.3751 - val_accuracy: 0.8850\n",
            "Epoch 236/250\n",
            "64/64 [==============================] - 0s 3ms/step - loss: 0.1808 - accuracy: 0.9307 - val_loss: 0.3978 - val_accuracy: 0.8811\n",
            "Epoch 237/250\n",
            "64/64 [==============================] - 0s 3ms/step - loss: 0.1703 - accuracy: 0.9336 - val_loss: 0.4109 - val_accuracy: 0.8811\n",
            "Epoch 238/250\n",
            "64/64 [==============================] - 0s 3ms/step - loss: 0.1687 - accuracy: 0.9370 - val_loss: 0.4075 - val_accuracy: 0.8830\n",
            "Epoch 239/250\n",
            "64/64 [==============================] - 0s 3ms/step - loss: 0.1742 - accuracy: 0.9302 - val_loss: 0.4011 - val_accuracy: 0.8869\n",
            "Epoch 240/250\n",
            "64/64 [==============================] - 0s 3ms/step - loss: 0.1680 - accuracy: 0.9395 - val_loss: 0.3675 - val_accuracy: 0.8947\n",
            "Epoch 241/250\n",
            "64/64 [==============================] - 0s 3ms/step - loss: 0.1727 - accuracy: 0.9282 - val_loss: 0.3993 - val_accuracy: 0.8889\n",
            "Epoch 242/250\n",
            "64/64 [==============================] - 0s 3ms/step - loss: 0.1785 - accuracy: 0.9302 - val_loss: 0.4255 - val_accuracy: 0.8752\n",
            "Epoch 243/250\n",
            "64/64 [==============================] - 0s 3ms/step - loss: 0.1699 - accuracy: 0.9292 - val_loss: 0.4237 - val_accuracy: 0.8830\n",
            "Epoch 244/250\n",
            "64/64 [==============================] - 0s 3ms/step - loss: 0.1743 - accuracy: 0.9316 - val_loss: 0.4065 - val_accuracy: 0.8869\n",
            "Epoch 245/250\n",
            "64/64 [==============================] - 0s 3ms/step - loss: 0.1671 - accuracy: 0.9355 - val_loss: 0.3993 - val_accuracy: 0.8830\n",
            "Epoch 246/250\n",
            "64/64 [==============================] - 0s 3ms/step - loss: 0.1698 - accuracy: 0.9351 - val_loss: 0.4366 - val_accuracy: 0.8908\n",
            "Epoch 247/250\n",
            "64/64 [==============================] - 0s 3ms/step - loss: 0.1675 - accuracy: 0.9331 - val_loss: 0.4061 - val_accuracy: 0.8791\n",
            "Epoch 248/250\n",
            "64/64 [==============================] - 0s 3ms/step - loss: 0.1737 - accuracy: 0.9370 - val_loss: 0.4045 - val_accuracy: 0.8869\n",
            "Epoch 249/250\n",
            "64/64 [==============================] - 0s 3ms/step - loss: 0.1628 - accuracy: 0.9370 - val_loss: 0.3936 - val_accuracy: 0.8830\n",
            "Epoch 250/250\n",
            "64/64 [==============================] - 0s 3ms/step - loss: 0.1665 - accuracy: 0.9307 - val_loss: 0.4291 - val_accuracy: 0.8889\n",
            "17/17 [==============================] - 0s 2ms/step - loss: 0.4291 - accuracy: 0.8889\n",
            "Loss: 0.4291\n",
            "Accuracy: 88.89%\n"
          ]
        }
      ]
    },
    {
      "cell_type": "markdown",
      "source": [
        "### Error cuadrático medio de la red neuronal"
      ],
      "metadata": {
        "id": "-DL6hJuuq5ae"
      }
    },
    {
      "cell_type": "code",
      "source": [
        "from sklearn.metrics import mean_squared_error\n",
        "# Realizar predicciones en los datos de prueba\n",
        "y_pred = model.predict(X_test)\n",
        "# Calcular el error cuadrático medio\n",
        "mse = mean_squared_error(y_test, y_pred)\n",
        "\n",
        "print(\"Mean Squared Error: {:.4f}\".format(mse))"
      ],
      "metadata": {
        "colab": {
          "base_uri": "https://localhost:8080/"
        },
        "id": "7jWy3i0jqmHH",
        "outputId": "66d6b064-aec7-4dc0-d58f-858d7a35550e"
      },
      "execution_count": 2,
      "outputs": [
        {
          "output_type": "stream",
          "name": "stdout",
          "text": [
            "17/17 [==============================] - 0s 1ms/step\n",
            "Mean Squared Error: 0.0156\n"
          ]
        }
      ]
    },
    {
      "cell_type": "markdown",
      "source": [
        "### Función para decodificar"
      ],
      "metadata": {
        "id": "fNd-clnprjmc"
      }
    },
    {
      "cell_type": "code",
      "source": [
        "print(\"class_encoded_1: \\n\", len(class_encoded_1))"
      ],
      "metadata": {
        "colab": {
          "base_uri": "https://localhost:8080/"
        },
        "id": "iqp6pIDXAeBb",
        "outputId": "d45b9271-5a54-4068-c19a-9bb0cea50328"
      },
      "execution_count": 3,
      "outputs": [
        {
          "output_type": "stream",
          "name": "stdout",
          "text": [
            "class_encoded_1: \n",
            " 2561\n"
          ]
        }
      ]
    },
    {
      "cell_type": "markdown",
      "source": [
        "### Codigos de las categorias"
      ],
      "metadata": {
        "id": "CAIWUXvvSD4X"
      }
    },
    {
      "cell_type": "code",
      "source": [
        "#Codificación de municipio\n",
        "cod_muni=features_encoded[\"MUNICIPIO\"].unique()\n",
        "cod_muni = cod_muni.tolist()\n",
        "print(\"cod_muni: \",cod_muni)\n",
        "\n",
        "#Codificación de cultivo\n",
        "cod_culti=features_encoded[\"CULTIVO\"].unique()\n",
        "cod_culti = cod_culti.tolist()\n",
        "print(\"cod_culti: \",cod_culti)\n",
        "\n",
        "#Codificación de periodo\n",
        "cod_perio=features_encoded[\"PERIODO\"].unique()\n",
        "cod_perio = cod_perio.tolist()\n",
        "print(\"cod_perio: \",cod_perio)\n",
        "\n",
        "#Codificación de area sembrada\n",
        "cod_a_sem=features_encoded[\"Area Sembrada (ha)\"].unique()\n",
        "cod_a_sem = cod_a_sem.tolist()\n",
        "print(\"cod_a_sem: \",cod_a_sem)\n",
        "\n",
        "#Codificación de area cosechada\n",
        "cod_a_cose=features_encoded[\"Area Cosechada (ha)\"].unique()\n",
        "cod_a_cose = cod_a_cose.tolist()\n",
        "print(\"cod_a_cose: \",cod_a_cose)\n",
        "\n",
        "#Codificación de produccion fase 1\n",
        "\n",
        "# Eliminar duplicados sin ordenar\n",
        "valores_unicos, indices = np.unique(class_encoded_1, return_index=True)\n",
        "cod_pro = class_encoded_1[sorted(indices)]\n",
        "print(\"cod_pro: \",cod_pro)\n",
        "\n",
        "#Codificación de produccion fase 2\n",
        "valores_unicos, indices = np.unique(class_encoded_2, return_index=True)\n",
        "cod_pro_2 = class_encoded_2[sorted(indices)]\n",
        "print(\"cod_pro_2: \",cod_pro_2)\n",
        "\n",
        "#Codificación de produccion fase 3\n",
        "filas_unicas, indices = np.unique(class_encoded_3, axis=0, return_index=True)\n",
        "cod_pro_3 = class_encoded_3[sorted(indices)]\n",
        "print(\"cod_pro_3: \",cod_pro_3)\n"
      ],
      "metadata": {
        "colab": {
          "base_uri": "https://localhost:8080/"
        },
        "id": "ebzvsh1b-YEC",
        "outputId": "8a45d83f-5822-474b-c0ab-c6cb2ac543ea"
      },
      "execution_count": 3,
      "outputs": [
        {
          "output_type": "stream",
          "name": "stdout",
          "text": [
            "cod_muni:  [0, 1, 2, 3, 4, 5, 6, 7, 8, 9, 10, 11, 12, 13, 14, 15, 17, 18, 19, 20, 21, 22, 23, 25, 26, 27, 28, 29, 30, 32, 33, 34, 35, 36, 41, 42, 43, 44, 45, 46, 47, 48, 49, 50, 52, 53, 55, 56, 57, 58, 59, 61, 62, 63, 64, 65, 66, 67, 68, 69, 70, 71, 72, 73, 74, 75, 76, 77, 78, 79, 80, 81, 82, 84, 85, 86, 87, 88, 89, 90, 91, 93, 94, 16, 37, 40, 24, 38, 51, 60, 31, 54, 92, 39, 83]\n",
            "cod_culti:  [0, 1]\n",
            "cod_perio:  [8, 9, 14, 15, 13, 2, 0, 7, 11, 12, 4, 6, 1, 3, 10, 5, 16, 17, 18, 19, 20, 21]\n",
            "cod_a_sem:  [0, 7, 9, 8, 1, 4, 5, 2, 6, 3]\n",
            "cod_a_cose:  [0, 6, 7, 8, 5, 3, 1, 4, 2]\n",
            "cod_pro:  [0 9 1 3 2 7 5 8 6 4]\n",
            "cod_pro_2:  [[0]\n",
            " [9]\n",
            " [1]\n",
            " [3]\n",
            " [2]\n",
            " [7]\n",
            " [5]\n",
            " [8]\n",
            " [6]\n",
            " [4]]\n",
            "cod_pro_3:  [[1. 0. 0. 0. 0. 0. 0. 0. 0. 0.]\n",
            " [0. 0. 0. 0. 0. 0. 0. 0. 0. 1.]\n",
            " [0. 1. 0. 0. 0. 0. 0. 0. 0. 0.]\n",
            " [0. 0. 0. 1. 0. 0. 0. 0. 0. 0.]\n",
            " [0. 0. 1. 0. 0. 0. 0. 0. 0. 0.]\n",
            " [0. 0. 0. 0. 0. 0. 0. 1. 0. 0.]\n",
            " [0. 0. 0. 0. 0. 1. 0. 0. 0. 0.]\n",
            " [0. 0. 0. 0. 0. 0. 0. 0. 1. 0.]\n",
            " [0. 0. 0. 0. 0. 0. 1. 0. 0. 0.]\n",
            " [0. 0. 0. 0. 1. 0. 0. 0. 0. 0.]]\n"
          ]
        }
      ]
    },
    {
      "cell_type": "markdown",
      "source": [
        "### Categorias de las columnas"
      ],
      "metadata": {
        "id": "d3ovDa4mSP6x"
      }
    },
    {
      "cell_type": "code",
      "source": [
        "#DeCodificación de municipio\n",
        "cate_muni=df_BoyacaMD_V4[\"MUNICIPIO\"].unique()\n",
        "cate_muni= cate_muni.tolist()\n",
        "print(\"cate_muni: \",cate_muni)\n",
        "\n",
        "#DECodificación de cultivo\n",
        "cate_culti=df_BoyacaMD_V4[\"CULTIVO\"].unique()\n",
        "cate_culti= cate_culti.tolist()\n",
        "print(\"cate_culti: \",cate_culti)\n",
        "\n",
        "#DeCodificación de periodo\n",
        "cate_perio=df_BoyacaMD_V4[\"PERIODO\"].unique()\n",
        "cate_perio= cate_perio.tolist()\n",
        "print(\"cate_perio: \",cate_perio)\n",
        "\n",
        "#DECodificación de area sembrada\n",
        "cate_a_sem=df_BoyacaMD_V4[\"Area Sembrada (ha)\"].unique()\n",
        "cate_a_sem= cate_a_sem.tolist()\n",
        "print(\"cate_a_sem: \",cate_a_sem)\n",
        "\n",
        "#DECodificación de area cosechada\n",
        "cate_a_cose=df_BoyacaMD_V4[\"Area Cosechada (ha)\"].unique()\n",
        "cate_a_cose= cate_a_cose.tolist()\n",
        "print(\"cate_a_cose: \",cate_a_cose)\n",
        "\n",
        "#Decodificación de producción\n",
        "cate_pro=df_BoyacaMD_V4[\"Produccion (t)\"].unique()\n",
        "cate_pro= cate_pro.tolist()\n",
        "print(\"cate_pro: \",cate_pro)\n",
        "\n"
      ],
      "metadata": {
        "colab": {
          "base_uri": "https://localhost:8080/"
        },
        "id": "AT8VrWLDP4eE",
        "outputId": "b9c1dd52-29de-4e23-dbcd-026b3ee059ef"
      },
      "execution_count": 4,
      "outputs": [
        {
          "output_type": "stream",
          "name": "stdout",
          "text": [
            "cate_muni:  ['almeida', 'aquitania', 'arcabuco', 'belen', 'beteitiva', 'boyaca', 'buenavista', 'busbanza', 'caldas', 'cerinza', 'chinavita', 'chiquinquira', 'chiquiza', 'chiscas', 'chita', 'chivata', 'cienega', 'combita', 'corrales', 'cucaita', 'cuitiva', 'duitama', 'el-cocuy', 'firavitoba', 'floresta', 'gachantiva', 'gameza', 'garagoa', 'guacamayas', 'guican', 'iza', 'jenesano', 'jerico', 'la-uvita', 'mongua', 'mongui', 'motavita', 'nobsa', 'nuevo-colon', 'oicata', 'pachavita', 'paipa', 'pajarito', 'panqueba', 'paz-de-rio', 'pesca', 'ramiriqui', 'raquira', 'rondon', 'saboya', 'samaca', 'san-miguel-de-sema', 'santa-rosa-de-viterbo', 'santa-sofia', 'sativanorte', 'sativasur', 'siachoque', 'soata', 'socha', 'socota', 'sogamoso', 'somondoco', 'sora', 'soraca', 'sotaquira', 'susacon', 'sutamarchan', 'tasco', 'tibana', 'tibasosa', 'tinjaca', 'tipacoque', 'toca', 'topaga', 'tota', 'tunja', 'turmeque', 'tuta', 'tutaza', 'umbita', 'ventaquemada', 'villa-de-leyva', 'viracacha', 'chivor', 'labranzagrande', 'miraflores', 'el-espino', 'macanal', 'pauna', 'san-jose-de-pare', 'guateque', 'pisba', 'villa-de-leiva', 'maripi', 'togui']\n",
            "cate_culti:  ['papa', 'papa-criolla']\n",
            "cate_perio:  ['2015a', '2015b', '2018a', '2018b', '2017b', '2012a', '2011a', '2014b', '2016b', '2017a', '2013a', '2014a', '2011b', '2012b', '2016a', '2013b', '2019a', '2019b', '2020a', '2020b', '2021a', '2021b']\n",
            "cate_a_sem:  ['[1.0-310.9]', '[310.9-620.8]', '[930.69995-1240.6]', '[620.8-930.69995]', '[1240.6-1550.5]', '[2170.3-2480.2]', '[2480.2-2790.0999]', '[1550.5-1860.4]', '[2790.0999-3100.0]', '[1860.4-2170.3]']\n",
            "cate_a_cose:  ['[0.8-280.71997]', '[280.71997-560.63995]', '[560.63995-840.55994]', '[840.55994-1120.48]', '[2520.0796-2800.0]', '[1960.2397-2240.1597]', '[1120.48-1400.3999]', '[2240.1597-2520.0796]', '[1400.3999-1680.3198]']\n",
            "cate_pro:  ['[0.5-6000.45]', '[6000.45-12000.4]', '[12000.4-18000.352]', '[24000.3-30000.25]', '[18000.352-24000.3]', '[48000.098-54000.047]', '[36000.2-42000.15]', '[54000.047-60000.0]', '[42000.15-48000.098]', '[30000.25-36000.2]']\n"
          ]
        }
      ]
    },
    {
      "cell_type": "code",
      "source": [
        "print(cod_muni[23])"
      ],
      "metadata": {
        "colab": {
          "base_uri": "https://localhost:8080/"
        },
        "id": "urYQ-V_0XY-O",
        "outputId": "a49f6e96-eb0d-4726-9238-d7421fdbca3c"
      },
      "execution_count": 6,
      "outputs": [
        {
          "output_type": "stream",
          "name": "stdout",
          "text": [
            "25\n"
          ]
        }
      ]
    },
    {
      "cell_type": "markdown",
      "source": [
        "### Función de transformación de entradas"
      ],
      "metadata": {
        "id": "JyVOGIwbTYME"
      }
    },
    {
      "cell_type": "code",
      "source": [
        "#Función para municipio\n",
        "def transformMuni(muni_data):\n",
        "  i_muni = cate_muni.index(muni_data)\n",
        "  o_muni=cod_muni[i_muni]\n",
        "  return o_muni\n",
        "\n",
        "#Función para cultivo\n",
        "def transformCulti(culti_data):\n",
        "  i_culti = cate_culti.index(culti_data)\n",
        "  o_culti=cod_culti[i_culti]\n",
        "  return o_culti\n",
        "\n",
        "#Función para periodo\n",
        "def transformPerio(perio_data):\n",
        "  i_perio = cate_perio.index(perio_data)\n",
        "  o_perio=cod_perio[i_perio]\n",
        "  return o_perio\n",
        "\n",
        "#Función para area sembrada\n",
        "def transformArea_sem(area_sem_data):\n",
        "  i_area_sem = cate_a_sem.index(area_sem_data)\n",
        "  o_area_sem=cod_a_sem[i_area_sem]\n",
        "  return o_area_sem\n",
        "\n",
        "#Función para area cosechada\n",
        "def transformArea_cose(area_cose_data):\n",
        "  i_area_cose = cate_a_cose.index(area_cose_data)\n",
        "  o_area_cose=cod_a_cose[i_area_cose]\n",
        "  return o_area_cose\n"
      ],
      "metadata": {
        "id": "_Ch9fbeDkmXr"
      },
      "execution_count": 5,
      "outputs": []
    },
    {
      "cell_type": "markdown",
      "source": [
        "### Función para transformar los datos dados una lista\n"
      ],
      "metadata": {
        "id": "OSXqJ7nxqRTJ"
      }
    },
    {
      "cell_type": "code",
      "source": [
        "def transformData(data):\n",
        "  muni=data[0]\n",
        "  culti=data[1]\n",
        "  perio=data[2]\n",
        "  area_sem=data[3]\n",
        "  area_cose=data[4]\n",
        "  i_muni = cate_muni.index(muni)\n",
        "  i_culti = cate_culti.index(culti)\n",
        "  i_perio = cate_perio.index(perio)\n",
        "  i_area_sem = cate_a_sem.index(area_sem)\n",
        "  i_area_cose = area_cose.index(area_cose)\n",
        "\n",
        "  o_muni=cod_muni[i_muni]\n",
        "  o_culti=cod_culti[i_culti]\n",
        "  o_perio=cod_perio[i_perio]\n",
        "  o_area_sem=cod_a_sem[i_area_sem]\n",
        "  o_area_cose=cod_a_cose[i_area_cose]\n",
        "\n",
        "  outputCodificado = [o_muni,o_culti,o_perio,o_area_sem, o_area_cose]\n",
        "\n",
        "  return outputCodificado\n",
        "\n"
      ],
      "metadata": {
        "id": "daxPTeuFTeaL"
      },
      "execution_count": 6,
      "outputs": []
    },
    {
      "cell_type": "code",
      "source": [
        "dataTest=transformData(['almeida', 'papa', '2015a', '[1.0-310.9]', '[0.8-280.71997]'])\n",
        "print(dataTest)"
      ],
      "metadata": {
        "colab": {
          "base_uri": "https://localhost:8080/"
        },
        "id": "hm8ipdM_ZHZ7",
        "outputId": "866ecc5b-365c-4e70-fd53-ac47abdcb9f0"
      },
      "execution_count": 7,
      "outputs": [
        {
          "output_type": "stream",
          "name": "stdout",
          "text": [
            "[0, 0, 8, 0, 0]\n"
          ]
        }
      ]
    },
    {
      "cell_type": "markdown",
      "source": [
        "### Prueba de predicción"
      ],
      "metadata": {
        "id": "iC3pxed0h1PI"
      }
    },
    {
      "cell_type": "markdown",
      "source": [
        "Es necesario convertir los datos de prueba un DATAFRAME"
      ],
      "metadata": {
        "id": "U6oclydXeyeU"
      }
    },
    {
      "cell_type": "code",
      "source": [
        "df_dataTest = pd.DataFrame(columns=['MUNICIPIO', 'CULTIVO', 'PERIODO', 'Area Sembrada (ha)','Area Cosechada (ha)'])\n",
        "df_dataTest.loc[len(df_dataTest)] = dataTest"
      ],
      "metadata": {
        "id": "4JNXN3P9f3vQ"
      },
      "execution_count": 8,
      "outputs": []
    },
    {
      "cell_type": "code",
      "source": [
        "# Realizar predicciones con el modelo\n",
        "predictions = model.predict(df_dataTest)\n",
        "#print(\"predictions: \",predictions)\n",
        "\n",
        "# Obtener las etiquetas predichas\n",
        "predicted_labels = np.argmax(predictions, axis=1)\n",
        "#print(\"predicted_labels: \",predicted_labels)\n",
        "\n",
        "# Decodificar las etiquetas predichas\n",
        "decoded_labels = label_encoder.inverse_transform(predicted_labels)\n",
        "\n",
        "# Imprimir las etiquetas predichas\n",
        "print(\"Etiquetas predichas:\", decoded_labels)\n",
        "\n",
        "#dataframe para predicciones\n",
        "df_dataPredi = df_dataTest.copy()\n",
        "\n",
        "#Crear columna producción\n",
        "df_dataPredi['Produccion (t)']=0\n",
        "\n",
        "#Guarda las predicciones en el nuevo data frame\n",
        "df_dataPredi['Produccion (t)']= decoded_labels.tolist()"
      ],
      "metadata": {
        "colab": {
          "base_uri": "https://localhost:8080/"
        },
        "id": "p8Qc90a7d8T8",
        "outputId": "bfd003e7-f46b-4c79-f343-325b58ed1755"
      },
      "execution_count": 9,
      "outputs": [
        {
          "output_type": "stream",
          "name": "stdout",
          "text": [
            "1/1 [==============================] - 0s 20ms/step\n",
            "Etiquetas predichas: ['[0.5-6000.45]']\n"
          ]
        }
      ]
    },
    {
      "cell_type": "markdown",
      "source": [
        "## Realización de pruebas"
      ],
      "metadata": {
        "id": "g2qA9lJJJGdM"
      }
    },
    {
      "cell_type": "markdown",
      "source": [
        "### Preparar dataframe de datos para la prediccion"
      ],
      "metadata": {
        "id": "XyuB1AO9lmMS"
      }
    },
    {
      "cell_type": "code",
      "source": [
        "\"\"\"\n",
        "#Crear dataframe con datos sin codificar\n",
        "dataReal_df = pd.DataFrame(columns=['MUNICIPIO', 'CULTIVO', 'PERIODO', 'Area Sembrada (ha)','Area Cosechada (ha)'])\n",
        "\n",
        "#Insertar varios registros para probar\n",
        "dataReal_df.loc[len(dataReal_df)] = ['almeida', 'papa', '2015a', '[1.0-310.9]', '[0.8-280.71997]']\n",
        "dataReal_df.loc[len(dataReal_df)] = ['aquitania','papa','2015a','[310.9-620.8]','[280.71997-560.63995]']\n",
        "dataReal_df.loc[len(dataReal_df)] = ['arcabuco','papa','2015a','[930.69995-1240.6]','[560.63995-840.55994]']\n",
        "\"\"\"\n",
        "#Se toma el dataframe discretizado y se crea una copia\n",
        "dataRealTotal_df=df_BoyacaMD_V4.copy()\n",
        "\n",
        "#Se escoje la mitad de los datos de forma aleatoria\n",
        "dataReal_df_pro = dataRealTotal_df.sample(frac=0.5, random_state=98)\n",
        "dataReal_df_pro= dataReal_df_pro.reset_index(drop=True)\n",
        "#Eliminar columna produccion\n",
        "dataReal_df=dataReal_df_pro.drop('Produccion (t)', axis=1)\n",
        "#Resetear los índices, y quitar los anteriores drop = true\n",
        "dataReal_df= dataReal_df.reset_index(drop=True)\n",
        "\n",
        "#listDataReal.append(dataReal_df)\n",
        "\n",
        "#Crear copia del dataframe original\n",
        "dataCoded_df = dataReal_df.copy()\n",
        "#Resetear los índices, y quitar los anteriores drop = true\n",
        "dataCoded_df= dataCoded_df.reset_index(drop=True)\n",
        "\n",
        "\n",
        "# Aplicar la función a la columna 'MUNICIPIO'\n",
        "dataCoded_df['MUNICIPIO'] = dataCoded_df['MUNICIPIO'].apply(transformMuni)\n",
        "# Aplicar la función a la columna 'CULTIVO'\n",
        "dataCoded_df['CULTIVO'] = dataCoded_df['CULTIVO'].apply(transformCulti)\n",
        "# Aplicar la función a la columna 'PERIODO'\n",
        "dataCoded_df['PERIODO'] = dataCoded_df['PERIODO'].apply(transformPerio)\n",
        "# Aplicar la función a la columna 'Area Sembrada (ha)'\n",
        "dataCoded_df['Area Sembrada (ha)'] = dataCoded_df['Area Sembrada (ha)'].apply(transformArea_sem)\n",
        "# Aplicar la función a la columna 'Area Cosechada (ha)'\n",
        "dataCoded_df['Area Cosechada (ha)'] = dataCoded_df['Area Cosechada (ha)'].apply(transformArea_cose)"
      ],
      "metadata": {
        "id": "ZNRa753_llyb"
      },
      "execution_count": 95,
      "outputs": []
    },
    {
      "cell_type": "markdown",
      "source": [
        "### Prediccion a partit de DataFrame"
      ],
      "metadata": {
        "id": "BtJNYt8Sttyc"
      }
    },
    {
      "cell_type": "code",
      "source": [
        "# Realizar predicciones con el modelo\n",
        "predictions_df = model.predict(dataCoded_df)\n",
        "#print(\"predictions: \",predictions)\n",
        "\n",
        "# Obtener las etiquetas predichas\n",
        "predicted_labels_df = np.argmax(predictions_df, axis=1)\n",
        "#print(\"predicted_labels: \",predicted_labels)\n",
        "\n",
        "# Decodificar las etiquetas predichas\n",
        "decoded_labels_df = label_encoder.inverse_transform(predicted_labels_df)\n",
        "\n",
        "# Imprimir las etiquetas predichas\n",
        "print(\"Etiquetas predichas:\", decoded_labels_df)\n",
        "\n",
        "#dataframe para guardar las predicciones\n",
        "df_dataRealPredi = dataReal_df.copy()\n",
        "\n",
        "#Crear columna producción\n",
        "df_dataRealPredi['Produccion (t)']=0\n",
        "\n",
        "#Guarda las predicciones en el nuevo data frame\n",
        "df_dataRealPredi['Produccion (t)']= decoded_labels_df.tolist()"
      ],
      "metadata": {
        "colab": {
          "base_uri": "https://localhost:8080/"
        },
        "id": "jERkTcKytscJ",
        "outputId": "889e6299-bffc-4764-fcd3-af9fd0f08c7b"
      },
      "execution_count": 96,
      "outputs": [
        {
          "output_type": "stream",
          "name": "stdout",
          "text": [
            "40/40 [==============================] - 0s 1ms/step\n",
            "Etiquetas predichas: ['[0.5-6000.45]' '[0.5-6000.45]' '[0.5-6000.45]' ... '[0.5-6000.45]'\n",
            " '[6000.45-12000.4]' '[0.5-6000.45]']\n"
          ]
        }
      ]
    },
    {
      "cell_type": "markdown",
      "source": [
        "### Grafica de la real y la prediccion"
      ],
      "metadata": {
        "id": "BL_WubF6-3Wv"
      }
    },
    {
      "cell_type": "code",
      "source": [
        "import matplotlib.pyplot as plt\n",
        "\n",
        "# Definir el orden deseado\n",
        "orden_deseado = ['[0.5-6000.45]', '[6000.45-12000.4]', '[12000.4-18000.352]', '[18000.352-24000.3]',\n",
        "                '[24000.3-30000.25]', '[30000.25-36000.2]', '[36000.2-42000.15]', '[42000.15-48000.098]',\n",
        "                '[48000.098-54000.047]', '[54000.047-60000.0]']\n",
        "\n",
        "# Obtener los índices correspondientes al orden deseado para cada columna\n",
        "indices_columna1 = [orden_deseado.index(valor) for valor in dataReal_df_pro['Produccion (t)']]\n",
        "indices_columna2 = [orden_deseado.index(valor) for valor in df_dataRealPredi['Produccion (t)']]\n",
        "\n",
        "# Crear una figura con dos subplots\n",
        "fig, (ax1, ax2) = plt.subplots(2, 1, figsize=(6, 12))\n",
        "\n",
        "# Graficar la primera columna en el primer subplot\n",
        "ax1.plot(indices_columna1)\n",
        "ax1.set_yticks(range(len(orden_deseado)))\n",
        "ax1.set_yticklabels(orden_deseado)\n",
        "ax1.set_title('Produccion(t) Real')\n",
        "\n",
        "# Graficar la segunda columna en el segundo subplot\n",
        "ax2.plot(indices_columna2)\n",
        "ax2.set_yticks(range(len(orden_deseado)))\n",
        "ax2.set_yticklabels(orden_deseado)\n",
        "ax2.set_title('Produccion(t) Prediccion')\n",
        "\n",
        "# Ajustar los subplots para evitar superposición de etiquetas\n",
        "fig.tight_layout()\n",
        "\n",
        "# Mostrar la figura con los subplots\n",
        "plt.show()\n"
      ],
      "metadata": {
        "colab": {
          "base_uri": "https://localhost:8080/",
          "height": 1000
        },
        "id": "vt5rMdNz-CV1",
        "outputId": "6315ae28-c135-4a0d-9d4f-c4617085be60"
      },
      "execution_count": 97,
      "outputs": [
        {
          "output_type": "display_data",
          "data": {
            "text/plain": [
              "<Figure size 600x1200 with 2 Axes>"
            ],
            "image/png": "[encoded data removed]"
          },
          "metadata": {}
        }
      ]
    },
    {
      "cell_type": "code",
      "source": [
        "import matplotlib.pyplot as plt\n",
        "\n",
        "# Definir el orden deseado\n",
        "orden_deseado = ['[0.5-6000.45]', '[6000.45-12000.4]', '[12000.4-18000.352]', '[18000.352-24000.3]',\n",
        "                '[24000.3-30000.25]', '[30000.25-36000.2]', '[36000.2-42000.15]', '[42000.15-48000.098]',\n",
        "                '[48000.098-54000.047]', '[54000.047-60000.0]']\n",
        "\n",
        "# Obtener los índices correspondientes al orden deseado para cada columna\n",
        "indices_columna1 = [orden_deseado.index(valor) for valor in dataReal_df_pro['Produccion (t)']]\n",
        "indices_columna2 = [orden_deseado.index(valor) for valor in df_dataRealPredi['Produccion (t)']]\n",
        "\n",
        "# Crear una figura\n",
        "fig, ax = plt.subplots(figsize=(8, 6))\n",
        "\n",
        "# Graficar la primera columna\n",
        "scatter1 = ax.scatter(range(len(indices_columna1)), indices_columna1, c='blue', marker='o',alpha=0.6, label='Real')\n",
        "\n",
        "# Graficar la segunda columna\n",
        "scatter2 = ax.scatter(range(len(indices_columna2)), indices_columna2, c='red', marker='s',alpha=0.5, label='Prediccion')\n",
        "\n",
        "# Configurar las etiquetas del eje y\n",
        "ax.set_yticks(range(len(orden_deseado)))\n",
        "ax.set_yticklabels(orden_deseado)\n",
        "\n",
        "# Configurar los títulos y leyendas\n",
        "ax.set_title('Producción Real VS Producción Generada')\n",
        "ax.set_xlabel('Índice')\n",
        "ax.set_ylabel('Valores')\n",
        "ax.legend()\n",
        "\n",
        "# Mostrar la gráfica\n",
        "plt.show()\n"
      ],
      "metadata": {
        "colab": {
          "base_uri": "https://localhost:8080/",
          "height": 564
        },
        "id": "Iuqc2Ltc_eWV",
        "outputId": "e2a58fac-9ede-4ae5-fe48-e5c85bcc0ee1"
      },
      "execution_count": 98,
      "outputs": [
        {
          "output_type": "display_data",
          "data": {
            "text/plain": [
              "<Figure size 800x600 with 1 Axes>"
            ],
            "image/png": "[encoded data removed]"
          },
          "metadata": {}
        }
      ]
    },
    {
      "cell_type": "code",
      "source": [
        "################\n",
        "import pandas as pd\n",
        "\n",
        "# Supongamos que tienes dos dataframes: df1 y df2\n",
        "# Y quieres comparar las columnas 'Columna1' de df1 y 'Columna2' de df2\n",
        "\n",
        "# Obtener las columnas a comparar\n",
        "columna1 = dataReal_df_pro['Produccion (t)']\n",
        "columna2 = df_dataRealPredi['Produccion (t)']\n",
        "\n",
        "# Obtener el número total de registros\n",
        "total_registros = len(columna1)\n",
        "\n",
        "# Comparar los registros índice por índice\n",
        "registros_coincidentes = sum(columna1 == columna2)\n",
        "\n",
        "# Calcular el porcentaje de precisión\n",
        "porcentaje_precisión = (registros_coincidentes / total_registros) * 100\n",
        "\n",
        "# Imprimir el porcentaje de precisión\n",
        "print(f\"Porcentaje de precisión: {porcentaje_precisión}%\")\n"
      ],
      "metadata": {
        "colab": {
          "base_uri": "https://localhost:8080/"
        },
        "id": "grnnQBchDUCt",
        "outputId": "cef8c943-3a32-4e67-b479-8351e949f877"
      },
      "execution_count": 99,
      "outputs": [
        {
          "output_type": "stream",
          "name": "stdout",
          "text": [
            "Porcentaje de precisión: 92.34375%\n"
          ]
        }
      ]
    },
    {
      "cell_type": "code",
      "source": [
        "listaPrecision = [92.890625,93.359375,92.578125,93.4375,92.5,93.203125,92.34375]\n",
        "\n",
        "promedio = sum(listaPrecision) / len(listaPrecision)\n",
        "\n",
        "print(\"El promedio es:\", promedio)\n"
      ],
      "metadata": {
        "colab": {
          "base_uri": "https://localhost:8080/"
        },
        "id": "aWqa8ZbGnpld",
        "outputId": "f1075203-703d-4c7a-e213-6b06d752a820"
      },
      "execution_count": 102,
      "outputs": [
        {
          "output_type": "stream",
          "name": "stdout",
          "text": [
            "El promedio es: 92.90178571428571\n"
          ]
        }
      ]
    },
    {
      "cell_type": "markdown",
      "source": [
        "## Prueba con regresión lineal"
      ],
      "metadata": {
        "id": "Enys_koCs-64"
      }
    },
    {
      "cell_type": "code",
      "source": [
        "import pandas as pd\n",
        "from sklearn.linear_model import LinearRegression\n",
        "from sklearn.preprocessing import LabelEncoder, OneHotEncoder\n",
        "from sklearn.model_selection import train_test_split\n",
        "from sklearn.metrics import mean_squared_error\n",
        "\n",
        "# Seleccionar las columnas numéricas y categóricas para el modelo de predicción\n",
        "columnas_numericas = ['Area Sembrada (ha)', 'Area Cosechada (ha)', 'Produccion (t)']\n",
        "columnas_categoricas = ['MUNICIPIO', 'CULTIVO','PERIODO']\n",
        "\n",
        "# Codificar las variables categóricas usando OneHotEncoder\n",
        "encoder = OneHotEncoder(sparse_output=False)\n",
        "encoded_categorical = encoder.fit_transform(df_BoyacaMD_V4[columnas_categoricas])\n",
        "\n",
        "# Crear un nuevo DataFrame con las variables codificadas y las variables numéricas\n",
        "df_encoded = pd.concat([df_BoyacaMD_V4[columnas_numericas], \n",
        "                        pd.DataFrame(encoded_categorical)], axis=1)\n",
        "\n",
        "# Definir la columna objetivo a predecir\n",
        "objetivo = 'Produccion (t)'\n",
        "\n",
        "# Dividir el DataFrame en conjuntos de entrenamiento y prueba\n",
        "X_train, X_test, y_train, y_test = train_test_split(df_encoded.drop(objetivo, axis=1), \n",
        "                                                    df_encoded[objetivo], test_size=0.2)\n",
        "#Conversion a string\n",
        "X_train.columns = X_train.columns.astype(str)\n",
        "\n",
        "# Entrenar el modelo de Regresión Lineal\n",
        "modelo = LinearRegression()\n",
        "modelo.fit(X_train, y_train)\n",
        "\n",
        "#Conversion a string\n",
        "X_test.columns = X_test.columns.astype(str)\n",
        "\n",
        "# Realizar predicciones en el conjunto de prueba\n",
        "predicciones = modelo.predict(X_test)\n",
        "\n",
        "# Calcular el error cuadrático medio (MSE) en las predicciones\n",
        "mse = mean_squared_error(y_test, predicciones)\n",
        "print(\"Error cuadrático medio (MSE):\", mse)\n"
      ],
      "metadata": {
        "id": "Qo8mFKttY29p",
        "colab": {
          "base_uri": "https://localhost:8080/",
          "height": 380
        },
        "outputId": "059c442f-24eb-49f0-d868-2e2c5b227be9"
      },
      "execution_count": 71,
      "outputs": [
        {
          "output_type": "error",
          "ename": "ValueError",
          "evalue": "ignored",
          "traceback": [
            "\u001b[0;31m---------------------------------------------------------------------------\u001b[0m",
            "\u001b[0;31mValueError\u001b[0m                                Traceback (most recent call last)",
            "\u001b[0;32m<ipython-input-71-6b19584b1b38>\u001b[0m in \u001b[0;36m<cell line: 30>\u001b[0;34m()\u001b[0m\n\u001b[1;32m     28\u001b[0m \u001b[0;31m# Entrenar el modelo de Regresión Lineal\u001b[0m\u001b[0;34m\u001b[0m\u001b[0;34m\u001b[0m\u001b[0m\n\u001b[1;32m     29\u001b[0m \u001b[0mmodelo\u001b[0m \u001b[0;34m=\u001b[0m \u001b[0mLinearRegression\u001b[0m\u001b[0;34m(\u001b[0m\u001b[0;34m)\u001b[0m\u001b[0;34m\u001b[0m\u001b[0;34m\u001b[0m\u001b[0m\n\u001b[0;32m---> 30\u001b[0;31m \u001b[0mmodelo\u001b[0m\u001b[0;34m.\u001b[0m\u001b[0mfit\u001b[0m\u001b[0;34m(\u001b[0m\u001b[0mX_train\u001b[0m\u001b[0;34m,\u001b[0m \u001b[0my_train\u001b[0m\u001b[0;34m)\u001b[0m\u001b[0;34m\u001b[0m\u001b[0;34m\u001b[0m\u001b[0m\n\u001b[0m\u001b[1;32m     31\u001b[0m \u001b[0;34m\u001b[0m\u001b[0m\n\u001b[1;32m     32\u001b[0m \u001b[0;31m#Conversion a string\u001b[0m\u001b[0;34m\u001b[0m\u001b[0;34m\u001b[0m\u001b[0m\n",
            "\u001b[0;32m/usr/local/lib/python3.10/dist-packages/sklearn/linear_model/_base.py\u001b[0m in \u001b[0;36mfit\u001b[0;34m(self, X, y, sample_weight)\u001b[0m\n\u001b[1;32m    646\u001b[0m         \u001b[0maccept_sparse\u001b[0m \u001b[0;34m=\u001b[0m \u001b[0;32mFalse\u001b[0m \u001b[0;32mif\u001b[0m \u001b[0mself\u001b[0m\u001b[0;34m.\u001b[0m\u001b[0mpositive\u001b[0m \u001b[0;32melse\u001b[0m \u001b[0;34m[\u001b[0m\u001b[0;34m\"csr\"\u001b[0m\u001b[0;34m,\u001b[0m \u001b[0;34m\"csc\"\u001b[0m\u001b[0;34m,\u001b[0m \u001b[0;34m\"coo\"\u001b[0m\u001b[0;34m]\u001b[0m\u001b[0;34m\u001b[0m\u001b[0;34m\u001b[0m\u001b[0m\n\u001b[1;32m    647\u001b[0m \u001b[0;34m\u001b[0m\u001b[0m\n\u001b[0;32m--> 648\u001b[0;31m         X, y = self._validate_data(\n\u001b[0m\u001b[1;32m    649\u001b[0m             \u001b[0mX\u001b[0m\u001b[0;34m,\u001b[0m \u001b[0my\u001b[0m\u001b[0;34m,\u001b[0m \u001b[0maccept_sparse\u001b[0m\u001b[0;34m=\u001b[0m\u001b[0maccept_sparse\u001b[0m\u001b[0;34m,\u001b[0m \u001b[0my_numeric\u001b[0m\u001b[0;34m=\u001b[0m\u001b[0;32mTrue\u001b[0m\u001b[0;34m,\u001b[0m \u001b[0mmulti_output\u001b[0m\u001b[0;34m=\u001b[0m\u001b[0;32mTrue\u001b[0m\u001b[0;34m\u001b[0m\u001b[0;34m\u001b[0m\u001b[0m\n\u001b[1;32m    650\u001b[0m         )\n",
            "\u001b[0;32m/usr/local/lib/python3.10/dist-packages/sklearn/base.py\u001b[0m in \u001b[0;36m_validate_data\u001b[0;34m(self, X, y, reset, validate_separately, **check_params)\u001b[0m\n\u001b[1;32m    582\u001b[0m                 \u001b[0my\u001b[0m \u001b[0;34m=\u001b[0m \u001b[0mcheck_array\u001b[0m\u001b[0;34m(\u001b[0m\u001b[0my\u001b[0m\u001b[0;34m,\u001b[0m \u001b[0minput_name\u001b[0m\u001b[0;34m=\u001b[0m\u001b[0;34m\"y\"\u001b[0m\u001b[0;34m,\u001b[0m \u001b[0;34m**\u001b[0m\u001b[0mcheck_y_params\u001b[0m\u001b[0;34m)\u001b[0m\u001b[0;34m\u001b[0m\u001b[0;34m\u001b[0m\u001b[0m\n\u001b[1;32m    583\u001b[0m             \u001b[0;32melse\u001b[0m\u001b[0;34m:\u001b[0m\u001b[0;34m\u001b[0m\u001b[0;34m\u001b[0m\u001b[0m\n\u001b[0;32m--> 584\u001b[0;31m                 \u001b[0mX\u001b[0m\u001b[0;34m,\u001b[0m \u001b[0my\u001b[0m \u001b[0;34m=\u001b[0m \u001b[0mcheck_X_y\u001b[0m\u001b[0;34m(\u001b[0m\u001b[0mX\u001b[0m\u001b[0;34m,\u001b[0m \u001b[0my\u001b[0m\u001b[0;34m,\u001b[0m \u001b[0;34m**\u001b[0m\u001b[0mcheck_params\u001b[0m\u001b[0;34m)\u001b[0m\u001b[0;34m\u001b[0m\u001b[0;34m\u001b[0m\u001b[0m\n\u001b[0m\u001b[1;32m    585\u001b[0m             \u001b[0mout\u001b[0m \u001b[0;34m=\u001b[0m \u001b[0mX\u001b[0m\u001b[0;34m,\u001b[0m \u001b[0my\u001b[0m\u001b[0;34m\u001b[0m\u001b[0;34m\u001b[0m\u001b[0m\n\u001b[1;32m    586\u001b[0m \u001b[0;34m\u001b[0m\u001b[0m\n",
            "\u001b[0;32m/usr/local/lib/python3.10/dist-packages/sklearn/utils/validation.py\u001b[0m in \u001b[0;36mcheck_X_y\u001b[0;34m(X, y, accept_sparse, accept_large_sparse, dtype, order, copy, force_all_finite, ensure_2d, allow_nd, multi_output, ensure_min_samples, ensure_min_features, y_numeric, estimator)\u001b[0m\n\u001b[1;32m   1104\u001b[0m         )\n\u001b[1;32m   1105\u001b[0m \u001b[0;34m\u001b[0m\u001b[0m\n\u001b[0;32m-> 1106\u001b[0;31m     X = check_array(\n\u001b[0m\u001b[1;32m   1107\u001b[0m         \u001b[0mX\u001b[0m\u001b[0;34m,\u001b[0m\u001b[0;34m\u001b[0m\u001b[0;34m\u001b[0m\u001b[0m\n\u001b[1;32m   1108\u001b[0m         \u001b[0maccept_sparse\u001b[0m\u001b[0;34m=\u001b[0m\u001b[0maccept_sparse\u001b[0m\u001b[0;34m,\u001b[0m\u001b[0;34m\u001b[0m\u001b[0;34m\u001b[0m\u001b[0m\n",
            "\u001b[0;32m/usr/local/lib/python3.10/dist-packages/sklearn/utils/validation.py\u001b[0m in \u001b[0;36mcheck_array\u001b[0;34m(array, accept_sparse, accept_large_sparse, dtype, order, copy, force_all_finite, ensure_2d, allow_nd, ensure_min_samples, ensure_min_features, estimator, input_name)\u001b[0m\n\u001b[1;32m    877\u001b[0m                     \u001b[0marray\u001b[0m \u001b[0;34m=\u001b[0m \u001b[0mxp\u001b[0m\u001b[0;34m.\u001b[0m\u001b[0mastype\u001b[0m\u001b[0;34m(\u001b[0m\u001b[0marray\u001b[0m\u001b[0;34m,\u001b[0m \u001b[0mdtype\u001b[0m\u001b[0;34m,\u001b[0m \u001b[0mcopy\u001b[0m\u001b[0;34m=\u001b[0m\u001b[0;32mFalse\u001b[0m\u001b[0;34m)\u001b[0m\u001b[0;34m\u001b[0m\u001b[0;34m\u001b[0m\u001b[0m\n\u001b[1;32m    878\u001b[0m                 \u001b[0;32melse\u001b[0m\u001b[0;34m:\u001b[0m\u001b[0;34m\u001b[0m\u001b[0;34m\u001b[0m\u001b[0m\n\u001b[0;32m--> 879\u001b[0;31m                     \u001b[0marray\u001b[0m \u001b[0;34m=\u001b[0m \u001b[0m_asarray_with_order\u001b[0m\u001b[0;34m(\u001b[0m\u001b[0marray\u001b[0m\u001b[0;34m,\u001b[0m \u001b[0morder\u001b[0m\u001b[0;34m=\u001b[0m\u001b[0morder\u001b[0m\u001b[0;34m,\u001b[0m \u001b[0mdtype\u001b[0m\u001b[0;34m=\u001b[0m\u001b[0mdtype\u001b[0m\u001b[0;34m,\u001b[0m \u001b[0mxp\u001b[0m\u001b[0;34m=\u001b[0m\u001b[0mxp\u001b[0m\u001b[0;34m)\u001b[0m\u001b[0;34m\u001b[0m\u001b[0;34m\u001b[0m\u001b[0m\n\u001b[0m\u001b[1;32m    880\u001b[0m             \u001b[0;32mexcept\u001b[0m \u001b[0mComplexWarning\u001b[0m \u001b[0;32mas\u001b[0m \u001b[0mcomplex_warning\u001b[0m\u001b[0;34m:\u001b[0m\u001b[0;34m\u001b[0m\u001b[0;34m\u001b[0m\u001b[0m\n\u001b[1;32m    881\u001b[0m                 raise ValueError(\n",
            "\u001b[0;32m/usr/local/lib/python3.10/dist-packages/sklearn/utils/_array_api.py\u001b[0m in \u001b[0;36m_asarray_with_order\u001b[0;34m(array, dtype, order, copy, xp)\u001b[0m\n\u001b[1;32m    183\u001b[0m     \u001b[0;32mif\u001b[0m \u001b[0mxp\u001b[0m\u001b[0;34m.\u001b[0m\u001b[0m__name__\u001b[0m \u001b[0;32min\u001b[0m \u001b[0;34m{\u001b[0m\u001b[0;34m\"numpy\"\u001b[0m\u001b[0;34m,\u001b[0m \u001b[0;34m\"numpy.array_api\"\u001b[0m\u001b[0;34m}\u001b[0m\u001b[0;34m:\u001b[0m\u001b[0;34m\u001b[0m\u001b[0;34m\u001b[0m\u001b[0m\n\u001b[1;32m    184\u001b[0m         \u001b[0;31m# Use NumPy API to support order\u001b[0m\u001b[0;34m\u001b[0m\u001b[0;34m\u001b[0m\u001b[0m\n\u001b[0;32m--> 185\u001b[0;31m         \u001b[0marray\u001b[0m \u001b[0;34m=\u001b[0m \u001b[0mnumpy\u001b[0m\u001b[0;34m.\u001b[0m\u001b[0masarray\u001b[0m\u001b[0;34m(\u001b[0m\u001b[0marray\u001b[0m\u001b[0;34m,\u001b[0m \u001b[0morder\u001b[0m\u001b[0;34m=\u001b[0m\u001b[0morder\u001b[0m\u001b[0;34m,\u001b[0m \u001b[0mdtype\u001b[0m\u001b[0;34m=\u001b[0m\u001b[0mdtype\u001b[0m\u001b[0;34m)\u001b[0m\u001b[0;34m\u001b[0m\u001b[0;34m\u001b[0m\u001b[0m\n\u001b[0m\u001b[1;32m    186\u001b[0m         \u001b[0;32mreturn\u001b[0m \u001b[0mxp\u001b[0m\u001b[0;34m.\u001b[0m\u001b[0masarray\u001b[0m\u001b[0;34m(\u001b[0m\u001b[0marray\u001b[0m\u001b[0;34m,\u001b[0m \u001b[0mcopy\u001b[0m\u001b[0;34m=\u001b[0m\u001b[0mcopy\u001b[0m\u001b[0;34m)\u001b[0m\u001b[0;34m\u001b[0m\u001b[0;34m\u001b[0m\u001b[0m\n\u001b[1;32m    187\u001b[0m     \u001b[0;32melse\u001b[0m\u001b[0;34m:\u001b[0m\u001b[0;34m\u001b[0m\u001b[0;34m\u001b[0m\u001b[0m\n",
            "\u001b[0;32m/usr/local/lib/python3.10/dist-packages/pandas/core/generic.py\u001b[0m in \u001b[0;36m__array__\u001b[0;34m(self, dtype)\u001b[0m\n\u001b[1;32m   2068\u001b[0m \u001b[0;34m\u001b[0m\u001b[0m\n\u001b[1;32m   2069\u001b[0m     \u001b[0;32mdef\u001b[0m \u001b[0m__array__\u001b[0m\u001b[0;34m(\u001b[0m\u001b[0mself\u001b[0m\u001b[0;34m,\u001b[0m \u001b[0mdtype\u001b[0m\u001b[0;34m:\u001b[0m \u001b[0mnpt\u001b[0m\u001b[0;34m.\u001b[0m\u001b[0mDTypeLike\u001b[0m \u001b[0;34m|\u001b[0m \u001b[0;32mNone\u001b[0m \u001b[0;34m=\u001b[0m \u001b[0;32mNone\u001b[0m\u001b[0;34m)\u001b[0m \u001b[0;34m->\u001b[0m \u001b[0mnp\u001b[0m\u001b[0;34m.\u001b[0m\u001b[0mndarray\u001b[0m\u001b[0;34m:\u001b[0m\u001b[0;34m\u001b[0m\u001b[0;34m\u001b[0m\u001b[0m\n\u001b[0;32m-> 2070\u001b[0;31m         \u001b[0;32mreturn\u001b[0m \u001b[0mnp\u001b[0m\u001b[0;34m.\u001b[0m\u001b[0masarray\u001b[0m\u001b[0;34m(\u001b[0m\u001b[0mself\u001b[0m\u001b[0;34m.\u001b[0m\u001b[0m_values\u001b[0m\u001b[0;34m,\u001b[0m \u001b[0mdtype\u001b[0m\u001b[0;34m=\u001b[0m\u001b[0mdtype\u001b[0m\u001b[0;34m)\u001b[0m\u001b[0;34m\u001b[0m\u001b[0;34m\u001b[0m\u001b[0m\n\u001b[0m\u001b[1;32m   2071\u001b[0m \u001b[0;34m\u001b[0m\u001b[0m\n\u001b[1;32m   2072\u001b[0m     def __array_wrap__(\n",
            "\u001b[0;31mValueError\u001b[0m: could not convert string to float: '[1.0-310.9]'"
          ]
        }
      ]
    },
    {
      "cell_type": "code",
      "source": [
        "#print(predicciones)\n",
        "# Graficar los datos\n",
        "plt.plot(predicciones)\n",
        "\n",
        "# Agregar etiquetas al eje x y al eje y\n",
        "plt.xlabel('Registro')\n",
        "plt.ylabel('Produccion (t) Prediccion')\n",
        "\n",
        "# Mostrar el gráfico\n",
        "plt.show()\n"
      ],
      "metadata": {
        "id": "sIjEaPQCswvG"
      },
      "execution_count": null,
      "outputs": []
    },
    {
      "cell_type": "code",
      "source": [
        "# Seleccionar la columna que se desea graficar\n",
        "columna = df_BoyacaMD_V4['Produccion (t)']\n",
        "\n",
        "# Graficar los datos\n",
        "plt.plot(columna)\n",
        "\n",
        "# Agregar etiquetas al eje x y al eje y\n",
        "plt.xlabel('Registro')\n",
        "plt.ylabel('Produccion (t)')\n",
        "\n",
        "# Mostrar el gráfico\n",
        "plt.show()"
      ],
      "metadata": {
        "id": "yVLA51OItDif"
      },
      "execution_count": null,
      "outputs": []
    },
    {
      "cell_type": "markdown",
      "source": [
        "## Regresión Ridge"
      ],
      "metadata": {
        "id": "z_5xTeaaMG5U"
      }
    },
    {
      "cell_type": "code",
      "source": [
        "from sklearn.model_selection import train_test_split\n",
        "from sklearn.linear_model import Ridge\n",
        "from sklearn.preprocessing import OneHotEncoder\n",
        "\n",
        "# Paso 1: Preparar tus datos\n",
        "X = df_BoyacaMD_V4[['MUNICIPIO', 'CULTIVO', 'PERIODO', 'Area Sembrada (ha)', 'Area Cosechada (ha)']]\n",
        "y = df_BoyacaMD_V4['Produccion (t)']\n",
        "\n",
        "# Paso 2: Codificar las variables categóricas\n",
        "encoder = OneHotEncoder()\n",
        "X_encoded = encoder.fit_transform(X)\n",
        "\n",
        "# Paso 3: Dividir los datos en conjuntos de entrenamiento y prueba\n",
        "X_train, X_test, y_train, y_test = train_test_split(X_encoded, y, test_size=0.2, random_state=42)\n",
        "\n",
        "# Paso 4: Importar y ajustar el modelo de regresión Ridge\n",
        "ridge = Ridge(alpha=1)  # Configura el valor de alpha según tus necesidades\n",
        "ridge.fit(X_train, y_train)\n",
        "\n",
        "# Paso 5: Realizar predicciones\n",
        "y_pred = ridge.predict(X_test)\n",
        "\n",
        "# Calcular el error cuadrático medio (MSE) en las predicciones\n",
        "mse = mean_squared_error(y_test, y_pred)\n",
        "print(\"Error cuadrático medio (MSE):\", mse)\n"
      ],
      "metadata": {
        "id": "oY9F-5XOMfwr"
      },
      "execution_count": null,
      "outputs": []
    },
    {
      "cell_type": "markdown",
      "source": [
        "## Random Forest"
      ],
      "metadata": {
        "id": "iB7qLqYwMgJW"
      }
    },
    {
      "cell_type": "code",
      "source": [
        "from sklearn.ensemble import RandomForestRegressor\n",
        "from sklearn.model_selection import train_test_split\n",
        "from sklearn.metrics import mean_squared_error\n",
        "from sklearn.preprocessing import OneHotEncoder\n",
        "\n",
        "# Paso 1: Preparar tus datos\n",
        "y = df_BoyacaMD_V4['Produccion (t)']\n",
        "\n",
        "#Paso 2: codificar datos categóricos\n",
        "# Crear un nuevo dataframe solo con las columnas categóricas\n",
        "categorical_cols = ['MUNICIPIO', 'CULTIVO', 'PERIODO']\n",
        "X_categorical = df_BoyacaMD_V4[categorical_cols]\n",
        "\n",
        "# Crear una instancia de OneHotEncoder\n",
        "encoder = OneHotEncoder(sparse=False)\n",
        "# Ajustar y transformar los datos categóricos\n",
        "X_encoded = encoder.fit_transform(X_categorical)\n",
        "# Crear un dataframe a partir de los datos codificados\n",
        "X_encoded_df = pd.DataFrame(X_encoded, columns=encoder.get_feature_names_out(categorical_cols))\n",
        "# Concatenar el dataframe codificado con las columnas numéricas\n",
        "X = pd.concat([X_encoded_df, df_BoyacaMD_V4[['Area Sembrada (ha)', 'Area Cosechada (ha)']]], axis=1)\n",
        "\n",
        "\n",
        "# Dividir los datos en conjuntos de entrenamiento y prueba\n",
        "X_train, X_test, y_train, y_test = train_test_split(X, y, test_size=0.2, random_state=42)\n",
        "\n",
        "# Crear y entrenar el modelo de Random Forest\n",
        "model = RandomForestRegressor(n_estimators=500, random_state=42)\n",
        "model.fit(X_train, y_train)\n",
        "\n",
        "# Realizar la predicción en el conjunto de prueba\n",
        "y_pred = model.predict(X_test)\n",
        "\n",
        "# Evaluar el rendimiento del modelo\n",
        "mse = mean_squared_error(y_test, y_pred)\n",
        "print(\"Error cuadrático medio (MSE):\", mse)\n",
        "\n"
      ],
      "metadata": {
        "id": "XfGwnRZCMh4Y"
      },
      "execution_count": null,
      "outputs": []
    },
    {
      "cell_type": "code",
      "source": [
        "# Seleccionar la columna que se desea graficar\n",
        "columna = df_BoyacaMD_V4['Produccion (t)']\n",
        "\n",
        "# Graficar los datos\n",
        "plt.plot(columna)\n",
        "\n",
        "# Agregar etiquetas al eje x y al eje y\n",
        "plt.xlabel('Registro')\n",
        "plt.ylabel('Produccion (t)')\n",
        "\n",
        "# Mostrar el gráfico\n",
        "plt.show()\n"
      ],
      "metadata": {
        "id": "vDzfeO0NTBUX"
      },
      "execution_count": null,
      "outputs": []
    },
    {
      "cell_type": "code",
      "source": [
        "# Graficar los datos\n",
        "plt.plot(y_pred)\n",
        "\n",
        "# Agregar etiquetas al eje x y al eje y\n",
        "plt.xlabel('Registro')\n",
        "plt.ylabel('Produccion (t) Prediccion')\n",
        "\n",
        "# Mostrar el gráfico\n",
        "plt.show()"
      ],
      "metadata": {
        "id": "tCYIcDl4TDCW"
      },
      "execution_count": null,
      "outputs": []
    },
    {
      "cell_type": "markdown",
      "source": [
        "## Gradient Boosting"
      ],
      "metadata": {
        "id": "LiVrvGHnYC22"
      }
    },
    {
      "cell_type": "code",
      "source": [
        "import pandas as pd\n",
        "from sklearn.preprocessing import OneHotEncoder\n",
        "from sklearn.ensemble import GradientBoostingRegressor\n",
        "from sklearn.model_selection import train_test_split\n",
        "from sklearn.metrics import mean_squared_error\n",
        "\n",
        "# Crear un nuevo dataframe solo con las columnas categóricas\n",
        "categorical_cols = ['MUNICIPIO', 'CULTIVO', 'PERIODO']\n",
        "X_categorical = df_BoyacaMD_V4[categorical_cols]\n",
        "\n",
        "# Crear una instancia de OneHotEncoder\n",
        "encoder = OneHotEncoder(sparse=False)\n",
        "\n",
        "# Ajustar y transformar los datos categóricos\n",
        "X_encoded = encoder.fit_transform(X_categorical)\n",
        "\n",
        "# Crear un dataframe a partir de los datos codificados\n",
        "X_encoded_df = pd.DataFrame(X_encoded, columns=encoder.get_feature_names_out(categorical_cols))\n",
        "\n",
        "# Concatenar el dataframe codificado con las columnas numéricas\n",
        "X = pd.concat([X_encoded_df, df_BoyacaMD_V4[['Area Sembrada (ha)', 'Area Cosechada (ha)']]], axis=1)\n",
        "\n",
        "# Definir el target o variable a predecir\n",
        "y = df_BoyacaMD_V4['Produccion (t)']\n",
        "\n",
        "# Dividir los datos en conjuntos de entrenamiento y prueba\n",
        "X_train, X_test, y_train, y_test = train_test_split(X, y, test_size=0.2, random_state=42)\n",
        "\n",
        "# Crear y entrenar el modelo de Gradient Boosting\n",
        "model = GradientBoostingRegressor(n_estimators=100, learning_rate=0.1, random_state=42)\n",
        "model.fit(X_train, y_train)\n",
        "\n",
        "# Realizar la predicción en el conjunto de prueba\n",
        "y_pred = model.predict(X_test)\n",
        "\n",
        "# Evaluar el rendimiento del modelo\n",
        "mse = mean_squared_error(y_test, y_pred)\n",
        "print(\"Error cuadrático medio (MSE):\", mse)\n"
      ],
      "metadata": {
        "id": "nEnf7-fCYCWP"
      },
      "execution_count": null,
      "outputs": []
    },
    {
      "cell_type": "code",
      "source": [
        "# Graficar los datos\n",
        "plt.plot(y_pred)\n",
        "\n",
        "# Agregar etiquetas al eje x y al eje y\n",
        "plt.xlabel('Registro')\n",
        "plt.ylabel('Produccion (t) Prediccion')\n",
        "\n",
        "# Mostrar el gráfico\n",
        "plt.show()"
      ],
      "metadata": {
        "id": "NSUkGeJid7gt"
      },
      "execution_count": null,
      "outputs": []
    },
    {
      "cell_type": "markdown",
      "source": [
        "## Red neuronal multicapa"
      ],
      "metadata": {
        "id": "TFiyLdqfo8Zg"
      }
    },
    {
      "cell_type": "code",
      "source": [
        "from sklearn.neural_network import MLPRegressor\n",
        "from sklearn.preprocessing import StandardScaler\n",
        "from sklearn.model_selection import train_test_split\n",
        "\n",
        "# Codificación one-hot de variables categóricas\n",
        "df_encoded = pd.get_dummies(df_BoyacaMD_V4, columns=['MUNICIPIO', 'CULTIVO', 'PERIODO'])\n",
        "\n",
        "\n",
        "# Divide los datos en variables independientes (X) y variable dependiente (y)\n",
        "X = df_encoded.drop('Produccion (t)', axis=1)\n",
        "y = df_encoded['Produccion (t)']\n",
        "\n",
        "\n",
        "# Divide los datos en conjuntos de entrenamiento y prueba\n",
        "X_train, X_test, y_train, y_test = train_test_split(X, y, test_size=0.2, random_state=42)\n",
        "\n",
        "# Normaliza los datos numéricos\n",
        "scaler = StandardScaler()\n",
        "X_train_scaled = scaler.fit_transform(X_train)\n",
        "X_test_scaled = scaler.transform(X_test)\n",
        "\n",
        "# Crea el modelo de red neuronal MLP\n",
        "model = MLPRegressor(hidden_layer_sizes=(100, 50), activation='relu', random_state=42)\n",
        "model = MLPRegressor(max_iter=1500)\n",
        "# Entrena el modelo\n",
        "model.fit(X_train_scaled, y_train)\n",
        "\n",
        "# Realiza la predicción en el conjunto de prueba\n",
        "y_pred = model.predict(X_test_scaled)\n",
        "\n",
        "# Evalúa el rendimiento del modelo\n",
        "mse = mean_squared_error(y_test, y_pred)\n",
        "print(\"Error cuadrático medio (MSE):\", mse)"
      ],
      "metadata": {
        "id": "5H_5XUj9pAGs"
      },
      "execution_count": null,
      "outputs": []
    },
    {
      "cell_type": "code",
      "source": [
        "from sklearn.neural_network import MLPRegressor\n",
        "from sklearn.preprocessing import OneHotEncoder\n",
        "from sklearn.model_selection import train_test_split\n",
        "from sklearn.metrics import mean_squared_error\n",
        "\n",
        "# Preparar los datos\n",
        "X = df_BoyacaMD_V4[['MUNICIPIO', 'CULTIVO', 'PERIODO', 'Area Sembrada (ha)', 'Area Cosechada (ha)']]\n",
        "y = df_BoyacaMD_V4['Produccion (t)']\n",
        "\n",
        "# Codificar variables categóricas utilizando one-hot encoding\n",
        "encoder = OneHotEncoder()\n",
        "X_encoded = encoder.fit_transform(X[['MUNICIPIO', 'CULTIVO', 'PERIODO']])\n",
        "\n",
        "# Dividir los datos en conjuntos de entrenamiento y prueba\n",
        "X_train, X_test, y_train, y_test = train_test_split(X_encoded, y, test_size=0.2, random_state=42)\n",
        "\n",
        "# Escalar los datos\n",
        "scaler = StandardScaler(with_mean=False)\n",
        "X_train_scaled = scaler.fit_transform(X_train)\n",
        "X_test_scaled = scaler.transform(X_test)\n",
        "\n",
        "# Crear y entrenar el modelo de red neuronal\n",
        "model = MLPRegressor(hidden_layer_sizes=(100, 50), activation='relu', solver='adam', random_state=42)\n",
        "model = MLPRegressor(max_iter=500)\n",
        "\n",
        "#Entrenar modelo\n",
        "model.fit(X_train_scaled, y_train)\n",
        "\n",
        "\n",
        "# Realizar predicciones en los datos de prueba\n",
        "y_pred = model.predict(X_test_scaled)\n",
        "\n",
        "# Evaluar el rendimiento del modelo\n",
        "mse = mean_squared_error(y_test, y_pred)\n",
        "print(\"Error cuadrático medio (MSE):\", mse)\n"
      ],
      "metadata": {
        "id": "UzaeYwRvwySF"
      },
      "execution_count": null,
      "outputs": []
    },
    {
      "cell_type": "code",
      "source": [
        "# Graficar los datos\n",
        "plt.plot(y_pred)\n",
        "\n",
        "# Agregar etiquetas al eje x y al eje y\n",
        "plt.xlabel('Registro')\n",
        "plt.ylabel('Produccion (t) Prediccion')\n",
        "\n",
        "# Mostrar el gráfico\n",
        "plt.show()"
      ],
      "metadata": {
        "id": "VuQ2yQtGxfcj"
      },
      "execution_count": null,
      "outputs": []
    },
    {
      "cell_type": "markdown",
      "source": [
        "### Validación cruzada No sirve\n"
      ],
      "metadata": {
        "id": "8fX9EVSa1y7x"
      }
    },
    {
      "cell_type": "code",
      "source": [
        "from sklearn.neural_network import MLPRegressor\n",
        "from sklearn.model_selection import GridSearchCV\n",
        "from sklearn.preprocessing import StandardScaler\n",
        "\n",
        "\n",
        "# Preparar los datos\n",
        "X = df_BoyacaMD_V4[['MUNICIPIO', 'CULTIVO', 'PERIODO', 'Area Sembrada (ha)', 'Area Cosechada (ha)']]\n",
        "y = df_BoyacaMD_V4['Produccion (t)']\n",
        "\n",
        "# Codificar variables categóricas utilizando one-hot encoding\n",
        "encoder = OneHotEncoder()\n",
        "X_encoded = encoder.fit_transform(X[['MUNICIPIO', 'CULTIVO', 'PERIODO']])\n",
        "\n",
        "\n",
        "\n",
        "# Preprocesamiento de datos - Escalado de características\n",
        "scaler = StandardScaler(with_mean=False)\n",
        "X_scaled = scaler.fit_transform(X_encoded)\n",
        "\n",
        "# Definir el modelo de red neuronal\n",
        "mlp = MLPRegressor(random_state=42)\n",
        "\n",
        "# Definir los parámetros a ajustar\n",
        "parameters = {\n",
        "    'hidden_layer_sizes': [(10,), (50,), (100,), (50, 50)],\n",
        "    'activation': ['relu', 'tanh'],\n",
        "    'alpha': [0.0001, 0.001, 0.01],\n",
        "    'learning_rate': ['constant', 'adaptive'],\n",
        "    'max_iter': [200, 500, 1000]\n",
        "}\n",
        "\n",
        "# Realizar la búsqueda de hiperparámetros utilizando validación cruzada\n",
        "grid_search = GridSearchCV(mlp, parameters, cv=5)\n",
        "grid_search.fit(X_scaled, y)\n",
        "\n",
        "# Obtener los mejores parámetros y el mejor modelo\n",
        "best_params = grid_search.best_params_\n",
        "best_model = grid_search.best_estimator_\n",
        "\n",
        "# Imprimir los mejores parámetros encontrados\n",
        "print(\"Mejores parámetros:\", best_params)\n",
        "\n",
        "# Entrenar el modelo con los mejores parámetros\n",
        "best_model.fit(X_scaled, y)\n"
      ],
      "metadata": {
        "id": "xT8XBc6c1yd2"
      },
      "execution_count": null,
      "outputs": []
    }
  ]
}